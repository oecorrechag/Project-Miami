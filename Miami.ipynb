{
 "cells": [
  {
   "cell_type": "markdown",
   "id": "46646efc",
   "metadata": {},
   "source": [
    "## Starbucks Capstone Challenge\n",
    "\n",
    "### Data Sets\n",
    "\n",
    "* portfolio.json: contiene ID de oferta y metadatos sobre cada oferta (duración, tipo, etc.)\n",
    "* profile.json - datos demográficos de cada cliente\n",
    "* transcript.json: registros de transacciones, ofertas recibidas, ofertas vistas y ofertas completadas\n",
    "\n",
    "\n",
    "Preguntas guía:\n",
    "\n",
    "1. ¿Las personas reaccionan de manera diferente a las diferentes promociones?\n",
    "    - En caso afirmativo, ¿cómo reacciona la gente a las diferentes promociones?\n",
    "2. ¿Cuáles son los factores que afectan estas reacciones?\n",
    "\n",
    "Preguntas soporte\n",
    "\n",
    "* ¿Cuál es la distribución de género de los clientes de Starbucks?\n",
    "* ¿Cuál es la distribución por edad de los clientes de Starbucks?\n",
    "* ¿Cuál es la distribución de ingresos de los clientes de Starbucks?\n",
    "* ¿Cuántos clientes se inscribieron anualmente?\n",
    "* ¿Qué género tiene la membresía anual más alta?\n",
    "* ¿Qué género tiene el ingreso anual más alto?\n",
    "* ¿Cuál es la distribución de eventos en las transcripciones?\n",
    "* ¿Cuál es el porcentaje de transacciones y ofertas en el evento?\n",
    "* ¿Cuál es la Distribución de Ingresos para los Eventos de la Oferta?\n",
    "* ¿Cuáles son los tipos de Oferta entre edades, sexos y grupos de ingresos?"
   ]
  },
  {
   "cell_type": "code",
   "execution_count": 1,
   "id": "87171dc0",
   "metadata": {},
   "outputs": [],
   "source": [
    "import pandas as pd\n",
    "import numpy as np\n",
    "import math\n",
    "import json\n",
    "import seaborn as sb\n",
    "import matplotlib.pyplot as plt\n",
    "\n",
    "from sklearn.model_selection import train_test_split\n",
    "\n",
    "from sklearn.preprocessing import StandardScaler, MultiLabelBinarizer, MinMaxScaler, OneHotEncoder\n",
    "\n",
    "from sklearn.linear_model import LinearRegression\n",
    "from sklearn.linear_model import LogisticRegression\n",
    "from sklearn.ensemble import RandomForestRegressor\n",
    "\n",
    "from sklearn.metrics import confusion_matrix, classification_report\n",
    "from sklearn.metrics import accuracy_score, r2_score, mean_squared_error, mean_absolute_error\n",
    "\n",
    "from sklearn import preprocessing\n",
    "from sklearn import cluster\n",
    "from sklearn.cluster import KMeans"
   ]
  },
  {
   "cell_type": "code",
   "execution_count": 2,
   "id": "43b1bc8a",
   "metadata": {},
   "outputs": [],
   "source": [
    "# read in the json files\n",
    "portfolio = pd.read_json('data/portfolio.json', orient='records', lines=True)\n",
    "profile = pd.read_json('data/profile.json', orient='records', lines=True)\n",
    "transcript = pd.read_json('data/transcript.json', orient='records', lines=True)"
   ]
  },
  {
   "cell_type": "markdown",
   "id": "14f27349",
   "metadata": {},
   "source": [
    "# Data Preparing:\n",
    "\n",
    "## portfolio.json:\n",
    "\n",
    "* portfolio dataset contains 10 records and 6 columns.  "
   ]
  },
  {
   "cell_type": "code",
   "execution_count": 3,
   "id": "f82a63d9",
   "metadata": {},
   "outputs": [
    {
     "data": {
      "text/html": [
       "<div>\n",
       "<style scoped>\n",
       "    .dataframe tbody tr th:only-of-type {\n",
       "        vertical-align: middle;\n",
       "    }\n",
       "\n",
       "    .dataframe tbody tr th {\n",
       "        vertical-align: top;\n",
       "    }\n",
       "\n",
       "    .dataframe thead th {\n",
       "        text-align: right;\n",
       "    }\n",
       "</style>\n",
       "<table border=\"1\" class=\"dataframe\">\n",
       "  <thead>\n",
       "    <tr style=\"text-align: right;\">\n",
       "      <th></th>\n",
       "      <th>reward</th>\n",
       "      <th>channels</th>\n",
       "      <th>difficulty</th>\n",
       "      <th>duration</th>\n",
       "      <th>offer_type</th>\n",
       "      <th>id</th>\n",
       "    </tr>\n",
       "  </thead>\n",
       "  <tbody>\n",
       "    <tr>\n",
       "      <th>0</th>\n",
       "      <td>10</td>\n",
       "      <td>[email, mobile, social]</td>\n",
       "      <td>10</td>\n",
       "      <td>7</td>\n",
       "      <td>bogo</td>\n",
       "      <td>ae264e3637204a6fb9bb56bc8210ddfd</td>\n",
       "    </tr>\n",
       "    <tr>\n",
       "      <th>1</th>\n",
       "      <td>10</td>\n",
       "      <td>[web, email, mobile, social]</td>\n",
       "      <td>10</td>\n",
       "      <td>5</td>\n",
       "      <td>bogo</td>\n",
       "      <td>4d5c57ea9a6940dd891ad53e9dbe8da0</td>\n",
       "    </tr>\n",
       "    <tr>\n",
       "      <th>2</th>\n",
       "      <td>0</td>\n",
       "      <td>[web, email, mobile]</td>\n",
       "      <td>0</td>\n",
       "      <td>4</td>\n",
       "      <td>informational</td>\n",
       "      <td>3f207df678b143eea3cee63160fa8bed</td>\n",
       "    </tr>\n",
       "    <tr>\n",
       "      <th>3</th>\n",
       "      <td>5</td>\n",
       "      <td>[web, email, mobile]</td>\n",
       "      <td>5</td>\n",
       "      <td>7</td>\n",
       "      <td>bogo</td>\n",
       "      <td>9b98b8c7a33c4b65b9aebfe6a799e6d9</td>\n",
       "    </tr>\n",
       "    <tr>\n",
       "      <th>4</th>\n",
       "      <td>5</td>\n",
       "      <td>[web, email]</td>\n",
       "      <td>20</td>\n",
       "      <td>10</td>\n",
       "      <td>discount</td>\n",
       "      <td>0b1e1539f2cc45b7b9fa7c272da2e1d7</td>\n",
       "    </tr>\n",
       "  </tbody>\n",
       "</table>\n",
       "</div>"
      ],
      "text/plain": [
       "   reward                      channels  difficulty  duration     offer_type  \\\n",
       "0      10       [email, mobile, social]          10         7           bogo   \n",
       "1      10  [web, email, mobile, social]          10         5           bogo   \n",
       "2       0          [web, email, mobile]           0         4  informational   \n",
       "3       5          [web, email, mobile]           5         7           bogo   \n",
       "4       5                  [web, email]          20        10       discount   \n",
       "\n",
       "                                 id  \n",
       "0  ae264e3637204a6fb9bb56bc8210ddfd  \n",
       "1  4d5c57ea9a6940dd891ad53e9dbe8da0  \n",
       "2  3f207df678b143eea3cee63160fa8bed  \n",
       "3  9b98b8c7a33c4b65b9aebfe6a799e6d9  \n",
       "4  0b1e1539f2cc45b7b9fa7c272da2e1d7  "
      ]
     },
     "execution_count": 3,
     "metadata": {},
     "output_type": "execute_result"
    }
   ],
   "source": [
    "portfolio.head()"
   ]
  },
  {
   "cell_type": "code",
   "execution_count": 4,
   "id": "56a7a83e",
   "metadata": {},
   "outputs": [
    {
     "data": {
      "text/plain": [
       "(10, 6)"
      ]
     },
     "execution_count": 4,
     "metadata": {},
     "output_type": "execute_result"
    }
   ],
   "source": [
    "portfolio.shape"
   ]
  },
  {
   "cell_type": "code",
   "execution_count": 5,
   "id": "89f36efd",
   "metadata": {},
   "outputs": [
    {
     "name": "stdout",
     "output_type": "stream",
     "text": [
      "<class 'pandas.core.frame.DataFrame'>\n",
      "RangeIndex: 10 entries, 0 to 9\n",
      "Data columns (total 6 columns):\n",
      " #   Column      Non-Null Count  Dtype \n",
      "---  ------      --------------  ----- \n",
      " 0   reward      10 non-null     int64 \n",
      " 1   channels    10 non-null     object\n",
      " 2   difficulty  10 non-null     int64 \n",
      " 3   duration    10 non-null     int64 \n",
      " 4   offer_type  10 non-null     object\n",
      " 5   id          10 non-null     object\n",
      "dtypes: int64(3), object(3)\n",
      "memory usage: 608.0+ bytes\n"
     ]
    }
   ],
   "source": [
    "portfolio.info()"
   ]
  },
  {
   "cell_type": "code",
   "execution_count": 6,
   "id": "ee63279e",
   "metadata": {},
   "outputs": [
    {
     "name": "stdout",
     "output_type": "stream",
     "text": [
      "minimum duration:  3\n",
      "maximun duration:  10\n"
     ]
    }
   ],
   "source": [
    "print('minimum duration: ', portfolio.duration.min())\n",
    "print('maximun duration: ',portfolio.duration.max())"
   ]
  },
  {
   "cell_type": "code",
   "execution_count": 7,
   "id": "a6c048cc",
   "metadata": {},
   "outputs": [
    {
     "name": "stdout",
     "output_type": "stream",
     "text": [
      "mean reward value:  4.2\n",
      "median reward value:  4.0\n"
     ]
    }
   ],
   "source": [
    "print('mean reward value: ', portfolio.reward.mean())\n",
    "print('median reward value: ',portfolio.reward.median())"
   ]
  },
  {
   "cell_type": "code",
   "execution_count": 8,
   "id": "07304316",
   "metadata": {},
   "outputs": [
    {
     "data": {
      "text/html": [
       "<div>\n",
       "<style scoped>\n",
       "    .dataframe tbody tr th:only-of-type {\n",
       "        vertical-align: middle;\n",
       "    }\n",
       "\n",
       "    .dataframe tbody tr th {\n",
       "        vertical-align: top;\n",
       "    }\n",
       "\n",
       "    .dataframe thead th {\n",
       "        text-align: right;\n",
       "    }\n",
       "</style>\n",
       "<table border=\"1\" class=\"dataframe\">\n",
       "  <thead>\n",
       "    <tr style=\"text-align: right;\">\n",
       "      <th></th>\n",
       "      <th>reward</th>\n",
       "      <th>difficulty</th>\n",
       "      <th>duration</th>\n",
       "    </tr>\n",
       "  </thead>\n",
       "  <tbody>\n",
       "    <tr>\n",
       "      <th>count</th>\n",
       "      <td>10.000000</td>\n",
       "      <td>10.000000</td>\n",
       "      <td>10.000000</td>\n",
       "    </tr>\n",
       "    <tr>\n",
       "      <th>mean</th>\n",
       "      <td>4.200000</td>\n",
       "      <td>7.700000</td>\n",
       "      <td>6.500000</td>\n",
       "    </tr>\n",
       "    <tr>\n",
       "      <th>std</th>\n",
       "      <td>3.583915</td>\n",
       "      <td>5.831905</td>\n",
       "      <td>2.321398</td>\n",
       "    </tr>\n",
       "    <tr>\n",
       "      <th>min</th>\n",
       "      <td>0.000000</td>\n",
       "      <td>0.000000</td>\n",
       "      <td>3.000000</td>\n",
       "    </tr>\n",
       "    <tr>\n",
       "      <th>25%</th>\n",
       "      <td>2.000000</td>\n",
       "      <td>5.000000</td>\n",
       "      <td>5.000000</td>\n",
       "    </tr>\n",
       "    <tr>\n",
       "      <th>50%</th>\n",
       "      <td>4.000000</td>\n",
       "      <td>8.500000</td>\n",
       "      <td>7.000000</td>\n",
       "    </tr>\n",
       "    <tr>\n",
       "      <th>75%</th>\n",
       "      <td>5.000000</td>\n",
       "      <td>10.000000</td>\n",
       "      <td>7.000000</td>\n",
       "    </tr>\n",
       "    <tr>\n",
       "      <th>max</th>\n",
       "      <td>10.000000</td>\n",
       "      <td>20.000000</td>\n",
       "      <td>10.000000</td>\n",
       "    </tr>\n",
       "  </tbody>\n",
       "</table>\n",
       "</div>"
      ],
      "text/plain": [
       "          reward  difficulty   duration\n",
       "count  10.000000   10.000000  10.000000\n",
       "mean    4.200000    7.700000   6.500000\n",
       "std     3.583915    5.831905   2.321398\n",
       "min     0.000000    0.000000   3.000000\n",
       "25%     2.000000    5.000000   5.000000\n",
       "50%     4.000000    8.500000   7.000000\n",
       "75%     5.000000   10.000000   7.000000\n",
       "max    10.000000   20.000000  10.000000"
      ]
     },
     "execution_count": 8,
     "metadata": {},
     "output_type": "execute_result"
    }
   ],
   "source": [
    "portfolio.describe()"
   ]
  },
  {
   "cell_type": "code",
   "execution_count": 9,
   "id": "f66636bc",
   "metadata": {},
   "outputs": [
    {
     "data": {
      "text/plain": [
       "count       10\n",
       "unique       3\n",
       "top       bogo\n",
       "freq         4\n",
       "Name: offer_type, dtype: object"
      ]
     },
     "execution_count": 9,
     "metadata": {},
     "output_type": "execute_result"
    }
   ],
   "source": [
    "portfolio.offer_type.describe()"
   ]
  },
  {
   "cell_type": "code",
   "execution_count": 10,
   "id": "5596ef46",
   "metadata": {},
   "outputs": [
    {
     "data": {
      "text/plain": [
       "0         [email, mobile, social]\n",
       "1    [web, email, mobile, social]\n",
       "2            [web, email, mobile]\n",
       "3            [web, email, mobile]\n",
       "4                    [web, email]\n",
       "5    [web, email, mobile, social]\n",
       "6    [web, email, mobile, social]\n",
       "7         [email, mobile, social]\n",
       "8    [web, email, mobile, social]\n",
       "9            [web, email, mobile]\n",
       "Name: channels, dtype: object"
      ]
     },
     "execution_count": 10,
     "metadata": {},
     "output_type": "execute_result"
    }
   ],
   "source": [
    "portfolio.channels"
   ]
  },
  {
   "cell_type": "code",
   "execution_count": 11,
   "id": "d202909e",
   "metadata": {},
   "outputs": [
    {
     "data": {
      "text/plain": [
       "bogo             4\n",
       "discount         4\n",
       "informational    2\n",
       "Name: offer_type, dtype: int64"
      ]
     },
     "execution_count": 11,
     "metadata": {},
     "output_type": "execute_result"
    }
   ],
   "source": [
    "portfolio.offer_type.value_counts()"
   ]
  },
  {
   "cell_type": "code",
   "execution_count": 12,
   "id": "dc8f3168",
   "metadata": {},
   "outputs": [
    {
     "data": {
      "text/plain": [
       "5     3\n",
       "10    2\n",
       "0     2\n",
       "2     2\n",
       "3     1\n",
       "Name: reward, dtype: int64"
      ]
     },
     "execution_count": 12,
     "metadata": {},
     "output_type": "execute_result"
    }
   ],
   "source": [
    "portfolio.reward.value_counts()"
   ]
  },
  {
   "cell_type": "code",
   "execution_count": 13,
   "id": "b8c65641",
   "metadata": {},
   "outputs": [
    {
     "data": {
      "text/plain": [
       "7     4\n",
       "5     2\n",
       "10    2\n",
       "4     1\n",
       "3     1\n",
       "Name: duration, dtype: int64"
      ]
     },
     "execution_count": 13,
     "metadata": {},
     "output_type": "execute_result"
    }
   ],
   "source": [
    "portfolio.duration.value_counts()"
   ]
  },
  {
   "cell_type": "code",
   "execution_count": 14,
   "id": "57b99687",
   "metadata": {},
   "outputs": [
    {
     "data": {
      "text/plain": [
       "10    4\n",
       "0     2\n",
       "5     2\n",
       "20    1\n",
       "7     1\n",
       "Name: difficulty, dtype: int64"
      ]
     },
     "execution_count": 14,
     "metadata": {},
     "output_type": "execute_result"
    }
   ],
   "source": [
    "portfolio.difficulty.value_counts()"
   ]
  },
  {
   "cell_type": "code",
   "execution_count": 15,
   "id": "c883f0be",
   "metadata": {},
   "outputs": [
    {
     "data": {
      "text/plain": [
       "reward        0\n",
       "channels      0\n",
       "difficulty    0\n",
       "duration      0\n",
       "offer_type    0\n",
       "id            0\n",
       "dtype: int64"
      ]
     },
     "execution_count": 15,
     "metadata": {},
     "output_type": "execute_result"
    }
   ],
   "source": [
    "portfolio.isnull().sum()"
   ]
  },
  {
   "cell_type": "code",
   "execution_count": 16,
   "id": "c9f86b16",
   "metadata": {},
   "outputs": [
    {
     "data": {
      "text/plain": [
       "0"
      ]
     },
     "execution_count": 16,
     "metadata": {},
     "output_type": "execute_result"
    }
   ],
   "source": [
    "sum(portfolio.duplicated('id'))"
   ]
  },
  {
   "cell_type": "code",
   "execution_count": 17,
   "id": "ead5bcc6",
   "metadata": {},
   "outputs": [
    {
     "name": "stdout",
     "output_type": "stream",
     "text": [
      "3\n",
      "['bogo' 'informational' 'discount']\n"
     ]
    }
   ],
   "source": [
    "print(portfolio.offer_type.nunique())\n",
    "print(portfolio.offer_type.unique())"
   ]
  },
  {
   "cell_type": "code",
   "execution_count": 18,
   "id": "cd322017",
   "metadata": {},
   "outputs": [
    {
     "data": {
      "text/plain": [
       "offer_type\n",
       "bogo             4\n",
       "discount         4\n",
       "informational    2\n",
       "Name: id, dtype: int64"
      ]
     },
     "execution_count": 18,
     "metadata": {},
     "output_type": "execute_result"
    }
   ],
   "source": [
    "portfolio.groupby('offer_type')['id'].count()"
   ]
  },
  {
   "cell_type": "code",
   "execution_count": 19,
   "id": "f7a91607",
   "metadata": {},
   "outputs": [
    {
     "data": {
      "text/html": [
       "<div>\n",
       "<style scoped>\n",
       "    .dataframe tbody tr th:only-of-type {\n",
       "        vertical-align: middle;\n",
       "    }\n",
       "\n",
       "    .dataframe tbody tr th {\n",
       "        vertical-align: top;\n",
       "    }\n",
       "\n",
       "    .dataframe thead th {\n",
       "        text-align: right;\n",
       "    }\n",
       "</style>\n",
       "<table border=\"1\" class=\"dataframe\">\n",
       "  <thead>\n",
       "    <tr style=\"text-align: right;\">\n",
       "      <th></th>\n",
       "      <th>offer_type</th>\n",
       "      <th>difficulty</th>\n",
       "      <th>duration</th>\n",
       "      <th>reward</th>\n",
       "    </tr>\n",
       "  </thead>\n",
       "  <tbody>\n",
       "    <tr>\n",
       "      <th>0</th>\n",
       "      <td>bogo</td>\n",
       "      <td>10</td>\n",
       "      <td>7</td>\n",
       "      <td>10</td>\n",
       "    </tr>\n",
       "    <tr>\n",
       "      <th>1</th>\n",
       "      <td>bogo</td>\n",
       "      <td>10</td>\n",
       "      <td>5</td>\n",
       "      <td>10</td>\n",
       "    </tr>\n",
       "    <tr>\n",
       "      <th>2</th>\n",
       "      <td>informational</td>\n",
       "      <td>0</td>\n",
       "      <td>4</td>\n",
       "      <td>0</td>\n",
       "    </tr>\n",
       "    <tr>\n",
       "      <th>3</th>\n",
       "      <td>bogo</td>\n",
       "      <td>5</td>\n",
       "      <td>7</td>\n",
       "      <td>5</td>\n",
       "    </tr>\n",
       "    <tr>\n",
       "      <th>4</th>\n",
       "      <td>discount</td>\n",
       "      <td>20</td>\n",
       "      <td>10</td>\n",
       "      <td>5</td>\n",
       "    </tr>\n",
       "    <tr>\n",
       "      <th>5</th>\n",
       "      <td>discount</td>\n",
       "      <td>7</td>\n",
       "      <td>7</td>\n",
       "      <td>3</td>\n",
       "    </tr>\n",
       "    <tr>\n",
       "      <th>6</th>\n",
       "      <td>discount</td>\n",
       "      <td>10</td>\n",
       "      <td>10</td>\n",
       "      <td>2</td>\n",
       "    </tr>\n",
       "    <tr>\n",
       "      <th>7</th>\n",
       "      <td>informational</td>\n",
       "      <td>0</td>\n",
       "      <td>3</td>\n",
       "      <td>0</td>\n",
       "    </tr>\n",
       "    <tr>\n",
       "      <th>8</th>\n",
       "      <td>bogo</td>\n",
       "      <td>5</td>\n",
       "      <td>5</td>\n",
       "      <td>5</td>\n",
       "    </tr>\n",
       "    <tr>\n",
       "      <th>9</th>\n",
       "      <td>discount</td>\n",
       "      <td>10</td>\n",
       "      <td>7</td>\n",
       "      <td>2</td>\n",
       "    </tr>\n",
       "  </tbody>\n",
       "</table>\n",
       "</div>"
      ],
      "text/plain": [
       "      offer_type  difficulty  duration  reward\n",
       "0           bogo          10         7      10\n",
       "1           bogo          10         5      10\n",
       "2  informational           0         4       0\n",
       "3           bogo           5         7       5\n",
       "4       discount          20        10       5\n",
       "5       discount           7         7       3\n",
       "6       discount          10        10       2\n",
       "7  informational           0         3       0\n",
       "8           bogo           5         5       5\n",
       "9       discount          10         7       2"
      ]
     },
     "execution_count": 19,
     "metadata": {},
     "output_type": "execute_result"
    }
   ],
   "source": [
    "portfolio[['offer_type', 'difficulty', 'duration', 'reward']]"
   ]
  },
  {
   "cell_type": "code",
   "execution_count": 20,
   "id": "957e9653",
   "metadata": {},
   "outputs": [
    {
     "name": "stdout",
     "output_type": "stream",
     "text": [
      " offer-bogo:-- 10:difficulty, 7:duration, 10:reward \n",
      " offer-bogo:-- 10:difficulty, 5:duration, 10:reward \n",
      " offer-informational:-- 0:difficulty, 4:duration, 0:reward \n",
      " offer-bogo:-- 5:difficulty, 7:duration, 5:reward \n",
      " offer-discount:-- 20:difficulty, 10:duration, 5:reward \n",
      " offer-discount:-- 7:difficulty, 7:duration, 3:reward \n",
      " offer-discount:-- 10:difficulty, 10:duration, 2:reward \n",
      " offer-informational:-- 0:difficulty, 3:duration, 0:reward \n",
      " offer-bogo:-- 5:difficulty, 5:duration, 5:reward \n",
      " offer-discount:-- 10:difficulty, 7:duration, 2:reward \n"
     ]
    }
   ],
   "source": [
    "for ele in range(portfolio.shape[0]):\n",
    "    row = portfolio.iloc[ele]\n",
    "    print(\" offer-{}:-- {}:difficulty, {}:duration, {}:reward \".format(row['offer_type'], row['difficulty'], row['duration'], row['reward']))"
   ]
  },
  {
   "cell_type": "markdown",
   "id": "915ca80a",
   "metadata": {},
   "source": [
    "## profile.json:\n",
    "\n",
    "* profile dataset contains 17000 records and 5 columns."
   ]
  },
  {
   "cell_type": "code",
   "execution_count": 21,
   "id": "99859d5c",
   "metadata": {},
   "outputs": [
    {
     "data": {
      "text/html": [
       "<div>\n",
       "<style scoped>\n",
       "    .dataframe tbody tr th:only-of-type {\n",
       "        vertical-align: middle;\n",
       "    }\n",
       "\n",
       "    .dataframe tbody tr th {\n",
       "        vertical-align: top;\n",
       "    }\n",
       "\n",
       "    .dataframe thead th {\n",
       "        text-align: right;\n",
       "    }\n",
       "</style>\n",
       "<table border=\"1\" class=\"dataframe\">\n",
       "  <thead>\n",
       "    <tr style=\"text-align: right;\">\n",
       "      <th></th>\n",
       "      <th>gender</th>\n",
       "      <th>age</th>\n",
       "      <th>id</th>\n",
       "      <th>became_member_on</th>\n",
       "      <th>income</th>\n",
       "    </tr>\n",
       "  </thead>\n",
       "  <tbody>\n",
       "    <tr>\n",
       "      <th>0</th>\n",
       "      <td>None</td>\n",
       "      <td>118</td>\n",
       "      <td>68be06ca386d4c31939f3a4f0e3dd783</td>\n",
       "      <td>20170212</td>\n",
       "      <td>NaN</td>\n",
       "    </tr>\n",
       "    <tr>\n",
       "      <th>1</th>\n",
       "      <td>F</td>\n",
       "      <td>55</td>\n",
       "      <td>0610b486422d4921ae7d2bf64640c50b</td>\n",
       "      <td>20170715</td>\n",
       "      <td>112000.0</td>\n",
       "    </tr>\n",
       "    <tr>\n",
       "      <th>2</th>\n",
       "      <td>None</td>\n",
       "      <td>118</td>\n",
       "      <td>38fe809add3b4fcf9315a9694bb96ff5</td>\n",
       "      <td>20180712</td>\n",
       "      <td>NaN</td>\n",
       "    </tr>\n",
       "    <tr>\n",
       "      <th>3</th>\n",
       "      <td>F</td>\n",
       "      <td>75</td>\n",
       "      <td>78afa995795e4d85b5d9ceeca43f5fef</td>\n",
       "      <td>20170509</td>\n",
       "      <td>100000.0</td>\n",
       "    </tr>\n",
       "    <tr>\n",
       "      <th>4</th>\n",
       "      <td>None</td>\n",
       "      <td>118</td>\n",
       "      <td>a03223e636434f42ac4c3df47e8bac43</td>\n",
       "      <td>20170804</td>\n",
       "      <td>NaN</td>\n",
       "    </tr>\n",
       "  </tbody>\n",
       "</table>\n",
       "</div>"
      ],
      "text/plain": [
       "  gender  age                                id  became_member_on    income\n",
       "0   None  118  68be06ca386d4c31939f3a4f0e3dd783          20170212       NaN\n",
       "1      F   55  0610b486422d4921ae7d2bf64640c50b          20170715  112000.0\n",
       "2   None  118  38fe809add3b4fcf9315a9694bb96ff5          20180712       NaN\n",
       "3      F   75  78afa995795e4d85b5d9ceeca43f5fef          20170509  100000.0\n",
       "4   None  118  a03223e636434f42ac4c3df47e8bac43          20170804       NaN"
      ]
     },
     "execution_count": 21,
     "metadata": {},
     "output_type": "execute_result"
    }
   ],
   "source": [
    "profile.head()"
   ]
  },
  {
   "cell_type": "code",
   "execution_count": 22,
   "id": "2d04e379",
   "metadata": {},
   "outputs": [
    {
     "data": {
      "text/plain": [
       "(17000, 5)"
      ]
     },
     "execution_count": 22,
     "metadata": {},
     "output_type": "execute_result"
    }
   ],
   "source": [
    "profile.shape"
   ]
  },
  {
   "cell_type": "code",
   "execution_count": 23,
   "id": "95938723",
   "metadata": {},
   "outputs": [
    {
     "name": "stdout",
     "output_type": "stream",
     "text": [
      "<class 'pandas.core.frame.DataFrame'>\n",
      "RangeIndex: 17000 entries, 0 to 16999\n",
      "Data columns (total 5 columns):\n",
      " #   Column            Non-Null Count  Dtype  \n",
      "---  ------            --------------  -----  \n",
      " 0   gender            14825 non-null  object \n",
      " 1   age               17000 non-null  int64  \n",
      " 2   id                17000 non-null  object \n",
      " 3   became_member_on  17000 non-null  int64  \n",
      " 4   income            14825 non-null  float64\n",
      "dtypes: float64(1), int64(2), object(2)\n",
      "memory usage: 664.2+ KB\n"
     ]
    }
   ],
   "source": [
    "profile.info()"
   ]
  },
  {
   "cell_type": "code",
   "execution_count": 24,
   "id": "8a29b370",
   "metadata": {},
   "outputs": [
    {
     "name": "stdout",
     "output_type": "stream",
     "text": [
      "mean income value:  65404.9915682968\n",
      "median income value:  64000.0\n"
     ]
    }
   ],
   "source": [
    "print('mean income value: ', profile.income.mean())\n",
    "print('median income value: ', profile.income.median())"
   ]
  },
  {
   "cell_type": "code",
   "execution_count": 25,
   "id": "9721809f",
   "metadata": {},
   "outputs": [
    {
     "data": {
      "text/html": [
       "<div>\n",
       "<style scoped>\n",
       "    .dataframe tbody tr th:only-of-type {\n",
       "        vertical-align: middle;\n",
       "    }\n",
       "\n",
       "    .dataframe tbody tr th {\n",
       "        vertical-align: top;\n",
       "    }\n",
       "\n",
       "    .dataframe thead th {\n",
       "        text-align: right;\n",
       "    }\n",
       "</style>\n",
       "<table border=\"1\" class=\"dataframe\">\n",
       "  <thead>\n",
       "    <tr style=\"text-align: right;\">\n",
       "      <th></th>\n",
       "      <th>age</th>\n",
       "      <th>became_member_on</th>\n",
       "      <th>income</th>\n",
       "    </tr>\n",
       "  </thead>\n",
       "  <tbody>\n",
       "    <tr>\n",
       "      <th>count</th>\n",
       "      <td>17000.000000</td>\n",
       "      <td>1.700000e+04</td>\n",
       "      <td>14825.000000</td>\n",
       "    </tr>\n",
       "    <tr>\n",
       "      <th>mean</th>\n",
       "      <td>62.531412</td>\n",
       "      <td>2.016703e+07</td>\n",
       "      <td>65404.991568</td>\n",
       "    </tr>\n",
       "    <tr>\n",
       "      <th>std</th>\n",
       "      <td>26.738580</td>\n",
       "      <td>1.167750e+04</td>\n",
       "      <td>21598.299410</td>\n",
       "    </tr>\n",
       "    <tr>\n",
       "      <th>min</th>\n",
       "      <td>18.000000</td>\n",
       "      <td>2.013073e+07</td>\n",
       "      <td>30000.000000</td>\n",
       "    </tr>\n",
       "    <tr>\n",
       "      <th>25%</th>\n",
       "      <td>45.000000</td>\n",
       "      <td>2.016053e+07</td>\n",
       "      <td>49000.000000</td>\n",
       "    </tr>\n",
       "    <tr>\n",
       "      <th>50%</th>\n",
       "      <td>58.000000</td>\n",
       "      <td>2.017080e+07</td>\n",
       "      <td>64000.000000</td>\n",
       "    </tr>\n",
       "    <tr>\n",
       "      <th>75%</th>\n",
       "      <td>73.000000</td>\n",
       "      <td>2.017123e+07</td>\n",
       "      <td>80000.000000</td>\n",
       "    </tr>\n",
       "    <tr>\n",
       "      <th>max</th>\n",
       "      <td>118.000000</td>\n",
       "      <td>2.018073e+07</td>\n",
       "      <td>120000.000000</td>\n",
       "    </tr>\n",
       "  </tbody>\n",
       "</table>\n",
       "</div>"
      ],
      "text/plain": [
       "                age  became_member_on         income\n",
       "count  17000.000000      1.700000e+04   14825.000000\n",
       "mean      62.531412      2.016703e+07   65404.991568\n",
       "std       26.738580      1.167750e+04   21598.299410\n",
       "min       18.000000      2.013073e+07   30000.000000\n",
       "25%       45.000000      2.016053e+07   49000.000000\n",
       "50%       58.000000      2.017080e+07   64000.000000\n",
       "75%       73.000000      2.017123e+07   80000.000000\n",
       "max      118.000000      2.018073e+07  120000.000000"
      ]
     },
     "execution_count": 25,
     "metadata": {},
     "output_type": "execute_result"
    }
   ],
   "source": [
    "profile.describe()"
   ]
  },
  {
   "cell_type": "code",
   "execution_count": 26,
   "id": "593dd8e2",
   "metadata": {},
   "outputs": [
    {
     "data": {
      "text/html": [
       "<div>\n",
       "<style scoped>\n",
       "    .dataframe tbody tr th:only-of-type {\n",
       "        vertical-align: middle;\n",
       "    }\n",
       "\n",
       "    .dataframe tbody tr th {\n",
       "        vertical-align: top;\n",
       "    }\n",
       "\n",
       "    .dataframe thead th {\n",
       "        text-align: right;\n",
       "    }\n",
       "</style>\n",
       "<table border=\"1\" class=\"dataframe\">\n",
       "  <thead>\n",
       "    <tr style=\"text-align: right;\">\n",
       "      <th></th>\n",
       "      <th>gender</th>\n",
       "      <th>id</th>\n",
       "    </tr>\n",
       "  </thead>\n",
       "  <tbody>\n",
       "    <tr>\n",
       "      <th>count</th>\n",
       "      <td>14825</td>\n",
       "      <td>17000</td>\n",
       "    </tr>\n",
       "    <tr>\n",
       "      <th>unique</th>\n",
       "      <td>3</td>\n",
       "      <td>17000</td>\n",
       "    </tr>\n",
       "    <tr>\n",
       "      <th>top</th>\n",
       "      <td>M</td>\n",
       "      <td>68be06ca386d4c31939f3a4f0e3dd783</td>\n",
       "    </tr>\n",
       "    <tr>\n",
       "      <th>freq</th>\n",
       "      <td>8484</td>\n",
       "      <td>1</td>\n",
       "    </tr>\n",
       "  </tbody>\n",
       "</table>\n",
       "</div>"
      ],
      "text/plain": [
       "       gender                                id\n",
       "count   14825                             17000\n",
       "unique      3                             17000\n",
       "top         M  68be06ca386d4c31939f3a4f0e3dd783\n",
       "freq     8484                                 1"
      ]
     },
     "execution_count": 26,
     "metadata": {},
     "output_type": "execute_result"
    }
   ],
   "source": [
    "profile.describe(include = 'object')"
   ]
  },
  {
   "cell_type": "code",
   "execution_count": 27,
   "id": "81991ffd",
   "metadata": {},
   "outputs": [
    {
     "data": {
      "text/plain": [
       "gender              2175\n",
       "age                    0\n",
       "id                     0\n",
       "became_member_on       0\n",
       "income              2175\n",
       "dtype: int64"
      ]
     },
     "execution_count": 27,
     "metadata": {},
     "output_type": "execute_result"
    }
   ],
   "source": [
    "profile.isnull().sum()"
   ]
  },
  {
   "cell_type": "code",
   "execution_count": 28,
   "id": "edb213a3",
   "metadata": {},
   "outputs": [
    {
     "data": {
      "text/html": [
       "<div>\n",
       "<style scoped>\n",
       "    .dataframe tbody tr th:only-of-type {\n",
       "        vertical-align: middle;\n",
       "    }\n",
       "\n",
       "    .dataframe tbody tr th {\n",
       "        vertical-align: top;\n",
       "    }\n",
       "\n",
       "    .dataframe thead th {\n",
       "        text-align: right;\n",
       "    }\n",
       "</style>\n",
       "<table border=\"1\" class=\"dataframe\">\n",
       "  <thead>\n",
       "    <tr style=\"text-align: right;\">\n",
       "      <th></th>\n",
       "      <th>gender</th>\n",
       "      <th>age</th>\n",
       "      <th>id</th>\n",
       "      <th>became_member_on</th>\n",
       "      <th>income</th>\n",
       "    </tr>\n",
       "  </thead>\n",
       "  <tbody>\n",
       "    <tr>\n",
       "      <th>3995</th>\n",
       "      <td>M</td>\n",
       "      <td>54</td>\n",
       "      <td>822415f7e4874367af290069124672e3</td>\n",
       "      <td>20180420</td>\n",
       "      <td>59000.0</td>\n",
       "    </tr>\n",
       "    <tr>\n",
       "      <th>7074</th>\n",
       "      <td>M</td>\n",
       "      <td>41</td>\n",
       "      <td>ce92049bad964839982c973c5013fbb8</td>\n",
       "      <td>20170724</td>\n",
       "      <td>31000.0</td>\n",
       "    </tr>\n",
       "    <tr>\n",
       "      <th>1652</th>\n",
       "      <td>F</td>\n",
       "      <td>77</td>\n",
       "      <td>84df7379c5ef440c95487180a6901ee6</td>\n",
       "      <td>20180211</td>\n",
       "      <td>63000.0</td>\n",
       "    </tr>\n",
       "    <tr>\n",
       "      <th>7997</th>\n",
       "      <td>None</td>\n",
       "      <td>118</td>\n",
       "      <td>631b3ebd660243df8069c49d4c37f836</td>\n",
       "      <td>20160411</td>\n",
       "      <td>NaN</td>\n",
       "    </tr>\n",
       "    <tr>\n",
       "      <th>9764</th>\n",
       "      <td>F</td>\n",
       "      <td>75</td>\n",
       "      <td>386feea26f434f559cb91d02679c4c3a</td>\n",
       "      <td>20160628</td>\n",
       "      <td>49000.0</td>\n",
       "    </tr>\n",
       "  </tbody>\n",
       "</table>\n",
       "</div>"
      ],
      "text/plain": [
       "     gender  age                                id  became_member_on   income\n",
       "3995      M   54  822415f7e4874367af290069124672e3          20180420  59000.0\n",
       "7074      M   41  ce92049bad964839982c973c5013fbb8          20170724  31000.0\n",
       "1652      F   77  84df7379c5ef440c95487180a6901ee6          20180211  63000.0\n",
       "7997   None  118  631b3ebd660243df8069c49d4c37f836          20160411      NaN\n",
       "9764      F   75  386feea26f434f559cb91d02679c4c3a          20160628  49000.0"
      ]
     },
     "execution_count": 28,
     "metadata": {},
     "output_type": "execute_result"
    }
   ],
   "source": [
    "profile.sample(5)"
   ]
  },
  {
   "cell_type": "code",
   "execution_count": 29,
   "id": "08ccc7e7",
   "metadata": {},
   "outputs": [
    {
     "data": {
      "text/plain": [
       "0"
      ]
     },
     "execution_count": 29,
     "metadata": {},
     "output_type": "execute_result"
    }
   ],
   "source": [
    "sum(profile.duplicated())"
   ]
  },
  {
   "cell_type": "code",
   "execution_count": 30,
   "id": "b368d2eb",
   "metadata": {},
   "outputs": [
    {
     "data": {
      "text/plain": [
       "0"
      ]
     },
     "execution_count": 30,
     "metadata": {},
     "output_type": "execute_result"
    }
   ],
   "source": [
    "sum(profile.id.duplicated())"
   ]
  },
  {
   "cell_type": "code",
   "execution_count": 31,
   "id": "80a1bd5a",
   "metadata": {},
   "outputs": [
    {
     "data": {
      "text/plain": [
       "M    8484\n",
       "F    6129\n",
       "O     212\n",
       "Name: gender, dtype: int64"
      ]
     },
     "execution_count": 31,
     "metadata": {},
     "output_type": "execute_result"
    }
   ],
   "source": [
    "profile.gender.value_counts()"
   ]
  },
  {
   "cell_type": "code",
   "execution_count": 32,
   "id": "c54646dd",
   "metadata": {},
   "outputs": [
    {
     "data": {
      "text/plain": [
       "1716"
      ]
     },
     "execution_count": 32,
     "metadata": {},
     "output_type": "execute_result"
    }
   ],
   "source": [
    "profile.became_member_on.nunique()"
   ]
  },
  {
   "cell_type": "code",
   "execution_count": 33,
   "id": "a01dc448",
   "metadata": {},
   "outputs": [
    {
     "data": {
      "text/plain": [
       "85"
      ]
     },
     "execution_count": 33,
     "metadata": {},
     "output_type": "execute_result"
    }
   ],
   "source": [
    "profile.age.nunique()"
   ]
  },
  {
   "cell_type": "code",
   "execution_count": 34,
   "id": "3d905346",
   "metadata": {},
   "outputs": [
    {
     "data": {
      "text/plain": [
       "array([118,  55,  75,  68,  65,  58,  61,  26,  62,  49,  57,  40,  64,\n",
       "        78,  42,  56,  33,  46,  59,  67,  53,  22,  96,  69,  20,  45,\n",
       "        54,  39,  41,  79,  66,  29,  44,  63,  36,  76,  77,  30,  51,\n",
       "        27,  73,  74,  70,  89,  50,  90,  60,  19,  72,  52,  18,  71,\n",
       "        83,  43,  47,  32,  38,  34,  85,  48,  35,  82,  21,  24,  81,\n",
       "        25,  37,  23, 100,  28,  84,  80,  87,  86,  94,  31,  88,  95,\n",
       "        93,  91,  92,  98, 101,  97,  99], dtype=int64)"
      ]
     },
     "execution_count": 34,
     "metadata": {},
     "output_type": "execute_result"
    }
   ],
   "source": [
    "profile.age.unique()"
   ]
  },
  {
   "cell_type": "code",
   "execution_count": 35,
   "id": "82b4ce97",
   "metadata": {},
   "outputs": [
    {
     "data": {
      "text/plain": [
       "gender                 0\n",
       "age                 2175\n",
       "id                  2175\n",
       "became_member_on    2175\n",
       "income                 0\n",
       "dtype: int64"
      ]
     },
     "execution_count": 35,
     "metadata": {},
     "output_type": "execute_result"
    }
   ],
   "source": [
    "age_118 = profile[profile.age == 118].count()\n",
    "age_118"
   ]
  },
  {
   "cell_type": "code",
   "execution_count": 36,
   "id": "8d97c754",
   "metadata": {},
   "outputs": [
    {
     "data": {
      "text/plain": [
       "array([None, 'F', 'M', 'O'], dtype=object)"
      ]
     },
     "execution_count": 36,
     "metadata": {},
     "output_type": "execute_result"
    }
   ],
   "source": [
    "profile.gender.unique()"
   ]
  },
  {
   "cell_type": "code",
   "execution_count": 37,
   "id": "90b46cc5",
   "metadata": {},
   "outputs": [
    {
     "data": {
      "text/plain": [
       "gender\n",
       "F    6129\n",
       "M    8484\n",
       "O     212\n",
       "Name: age, dtype: int64"
      ]
     },
     "execution_count": 37,
     "metadata": {},
     "output_type": "execute_result"
    }
   ],
   "source": [
    "profile.groupby('gender')['age'].count()"
   ]
  },
  {
   "cell_type": "code",
   "execution_count": 38,
   "id": "d3a0e980",
   "metadata": {},
   "outputs": [
    {
     "data": {
      "text/plain": [
       "gender\n",
       "F    57.544950\n",
       "M    52.116690\n",
       "O    54.400943\n",
       "Name: age, dtype: float64"
      ]
     },
     "execution_count": 38,
     "metadata": {},
     "output_type": "execute_result"
    }
   ],
   "source": [
    "profile.groupby('gender')['age'].mean()"
   ]
  },
  {
   "cell_type": "code",
   "execution_count": 39,
   "id": "5b177b3b",
   "metadata": {},
   "outputs": [
    {
     "data": {
      "text/plain": [
       "gender\n",
       "F    71306.412139\n",
       "M    61194.601603\n",
       "O    63287.735849\n",
       "Name: income, dtype: float64"
      ]
     },
     "execution_count": 39,
     "metadata": {},
     "output_type": "execute_result"
    }
   ],
   "source": [
    "profile.groupby('gender')['income'].mean()"
   ]
  },
  {
   "cell_type": "code",
   "execution_count": 40,
   "id": "96058261",
   "metadata": {},
   "outputs": [
    {
     "data": {
      "text/plain": [
       "62.53141176470588"
      ]
     },
     "execution_count": 40,
     "metadata": {},
     "output_type": "execute_result"
    }
   ],
   "source": [
    "profile.age.mean()"
   ]
  },
  {
   "cell_type": "code",
   "execution_count": 41,
   "id": "0681c44e",
   "metadata": {},
   "outputs": [
    {
     "data": {
      "text/plain": [
       "65404.9915682968"
      ]
     },
     "execution_count": 41,
     "metadata": {},
     "output_type": "execute_result"
    }
   ],
   "source": [
    "profile.income.mean()"
   ]
  },
  {
   "cell_type": "code",
   "execution_count": 42,
   "id": "92d39d8c",
   "metadata": {},
   "outputs": [
    {
     "data": {
      "text/plain": [
       "17000"
      ]
     },
     "execution_count": 42,
     "metadata": {},
     "output_type": "execute_result"
    }
   ],
   "source": [
    "profile.id.nunique()"
   ]
  },
  {
   "cell_type": "markdown",
   "id": "9dce4db9",
   "metadata": {},
   "source": [
    "## transcript.json:\n",
    "\n",
    "* transcript dataset contains 306534 records and 4 columns."
   ]
  },
  {
   "cell_type": "code",
   "execution_count": 43,
   "id": "5b71b07d",
   "metadata": {},
   "outputs": [
    {
     "data": {
      "text/html": [
       "<div>\n",
       "<style scoped>\n",
       "    .dataframe tbody tr th:only-of-type {\n",
       "        vertical-align: middle;\n",
       "    }\n",
       "\n",
       "    .dataframe tbody tr th {\n",
       "        vertical-align: top;\n",
       "    }\n",
       "\n",
       "    .dataframe thead th {\n",
       "        text-align: right;\n",
       "    }\n",
       "</style>\n",
       "<table border=\"1\" class=\"dataframe\">\n",
       "  <thead>\n",
       "    <tr style=\"text-align: right;\">\n",
       "      <th></th>\n",
       "      <th>person</th>\n",
       "      <th>event</th>\n",
       "      <th>value</th>\n",
       "      <th>time</th>\n",
       "    </tr>\n",
       "  </thead>\n",
       "  <tbody>\n",
       "    <tr>\n",
       "      <th>0</th>\n",
       "      <td>78afa995795e4d85b5d9ceeca43f5fef</td>\n",
       "      <td>offer received</td>\n",
       "      <td>{'offer id': '9b98b8c7a33c4b65b9aebfe6a799e6d9'}</td>\n",
       "      <td>0</td>\n",
       "    </tr>\n",
       "    <tr>\n",
       "      <th>1</th>\n",
       "      <td>a03223e636434f42ac4c3df47e8bac43</td>\n",
       "      <td>offer received</td>\n",
       "      <td>{'offer id': '0b1e1539f2cc45b7b9fa7c272da2e1d7'}</td>\n",
       "      <td>0</td>\n",
       "    </tr>\n",
       "    <tr>\n",
       "      <th>2</th>\n",
       "      <td>e2127556f4f64592b11af22de27a7932</td>\n",
       "      <td>offer received</td>\n",
       "      <td>{'offer id': '2906b810c7d4411798c6938adc9daaa5'}</td>\n",
       "      <td>0</td>\n",
       "    </tr>\n",
       "    <tr>\n",
       "      <th>3</th>\n",
       "      <td>8ec6ce2a7e7949b1bf142def7d0e0586</td>\n",
       "      <td>offer received</td>\n",
       "      <td>{'offer id': 'fafdcd668e3743c1bb461111dcafc2a4'}</td>\n",
       "      <td>0</td>\n",
       "    </tr>\n",
       "    <tr>\n",
       "      <th>4</th>\n",
       "      <td>68617ca6246f4fbc85e91a2a49552598</td>\n",
       "      <td>offer received</td>\n",
       "      <td>{'offer id': '4d5c57ea9a6940dd891ad53e9dbe8da0'}</td>\n",
       "      <td>0</td>\n",
       "    </tr>\n",
       "  </tbody>\n",
       "</table>\n",
       "</div>"
      ],
      "text/plain": [
       "                             person           event  \\\n",
       "0  78afa995795e4d85b5d9ceeca43f5fef  offer received   \n",
       "1  a03223e636434f42ac4c3df47e8bac43  offer received   \n",
       "2  e2127556f4f64592b11af22de27a7932  offer received   \n",
       "3  8ec6ce2a7e7949b1bf142def7d0e0586  offer received   \n",
       "4  68617ca6246f4fbc85e91a2a49552598  offer received   \n",
       "\n",
       "                                              value  time  \n",
       "0  {'offer id': '9b98b8c7a33c4b65b9aebfe6a799e6d9'}     0  \n",
       "1  {'offer id': '0b1e1539f2cc45b7b9fa7c272da2e1d7'}     0  \n",
       "2  {'offer id': '2906b810c7d4411798c6938adc9daaa5'}     0  \n",
       "3  {'offer id': 'fafdcd668e3743c1bb461111dcafc2a4'}     0  \n",
       "4  {'offer id': '4d5c57ea9a6940dd891ad53e9dbe8da0'}     0  "
      ]
     },
     "execution_count": 43,
     "metadata": {},
     "output_type": "execute_result"
    }
   ],
   "source": [
    "transcript.head()"
   ]
  },
  {
   "cell_type": "code",
   "execution_count": 44,
   "id": "5819b1ad",
   "metadata": {},
   "outputs": [
    {
     "data": {
      "text/plain": [
       "(306534, 4)"
      ]
     },
     "execution_count": 44,
     "metadata": {},
     "output_type": "execute_result"
    }
   ],
   "source": [
    "transcript.shape"
   ]
  },
  {
   "cell_type": "code",
   "execution_count": 45,
   "id": "36400a26",
   "metadata": {},
   "outputs": [
    {
     "name": "stdout",
     "output_type": "stream",
     "text": [
      "<class 'pandas.core.frame.DataFrame'>\n",
      "RangeIndex: 306534 entries, 0 to 306533\n",
      "Data columns (total 4 columns):\n",
      " #   Column  Non-Null Count   Dtype \n",
      "---  ------  --------------   ----- \n",
      " 0   person  306534 non-null  object\n",
      " 1   event   306534 non-null  object\n",
      " 2   value   306534 non-null  object\n",
      " 3   time    306534 non-null  int64 \n",
      "dtypes: int64(1), object(3)\n",
      "memory usage: 9.4+ MB\n"
     ]
    }
   ],
   "source": [
    "transcript.info()"
   ]
  },
  {
   "cell_type": "code",
   "execution_count": 46,
   "id": "49db1148",
   "metadata": {},
   "outputs": [
    {
     "name": "stdout",
     "output_type": "stream",
     "text": [
      "mean time value:  366.382939576034\n",
      "median time value:  408.0\n"
     ]
    }
   ],
   "source": [
    "print('mean time value: ', transcript.time.mean())\n",
    "print('median time value: ',transcript.time.median())"
   ]
  },
  {
   "cell_type": "code",
   "execution_count": 47,
   "id": "30b1ef2e",
   "metadata": {},
   "outputs": [
    {
     "data": {
      "text/html": [
       "<div>\n",
       "<style scoped>\n",
       "    .dataframe tbody tr th:only-of-type {\n",
       "        vertical-align: middle;\n",
       "    }\n",
       "\n",
       "    .dataframe tbody tr th {\n",
       "        vertical-align: top;\n",
       "    }\n",
       "\n",
       "    .dataframe thead th {\n",
       "        text-align: right;\n",
       "    }\n",
       "</style>\n",
       "<table border=\"1\" class=\"dataframe\">\n",
       "  <thead>\n",
       "    <tr style=\"text-align: right;\">\n",
       "      <th></th>\n",
       "      <th>time</th>\n",
       "    </tr>\n",
       "  </thead>\n",
       "  <tbody>\n",
       "    <tr>\n",
       "      <th>count</th>\n",
       "      <td>306534.000000</td>\n",
       "    </tr>\n",
       "    <tr>\n",
       "      <th>mean</th>\n",
       "      <td>366.382940</td>\n",
       "    </tr>\n",
       "    <tr>\n",
       "      <th>std</th>\n",
       "      <td>200.326314</td>\n",
       "    </tr>\n",
       "    <tr>\n",
       "      <th>min</th>\n",
       "      <td>0.000000</td>\n",
       "    </tr>\n",
       "    <tr>\n",
       "      <th>25%</th>\n",
       "      <td>186.000000</td>\n",
       "    </tr>\n",
       "    <tr>\n",
       "      <th>50%</th>\n",
       "      <td>408.000000</td>\n",
       "    </tr>\n",
       "    <tr>\n",
       "      <th>75%</th>\n",
       "      <td>528.000000</td>\n",
       "    </tr>\n",
       "    <tr>\n",
       "      <th>max</th>\n",
       "      <td>714.000000</td>\n",
       "    </tr>\n",
       "  </tbody>\n",
       "</table>\n",
       "</div>"
      ],
      "text/plain": [
       "                time\n",
       "count  306534.000000\n",
       "mean      366.382940\n",
       "std       200.326314\n",
       "min         0.000000\n",
       "25%       186.000000\n",
       "50%       408.000000\n",
       "75%       528.000000\n",
       "max       714.000000"
      ]
     },
     "execution_count": 47,
     "metadata": {},
     "output_type": "execute_result"
    }
   ],
   "source": [
    "transcript.describe()"
   ]
  },
  {
   "cell_type": "code",
   "execution_count": 48,
   "id": "24a10621",
   "metadata": {},
   "outputs": [
    {
     "data": {
      "text/html": [
       "<div>\n",
       "<style scoped>\n",
       "    .dataframe tbody tr th:only-of-type {\n",
       "        vertical-align: middle;\n",
       "    }\n",
       "\n",
       "    .dataframe tbody tr th {\n",
       "        vertical-align: top;\n",
       "    }\n",
       "\n",
       "    .dataframe thead th {\n",
       "        text-align: right;\n",
       "    }\n",
       "</style>\n",
       "<table border=\"1\" class=\"dataframe\">\n",
       "  <thead>\n",
       "    <tr style=\"text-align: right;\">\n",
       "      <th></th>\n",
       "      <th>person</th>\n",
       "      <th>event</th>\n",
       "      <th>value</th>\n",
       "    </tr>\n",
       "  </thead>\n",
       "  <tbody>\n",
       "    <tr>\n",
       "      <th>count</th>\n",
       "      <td>306534</td>\n",
       "      <td>306534</td>\n",
       "      <td>306534</td>\n",
       "    </tr>\n",
       "    <tr>\n",
       "      <th>unique</th>\n",
       "      <td>17000</td>\n",
       "      <td>4</td>\n",
       "      <td>5121</td>\n",
       "    </tr>\n",
       "    <tr>\n",
       "      <th>top</th>\n",
       "      <td>94de646f7b6041228ca7dec82adb97d2</td>\n",
       "      <td>transaction</td>\n",
       "      <td>{'offer id': '2298d6c36e964ae4a3e7e9706d1fb8c2'}</td>\n",
       "    </tr>\n",
       "    <tr>\n",
       "      <th>freq</th>\n",
       "      <td>51</td>\n",
       "      <td>138953</td>\n",
       "      <td>14983</td>\n",
       "    </tr>\n",
       "  </tbody>\n",
       "</table>\n",
       "</div>"
      ],
      "text/plain": [
       "                                  person        event  \\\n",
       "count                             306534       306534   \n",
       "unique                             17000            4   \n",
       "top     94de646f7b6041228ca7dec82adb97d2  transaction   \n",
       "freq                                  51       138953   \n",
       "\n",
       "                                                   value  \n",
       "count                                             306534  \n",
       "unique                                              5121  \n",
       "top     {'offer id': '2298d6c36e964ae4a3e7e9706d1fb8c2'}  \n",
       "freq                                               14983  "
      ]
     },
     "execution_count": 48,
     "metadata": {},
     "output_type": "execute_result"
    }
   ],
   "source": [
    "transcript.describe(include = 'object')"
   ]
  },
  {
   "cell_type": "code",
   "execution_count": 49,
   "id": "d4d2fc4f",
   "metadata": {},
   "outputs": [
    {
     "data": {
      "text/html": [
       "<div>\n",
       "<style scoped>\n",
       "    .dataframe tbody tr th:only-of-type {\n",
       "        vertical-align: middle;\n",
       "    }\n",
       "\n",
       "    .dataframe tbody tr th {\n",
       "        vertical-align: top;\n",
       "    }\n",
       "\n",
       "    .dataframe thead th {\n",
       "        text-align: right;\n",
       "    }\n",
       "</style>\n",
       "<table border=\"1\" class=\"dataframe\">\n",
       "  <thead>\n",
       "    <tr style=\"text-align: right;\">\n",
       "      <th></th>\n",
       "      <th>person</th>\n",
       "      <th>event</th>\n",
       "      <th>value</th>\n",
       "      <th>time</th>\n",
       "    </tr>\n",
       "  </thead>\n",
       "  <tbody>\n",
       "    <tr>\n",
       "      <th>83178</th>\n",
       "      <td>c61e90bc54de43a1888f229d46d62daf</td>\n",
       "      <td>transaction</td>\n",
       "      <td>{'amount': 0.37}</td>\n",
       "      <td>204</td>\n",
       "    </tr>\n",
       "    <tr>\n",
       "      <th>227275</th>\n",
       "      <td>684644265732451ba78dbcb6b639c1c6</td>\n",
       "      <td>transaction</td>\n",
       "      <td>{'amount': 1.51}</td>\n",
       "      <td>522</td>\n",
       "    </tr>\n",
       "    <tr>\n",
       "      <th>70937</th>\n",
       "      <td>8a0b4d0294d4466eb708bd52a6852821</td>\n",
       "      <td>offer viewed</td>\n",
       "      <td>{'offer id': 'f19421c1d4aa40978ebb69ca19b0e20d'}</td>\n",
       "      <td>174</td>\n",
       "    </tr>\n",
       "    <tr>\n",
       "      <th>29414</th>\n",
       "      <td>6676062b996d42499314026f12c2efac</td>\n",
       "      <td>transaction</td>\n",
       "      <td>{'amount': 19.89}</td>\n",
       "      <td>42</td>\n",
       "    </tr>\n",
       "    <tr>\n",
       "      <th>118065</th>\n",
       "      <td>7106e78bb41f4e5fab74c2c9cf1e459f</td>\n",
       "      <td>offer received</td>\n",
       "      <td>{'offer id': 'fafdcd668e3743c1bb461111dcafc2a4'}</td>\n",
       "      <td>336</td>\n",
       "    </tr>\n",
       "  </tbody>\n",
       "</table>\n",
       "</div>"
      ],
      "text/plain": [
       "                                  person           event  \\\n",
       "83178   c61e90bc54de43a1888f229d46d62daf     transaction   \n",
       "227275  684644265732451ba78dbcb6b639c1c6     transaction   \n",
       "70937   8a0b4d0294d4466eb708bd52a6852821    offer viewed   \n",
       "29414   6676062b996d42499314026f12c2efac     transaction   \n",
       "118065  7106e78bb41f4e5fab74c2c9cf1e459f  offer received   \n",
       "\n",
       "                                                   value  time  \n",
       "83178                                   {'amount': 0.37}   204  \n",
       "227275                                  {'amount': 1.51}   522  \n",
       "70937   {'offer id': 'f19421c1d4aa40978ebb69ca19b0e20d'}   174  \n",
       "29414                                  {'amount': 19.89}    42  \n",
       "118065  {'offer id': 'fafdcd668e3743c1bb461111dcafc2a4'}   336  "
      ]
     },
     "execution_count": 49,
     "metadata": {},
     "output_type": "execute_result"
    }
   ],
   "source": [
    "transcript.sample(5)"
   ]
  },
  {
   "cell_type": "code",
   "execution_count": 50,
   "id": "506fece3",
   "metadata": {},
   "outputs": [
    {
     "data": {
      "text/plain": [
       "person    0\n",
       "event     0\n",
       "value     0\n",
       "time      0\n",
       "dtype: int64"
      ]
     },
     "execution_count": 50,
     "metadata": {},
     "output_type": "execute_result"
    }
   ],
   "source": [
    "transcript.isnull().sum()"
   ]
  },
  {
   "cell_type": "code",
   "execution_count": 51,
   "id": "6acd178c",
   "metadata": {},
   "outputs": [
    {
     "data": {
      "text/plain": [
       "289534"
      ]
     },
     "execution_count": 51,
     "metadata": {},
     "output_type": "execute_result"
    }
   ],
   "source": [
    "sum(transcript.person.duplicated())"
   ]
  },
  {
   "cell_type": "code",
   "execution_count": 52,
   "id": "b8d78a82",
   "metadata": {},
   "outputs": [
    {
     "data": {
      "text/plain": [
       "transaction        138953\n",
       "offer received      76277\n",
       "offer viewed        57725\n",
       "offer completed     33579\n",
       "Name: event, dtype: int64"
      ]
     },
     "execution_count": 52,
     "metadata": {},
     "output_type": "execute_result"
    }
   ],
   "source": [
    "transcript.event.value_counts()"
   ]
  },
  {
   "cell_type": "code",
   "execution_count": 53,
   "id": "815c09ee",
   "metadata": {},
   "outputs": [
    {
     "data": {
      "text/plain": [
       "4"
      ]
     },
     "execution_count": 53,
     "metadata": {},
     "output_type": "execute_result"
    }
   ],
   "source": [
    "transcript.event.nunique()"
   ]
  },
  {
   "cell_type": "code",
   "execution_count": 54,
   "id": "1ea57b7b",
   "metadata": {},
   "outputs": [
    {
     "data": {
      "text/plain": [
       "0    {'offer id': '9b98b8c7a33c4b65b9aebfe6a799e6d9'}\n",
       "1    {'offer id': '0b1e1539f2cc45b7b9fa7c272da2e1d7'}\n",
       "2    {'offer id': '2906b810c7d4411798c6938adc9daaa5'}\n",
       "3    {'offer id': 'fafdcd668e3743c1bb461111dcafc2a4'}\n",
       "4    {'offer id': '4d5c57ea9a6940dd891ad53e9dbe8da0'}\n",
       "Name: value, dtype: object"
      ]
     },
     "execution_count": 54,
     "metadata": {},
     "output_type": "execute_result"
    }
   ],
   "source": [
    "transcript.value.head()"
   ]
  },
  {
   "cell_type": "code",
   "execution_count": 55,
   "id": "756584e8",
   "metadata": {},
   "outputs": [
    {
     "data": {
      "text/plain": [
       "17000"
      ]
     },
     "execution_count": 55,
     "metadata": {},
     "output_type": "execute_result"
    }
   ],
   "source": [
    "transcript.person.nunique()"
   ]
  },
  {
   "cell_type": "code",
   "execution_count": 56,
   "id": "81acd43a",
   "metadata": {},
   "outputs": [
    {
     "name": "stdout",
     "output_type": "stream",
     "text": [
      "mean time of offer received: 332.57951938330035\n",
      "mean time of offer viewed: 354.29051537462107\n",
      "mean time of offer completed: 401.0528008576789\n",
      "mean time of transactions: 381.58433427130035\n"
     ]
    }
   ],
   "source": [
    "received = transcript.query(\" event == 'offer received' \")['time'].mean()\n",
    "completed = transcript.query(\" event == 'offer completed' \")['time'].mean()\n",
    "viewed = transcript.query(\" event == 'offer viewed' \")['time'].mean()\n",
    "transactions = transcript.query(\" event == 'transaction' \")['time'].mean()\n",
    "\n",
    "print('mean time of offer received:', received)\n",
    "print('mean time of offer viewed:', viewed)\n",
    "print('mean time of offer completed:', completed)\n",
    "print('mean time of transactions:', transactions)"
   ]
  },
  {
   "cell_type": "code",
   "execution_count": 57,
   "id": "f94f1330",
   "metadata": {},
   "outputs": [
    {
     "name": "stdout",
     "output_type": "stream",
     "text": [
      "offer received counts: 76277\n",
      "offer viewed counts: 57725\n",
      "offer completed counts: 33579\n",
      "transactions counts: 138953\n"
     ]
    }
   ],
   "source": [
    "received = transcript.query(\" event == 'offer received' \")['time'].count()\n",
    "completed = transcript.query(\" event == 'offer completed' \")['time'].count()\n",
    "viewed = transcript.query(\" event == 'offer viewed' \")['time'].count()\n",
    "transactions = transcript.query(\" event == 'transaction' \")['time'].count()\n",
    "\n",
    "print('offer received counts:', received)\n",
    "print('offer viewed counts:', viewed)\n",
    "print('offer completed counts:', completed)\n",
    "print('transactions counts:', transactions)"
   ]
  },
  {
   "cell_type": "code",
   "execution_count": 58,
   "id": "f0effe29",
   "metadata": {},
   "outputs": [
    {
     "data": {
      "text/plain": [
       "120"
      ]
     },
     "execution_count": 58,
     "metadata": {},
     "output_type": "execute_result"
    }
   ],
   "source": [
    "transcript.time.nunique()"
   ]
  },
  {
   "cell_type": "code",
   "execution_count": 59,
   "id": "327eb5e4",
   "metadata": {},
   "outputs": [
    {
     "data": {
      "text/plain": [
       "array([  0,   6,  12,  18,  24,  30,  36,  42,  48,  54,  60,  66,  72,\n",
       "        78,  84,  90,  96, 102, 108, 114, 120, 126, 132, 138, 144, 150,\n",
       "       156, 162, 168, 174, 180, 186, 192, 198, 204, 210, 216, 222, 228,\n",
       "       234, 240, 246, 252, 258, 264, 270, 276, 282, 288, 294, 300, 306,\n",
       "       312, 318, 324, 330, 336, 342, 348, 354, 360, 366, 372, 378, 384,\n",
       "       390, 396, 402, 408, 414, 420, 426, 432, 438, 444, 450, 456, 462,\n",
       "       468, 474, 480, 486, 492, 498, 504, 510, 516, 522, 528, 534, 540,\n",
       "       546, 552, 558, 564, 570, 576, 582, 588, 594, 600, 606, 612, 618,\n",
       "       624, 630, 636, 642, 648, 654, 660, 666, 672, 678, 684, 690, 696,\n",
       "       702, 708, 714], dtype=int64)"
      ]
     },
     "execution_count": 59,
     "metadata": {},
     "output_type": "execute_result"
    }
   ],
   "source": [
    "transcript.time.unique()"
   ]
  },
  {
   "cell_type": "code",
   "execution_count": 60,
   "id": "ab0a5c88",
   "metadata": {},
   "outputs": [
    {
     "data": {
      "text/html": [
       "<div>\n",
       "<style scoped>\n",
       "    .dataframe tbody tr th:only-of-type {\n",
       "        vertical-align: middle;\n",
       "    }\n",
       "\n",
       "    .dataframe tbody tr th {\n",
       "        vertical-align: top;\n",
       "    }\n",
       "\n",
       "    .dataframe thead th {\n",
       "        text-align: right;\n",
       "    }\n",
       "</style>\n",
       "<table border=\"1\" class=\"dataframe\">\n",
       "  <thead>\n",
       "    <tr style=\"text-align: right;\">\n",
       "      <th></th>\n",
       "      <th>person</th>\n",
       "      <th>event</th>\n",
       "      <th>value</th>\n",
       "      <th>time</th>\n",
       "    </tr>\n",
       "  </thead>\n",
       "  <tbody>\n",
       "    <tr>\n",
       "      <th>12654</th>\n",
       "      <td>02c083884c7d45b39cc68e1314fec56c</td>\n",
       "      <td>transaction</td>\n",
       "      <td>{'amount': 0.8300000000000001}</td>\n",
       "      <td>0</td>\n",
       "    </tr>\n",
       "    <tr>\n",
       "      <th>12657</th>\n",
       "      <td>9fa9ae8f57894cc9a3b8a9bbe0fc1b2f</td>\n",
       "      <td>transaction</td>\n",
       "      <td>{'amount': 34.56}</td>\n",
       "      <td>0</td>\n",
       "    </tr>\n",
       "    <tr>\n",
       "      <th>12659</th>\n",
       "      <td>54890f68699049c2a04d415abc25e717</td>\n",
       "      <td>transaction</td>\n",
       "      <td>{'amount': 13.23}</td>\n",
       "      <td>0</td>\n",
       "    </tr>\n",
       "    <tr>\n",
       "      <th>12670</th>\n",
       "      <td>b2f1cd155b864803ad8334cdf13c4bd2</td>\n",
       "      <td>transaction</td>\n",
       "      <td>{'amount': 19.51}</td>\n",
       "      <td>0</td>\n",
       "    </tr>\n",
       "    <tr>\n",
       "      <th>12671</th>\n",
       "      <td>fe97aa22dd3e48c8b143116a8403dd52</td>\n",
       "      <td>transaction</td>\n",
       "      <td>{'amount': 18.97}</td>\n",
       "      <td>0</td>\n",
       "    </tr>\n",
       "    <tr>\n",
       "      <th>...</th>\n",
       "      <td>...</td>\n",
       "      <td>...</td>\n",
       "      <td>...</td>\n",
       "      <td>...</td>\n",
       "    </tr>\n",
       "    <tr>\n",
       "      <th>306529</th>\n",
       "      <td>b3a1272bc9904337b331bf348c3e8c17</td>\n",
       "      <td>transaction</td>\n",
       "      <td>{'amount': 1.5899999999999999}</td>\n",
       "      <td>714</td>\n",
       "    </tr>\n",
       "    <tr>\n",
       "      <th>306530</th>\n",
       "      <td>68213b08d99a4ae1b0dcb72aebd9aa35</td>\n",
       "      <td>transaction</td>\n",
       "      <td>{'amount': 9.53}</td>\n",
       "      <td>714</td>\n",
       "    </tr>\n",
       "    <tr>\n",
       "      <th>306531</th>\n",
       "      <td>a00058cf10334a308c68e7631c529907</td>\n",
       "      <td>transaction</td>\n",
       "      <td>{'amount': 3.61}</td>\n",
       "      <td>714</td>\n",
       "    </tr>\n",
       "    <tr>\n",
       "      <th>306532</th>\n",
       "      <td>76ddbd6576844afe811f1a3c0fbb5bec</td>\n",
       "      <td>transaction</td>\n",
       "      <td>{'amount': 3.5300000000000002}</td>\n",
       "      <td>714</td>\n",
       "    </tr>\n",
       "    <tr>\n",
       "      <th>306533</th>\n",
       "      <td>c02b10e8752c4d8e9b73f918558531f7</td>\n",
       "      <td>transaction</td>\n",
       "      <td>{'amount': 4.05}</td>\n",
       "      <td>714</td>\n",
       "    </tr>\n",
       "  </tbody>\n",
       "</table>\n",
       "<p>138953 rows × 4 columns</p>\n",
       "</div>"
      ],
      "text/plain": [
       "                                  person        event  \\\n",
       "12654   02c083884c7d45b39cc68e1314fec56c  transaction   \n",
       "12657   9fa9ae8f57894cc9a3b8a9bbe0fc1b2f  transaction   \n",
       "12659   54890f68699049c2a04d415abc25e717  transaction   \n",
       "12670   b2f1cd155b864803ad8334cdf13c4bd2  transaction   \n",
       "12671   fe97aa22dd3e48c8b143116a8403dd52  transaction   \n",
       "...                                  ...          ...   \n",
       "306529  b3a1272bc9904337b331bf348c3e8c17  transaction   \n",
       "306530  68213b08d99a4ae1b0dcb72aebd9aa35  transaction   \n",
       "306531  a00058cf10334a308c68e7631c529907  transaction   \n",
       "306532  76ddbd6576844afe811f1a3c0fbb5bec  transaction   \n",
       "306533  c02b10e8752c4d8e9b73f918558531f7  transaction   \n",
       "\n",
       "                                 value  time  \n",
       "12654   {'amount': 0.8300000000000001}     0  \n",
       "12657                {'amount': 34.56}     0  \n",
       "12659                {'amount': 13.23}     0  \n",
       "12670                {'amount': 19.51}     0  \n",
       "12671                {'amount': 18.97}     0  \n",
       "...                                ...   ...  \n",
       "306529  {'amount': 1.5899999999999999}   714  \n",
       "306530                {'amount': 9.53}   714  \n",
       "306531                {'amount': 3.61}   714  \n",
       "306532  {'amount': 3.5300000000000002}   714  \n",
       "306533                {'amount': 4.05}   714  \n",
       "\n",
       "[138953 rows x 4 columns]"
      ]
     },
     "execution_count": 60,
     "metadata": {},
     "output_type": "execute_result"
    }
   ],
   "source": [
    "transcript.query(\" event == 'transaction' \")"
   ]
  },
  {
   "cell_type": "code",
   "execution_count": 61,
   "id": "c326b683",
   "metadata": {},
   "outputs": [
    {
     "data": {
      "text/html": [
       "<div>\n",
       "<style scoped>\n",
       "    .dataframe tbody tr th:only-of-type {\n",
       "        vertical-align: middle;\n",
       "    }\n",
       "\n",
       "    .dataframe tbody tr th {\n",
       "        vertical-align: top;\n",
       "    }\n",
       "\n",
       "    .dataframe thead th {\n",
       "        text-align: right;\n",
       "    }\n",
       "</style>\n",
       "<table border=\"1\" class=\"dataframe\">\n",
       "  <thead>\n",
       "    <tr style=\"text-align: right;\">\n",
       "      <th></th>\n",
       "      <th>person</th>\n",
       "      <th>event</th>\n",
       "      <th>value</th>\n",
       "      <th>time</th>\n",
       "    </tr>\n",
       "  </thead>\n",
       "  <tbody>\n",
       "    <tr>\n",
       "      <th>12658</th>\n",
       "      <td>9fa9ae8f57894cc9a3b8a9bbe0fc1b2f</td>\n",
       "      <td>offer completed</td>\n",
       "      <td>{'offer_id': '2906b810c7d4411798c6938adc9daaa5...</td>\n",
       "      <td>0</td>\n",
       "    </tr>\n",
       "    <tr>\n",
       "      <th>12672</th>\n",
       "      <td>fe97aa22dd3e48c8b143116a8403dd52</td>\n",
       "      <td>offer completed</td>\n",
       "      <td>{'offer_id': 'fafdcd668e3743c1bb461111dcafc2a4...</td>\n",
       "      <td>0</td>\n",
       "    </tr>\n",
       "    <tr>\n",
       "      <th>12679</th>\n",
       "      <td>629fc02d56414d91bca360decdfa9288</td>\n",
       "      <td>offer completed</td>\n",
       "      <td>{'offer_id': '9b98b8c7a33c4b65b9aebfe6a799e6d9...</td>\n",
       "      <td>0</td>\n",
       "    </tr>\n",
       "    <tr>\n",
       "      <th>12692</th>\n",
       "      <td>676506bad68e4161b9bbaffeb039626b</td>\n",
       "      <td>offer completed</td>\n",
       "      <td>{'offer_id': 'ae264e3637204a6fb9bb56bc8210ddfd...</td>\n",
       "      <td>0</td>\n",
       "    </tr>\n",
       "    <tr>\n",
       "      <th>12697</th>\n",
       "      <td>8f7dd3b2afe14c078eb4f6e6fe4ba97d</td>\n",
       "      <td>offer completed</td>\n",
       "      <td>{'offer_id': '4d5c57ea9a6940dd891ad53e9dbe8da0...</td>\n",
       "      <td>0</td>\n",
       "    </tr>\n",
       "    <tr>\n",
       "      <th>...</th>\n",
       "      <td>...</td>\n",
       "      <td>...</td>\n",
       "      <td>...</td>\n",
       "      <td>...</td>\n",
       "    </tr>\n",
       "    <tr>\n",
       "      <th>306475</th>\n",
       "      <td>0c027f5f34dd4b9eba0a25785c611273</td>\n",
       "      <td>offer completed</td>\n",
       "      <td>{'offer_id': '2298d6c36e964ae4a3e7e9706d1fb8c2...</td>\n",
       "      <td>714</td>\n",
       "    </tr>\n",
       "    <tr>\n",
       "      <th>306497</th>\n",
       "      <td>a6f84f4e976f44508c358cc9aba6d2b3</td>\n",
       "      <td>offer completed</td>\n",
       "      <td>{'offer_id': '2298d6c36e964ae4a3e7e9706d1fb8c2...</td>\n",
       "      <td>714</td>\n",
       "    </tr>\n",
       "    <tr>\n",
       "      <th>306506</th>\n",
       "      <td>b895c57e8cd047a8872ce02aa54759d6</td>\n",
       "      <td>offer completed</td>\n",
       "      <td>{'offer_id': 'fafdcd668e3743c1bb461111dcafc2a4...</td>\n",
       "      <td>714</td>\n",
       "    </tr>\n",
       "    <tr>\n",
       "      <th>306509</th>\n",
       "      <td>8431c16f8e1d440880db371a68f82dd0</td>\n",
       "      <td>offer completed</td>\n",
       "      <td>{'offer_id': 'fafdcd668e3743c1bb461111dcafc2a4...</td>\n",
       "      <td>714</td>\n",
       "    </tr>\n",
       "    <tr>\n",
       "      <th>306527</th>\n",
       "      <td>24f56b5e1849462093931b164eb803b5</td>\n",
       "      <td>offer completed</td>\n",
       "      <td>{'offer_id': 'fafdcd668e3743c1bb461111dcafc2a4...</td>\n",
       "      <td>714</td>\n",
       "    </tr>\n",
       "  </tbody>\n",
       "</table>\n",
       "<p>33579 rows × 4 columns</p>\n",
       "</div>"
      ],
      "text/plain": [
       "                                  person            event  \\\n",
       "12658   9fa9ae8f57894cc9a3b8a9bbe0fc1b2f  offer completed   \n",
       "12672   fe97aa22dd3e48c8b143116a8403dd52  offer completed   \n",
       "12679   629fc02d56414d91bca360decdfa9288  offer completed   \n",
       "12692   676506bad68e4161b9bbaffeb039626b  offer completed   \n",
       "12697   8f7dd3b2afe14c078eb4f6e6fe4ba97d  offer completed   \n",
       "...                                  ...              ...   \n",
       "306475  0c027f5f34dd4b9eba0a25785c611273  offer completed   \n",
       "306497  a6f84f4e976f44508c358cc9aba6d2b3  offer completed   \n",
       "306506  b895c57e8cd047a8872ce02aa54759d6  offer completed   \n",
       "306509  8431c16f8e1d440880db371a68f82dd0  offer completed   \n",
       "306527  24f56b5e1849462093931b164eb803b5  offer completed   \n",
       "\n",
       "                                                    value  time  \n",
       "12658   {'offer_id': '2906b810c7d4411798c6938adc9daaa5...     0  \n",
       "12672   {'offer_id': 'fafdcd668e3743c1bb461111dcafc2a4...     0  \n",
       "12679   {'offer_id': '9b98b8c7a33c4b65b9aebfe6a799e6d9...     0  \n",
       "12692   {'offer_id': 'ae264e3637204a6fb9bb56bc8210ddfd...     0  \n",
       "12697   {'offer_id': '4d5c57ea9a6940dd891ad53e9dbe8da0...     0  \n",
       "...                                                   ...   ...  \n",
       "306475  {'offer_id': '2298d6c36e964ae4a3e7e9706d1fb8c2...   714  \n",
       "306497  {'offer_id': '2298d6c36e964ae4a3e7e9706d1fb8c2...   714  \n",
       "306506  {'offer_id': 'fafdcd668e3743c1bb461111dcafc2a4...   714  \n",
       "306509  {'offer_id': 'fafdcd668e3743c1bb461111dcafc2a4...   714  \n",
       "306527  {'offer_id': 'fafdcd668e3743c1bb461111dcafc2a4...   714  \n",
       "\n",
       "[33579 rows x 4 columns]"
      ]
     },
     "execution_count": 61,
     "metadata": {},
     "output_type": "execute_result"
    }
   ],
   "source": [
    "transcript.query(\" event == 'offer completed' \")"
   ]
  },
  {
   "cell_type": "markdown",
   "id": "10fc50c7",
   "metadata": {},
   "source": [
    "# Data Pre-processing:\n",
    "\n",
    "## pre processing portfolio dataset:\n",
    "\n",
    "- cambiar nombre de id column\n",
    "- one hot encoding sobre Channel column"
   ]
  },
  {
   "cell_type": "code",
   "execution_count": 62,
   "id": "46aff414",
   "metadata": {},
   "outputs": [],
   "source": [
    "portfolio.rename(columns = {'id': 'offer_id'}, inplace = True)"
   ]
  },
  {
   "cell_type": "code",
   "execution_count": 63,
   "id": "6fa4d7b5",
   "metadata": {},
   "outputs": [],
   "source": [
    "# One-hot encode : channels column:\n",
    "\n",
    "portfolio['email'] = portfolio['channels'].apply(lambda ele: 1 if 'email' in ele else 0)\n",
    "portfolio['web'] = portfolio['channels'].apply(lambda ele: 1 if 'web' in ele else 0)\n",
    "portfolio['mobile'] = portfolio['channels'].apply(lambda ele: 1 if 'mobile' in ele else 0)\n",
    "portfolio['social'] = portfolio['channels'].apply(lambda ele: 1 if 'social' in ele else 0)"
   ]
  },
  {
   "cell_type": "code",
   "execution_count": 64,
   "id": "f1ed06fd",
   "metadata": {},
   "outputs": [
    {
     "name": "stdout",
     "output_type": "stream",
     "text": [
      "<class 'pandas.core.frame.DataFrame'>\n",
      "RangeIndex: 10 entries, 0 to 9\n",
      "Data columns (total 10 columns):\n",
      " #   Column      Non-Null Count  Dtype \n",
      "---  ------      --------------  ----- \n",
      " 0   reward      10 non-null     int64 \n",
      " 1   channels    10 non-null     object\n",
      " 2   difficulty  10 non-null     int64 \n",
      " 3   duration    10 non-null     int64 \n",
      " 4   offer_type  10 non-null     object\n",
      " 5   offer_id    10 non-null     object\n",
      " 6   email       10 non-null     int64 \n",
      " 7   web         10 non-null     int64 \n",
      " 8   mobile      10 non-null     int64 \n",
      " 9   social      10 non-null     int64 \n",
      "dtypes: int64(7), object(3)\n",
      "memory usage: 928.0+ bytes\n"
     ]
    }
   ],
   "source": [
    "portfolio.info()"
   ]
  },
  {
   "cell_type": "code",
   "execution_count": 65,
   "id": "5a1ded3e",
   "metadata": {},
   "outputs": [
    {
     "data": {
      "text/html": [
       "<div>\n",
       "<style scoped>\n",
       "    .dataframe tbody tr th:only-of-type {\n",
       "        vertical-align: middle;\n",
       "    }\n",
       "\n",
       "    .dataframe tbody tr th {\n",
       "        vertical-align: top;\n",
       "    }\n",
       "\n",
       "    .dataframe thead th {\n",
       "        text-align: right;\n",
       "    }\n",
       "</style>\n",
       "<table border=\"1\" class=\"dataframe\">\n",
       "  <thead>\n",
       "    <tr style=\"text-align: right;\">\n",
       "      <th></th>\n",
       "      <th>reward</th>\n",
       "      <th>channels</th>\n",
       "      <th>difficulty</th>\n",
       "      <th>duration</th>\n",
       "      <th>offer_type</th>\n",
       "      <th>offer_id</th>\n",
       "      <th>email</th>\n",
       "      <th>web</th>\n",
       "      <th>mobile</th>\n",
       "      <th>social</th>\n",
       "    </tr>\n",
       "  </thead>\n",
       "  <tbody>\n",
       "    <tr>\n",
       "      <th>0</th>\n",
       "      <td>10</td>\n",
       "      <td>[email, mobile, social]</td>\n",
       "      <td>10</td>\n",
       "      <td>7</td>\n",
       "      <td>bogo</td>\n",
       "      <td>ae264e3637204a6fb9bb56bc8210ddfd</td>\n",
       "      <td>1</td>\n",
       "      <td>0</td>\n",
       "      <td>1</td>\n",
       "      <td>1</td>\n",
       "    </tr>\n",
       "    <tr>\n",
       "      <th>1</th>\n",
       "      <td>10</td>\n",
       "      <td>[web, email, mobile, social]</td>\n",
       "      <td>10</td>\n",
       "      <td>5</td>\n",
       "      <td>bogo</td>\n",
       "      <td>4d5c57ea9a6940dd891ad53e9dbe8da0</td>\n",
       "      <td>1</td>\n",
       "      <td>1</td>\n",
       "      <td>1</td>\n",
       "      <td>1</td>\n",
       "    </tr>\n",
       "    <tr>\n",
       "      <th>2</th>\n",
       "      <td>0</td>\n",
       "      <td>[web, email, mobile]</td>\n",
       "      <td>0</td>\n",
       "      <td>4</td>\n",
       "      <td>informational</td>\n",
       "      <td>3f207df678b143eea3cee63160fa8bed</td>\n",
       "      <td>1</td>\n",
       "      <td>1</td>\n",
       "      <td>1</td>\n",
       "      <td>0</td>\n",
       "    </tr>\n",
       "    <tr>\n",
       "      <th>3</th>\n",
       "      <td>5</td>\n",
       "      <td>[web, email, mobile]</td>\n",
       "      <td>5</td>\n",
       "      <td>7</td>\n",
       "      <td>bogo</td>\n",
       "      <td>9b98b8c7a33c4b65b9aebfe6a799e6d9</td>\n",
       "      <td>1</td>\n",
       "      <td>1</td>\n",
       "      <td>1</td>\n",
       "      <td>0</td>\n",
       "    </tr>\n",
       "    <tr>\n",
       "      <th>4</th>\n",
       "      <td>5</td>\n",
       "      <td>[web, email]</td>\n",
       "      <td>20</td>\n",
       "      <td>10</td>\n",
       "      <td>discount</td>\n",
       "      <td>0b1e1539f2cc45b7b9fa7c272da2e1d7</td>\n",
       "      <td>1</td>\n",
       "      <td>1</td>\n",
       "      <td>0</td>\n",
       "      <td>0</td>\n",
       "    </tr>\n",
       "  </tbody>\n",
       "</table>\n",
       "</div>"
      ],
      "text/plain": [
       "   reward                      channels  difficulty  duration     offer_type  \\\n",
       "0      10       [email, mobile, social]          10         7           bogo   \n",
       "1      10  [web, email, mobile, social]          10         5           bogo   \n",
       "2       0          [web, email, mobile]           0         4  informational   \n",
       "3       5          [web, email, mobile]           5         7           bogo   \n",
       "4       5                  [web, email]          20        10       discount   \n",
       "\n",
       "                           offer_id  email  web  mobile  social  \n",
       "0  ae264e3637204a6fb9bb56bc8210ddfd      1    0       1       1  \n",
       "1  4d5c57ea9a6940dd891ad53e9dbe8da0      1    1       1       1  \n",
       "2  3f207df678b143eea3cee63160fa8bed      1    1       1       0  \n",
       "3  9b98b8c7a33c4b65b9aebfe6a799e6d9      1    1       1       0  \n",
       "4  0b1e1539f2cc45b7b9fa7c272da2e1d7      1    1       0       0  "
      ]
     },
     "execution_count": 65,
     "metadata": {},
     "output_type": "execute_result"
    }
   ],
   "source": [
    "portfolio.head()"
   ]
  },
  {
   "cell_type": "markdown",
   "id": "3a279a78",
   "metadata": {},
   "source": [
    "## Exploratory Data Analysis for portfolio dataset:"
   ]
  },
  {
   "cell_type": "code",
   "execution_count": 66,
   "id": "ce5b32d4",
   "metadata": {},
   "outputs": [
    {
     "data": {
      "image/png": "[encoded data removed]",
      "text/plain": [
       "<Figure size 432x288 with 1 Axes>"
      ]
     },
     "metadata": {
      "needs_background": "light"
     },
     "output_type": "display_data"
    }
   ],
   "source": [
    "# types of offers:\n",
    "\n",
    "color = sb.color_palette()[0]\n",
    "\n",
    "sb.countplot(data = portfolio, x = 'offer_type', color = color);\n",
    "plt.title('Types of offers');\n",
    "plt.ylabel('Count');\n",
    "plt.xlabel('Offer types');"
   ]
  },
  {
   "cell_type": "code",
   "execution_count": 67,
   "id": "5d64d343",
   "metadata": {},
   "outputs": [
    {
     "data": {
      "image/png": "[encoded data removed]",
      "text/plain": [
       "<Figure size 1440x360 with 3 Axes>"
      ]
     },
     "metadata": {
      "needs_background": "light"
     },
     "output_type": "display_data"
    }
   ],
   "source": [
    "# Creating Subplots for distribution based on difficulty, duration, reward for portfolio data.\n",
    "\n",
    "plt.figure(figsize = [20,5])\n",
    "\n",
    "color = sb.color_palette()[0]\n",
    "plt.subplot(1,3,1)\n",
    "\n",
    "sb.countplot(data = portfolio, x = 'difficulty', color = color);\n",
    "plt.title('Money required to be spent to receive reward');\n",
    "plt.ylabel('count');\n",
    "plt.xlabel('difficulty');\n",
    "\n",
    "plt.subplot(1,3,2)\n",
    "sb.countplot(data = portfolio, x = 'duration', color = color);\n",
    "plt.title('Time for offer to be open, in days');\n",
    "plt.ylabel('count');\n",
    "plt.xlabel('duration');\n",
    "\n",
    "plt.subplot(1,3,3)\n",
    "sb.countplot(data = portfolio, x = 'reward', color = color);\n",
    "plt.title('Money awarded for the amount spent');\n",
    "plt.ylabel('count');\n",
    "plt.xlabel('reward');"
   ]
  },
  {
   "cell_type": "code",
   "execution_count": 68,
   "id": "af46e4dc",
   "metadata": {},
   "outputs": [
    {
     "data": {
      "image/png": "[encoded data removed]",
      "text/plain": [
       "<Figure size 1440x360 with 4 Axes>"
      ]
     },
     "metadata": {
      "needs_background": "light"
     },
     "output_type": "display_data"
    }
   ],
   "source": [
    "# Creating Subplots for distribution based on email, web, mobile and social for portfolio data.\n",
    "\n",
    "plt.figure(figsize = [20,5])\n",
    "\n",
    "color = sb.color_palette()[0]\n",
    "\n",
    "plt.subplot(1,4,1)\n",
    "x = sb.countplot(data = portfolio, x = 'email', color = color);\n",
    "plt.title('Email distribution');\n",
    "plt.ylabel('count');\n",
    "plt.xlabel('email');\n",
    "xlabels = ['yes']  #, 'no'\n",
    "x.set_xticklabels(xlabels);\n",
    "plt.xticks(rotation = 90);\n",
    "\n",
    "plt.subplot(1,4,2)\n",
    "x = sb.countplot(data = portfolio, x = 'web', color = color);\n",
    "plt.title('Web distribution');\n",
    "plt.ylabel('count');\n",
    "plt.xlabel('web');\n",
    "xlabels = ['no', 'yes']\n",
    "x.set_xticklabels(xlabels);\n",
    "plt.xticks(rotation = 90);\n",
    "\n",
    "plt.subplot(1,4,3)\n",
    "x = sb.countplot(data = portfolio, x = 'mobile', color = color);\n",
    "plt.title('Mobile distribution');\n",
    "plt.ylabel('count');\n",
    "plt.xlabel('mobile');\n",
    "xlabels = ['no', 'yes']\n",
    "x.set_xticklabels(xlabels);\n",
    "plt.xticks(rotation = 90);\n",
    "\n",
    "plt.subplot(1,4,4)\n",
    "x = sb.countplot(data = portfolio, x = 'social', color = color);\n",
    "plt.title('Social distribution');\n",
    "plt.ylabel('count');\n",
    "plt.xlabel('social');\n",
    "xlabels = ['no', 'yes']\n",
    "x.set_xticklabels(xlabels);\n",
    "plt.xticks(rotation = 90);"
   ]
  },
  {
   "cell_type": "markdown",
   "id": "d2da9140",
   "metadata": {},
   "source": [
    "## pre processing profile dataset:\n",
    "\n",
    "* verifique la columna de edad para valores extremos (118)\n",
    "* llenar con valores medios y cambiar su tipo de datos\n",
    "* cambie el nombre de las columnas de identificación para facilitar la comprensión\n",
    "* crear una nueva columna agrupada con grupo de edad\n",
    "* crear nueva columna agrupada con grupo salarial\n",
    "* crear un formato de fecha legible en la columna Become_member_on\n",
    "* extraer su año, mes y día de la columna Become_member_on agregar a las columnas (para un análisis más detallado)\n",
    "\n",
    "\n",
    "\n",
    "\n",
    "* crear una nueva columna agrupada con el grupo member_since"
   ]
  },
  {
   "cell_type": "code",
   "execution_count": 69,
   "id": "5da06f25",
   "metadata": {},
   "outputs": [],
   "source": [
    "profile['age'] = profile['age'].apply(lambda ele: 0 if ele == 118 else ele)"
   ]
  },
  {
   "cell_type": "code",
   "execution_count": 70,
   "id": "f64dfec6",
   "metadata": {},
   "outputs": [],
   "source": [
    "profile['income'].fillna((profile['income'].median()), inplace=True)"
   ]
  },
  {
   "cell_type": "code",
   "execution_count": 71,
   "id": "f7011ff2",
   "metadata": {},
   "outputs": [],
   "source": [
    "profile.rename(columns = {'id': 'customer_id'}, inplace = True)"
   ]
  },
  {
   "cell_type": "code",
   "execution_count": 72,
   "id": "fe825318",
   "metadata": {},
   "outputs": [],
   "source": [
    "def Ages(ele):\n",
    "        if ele < 20:\n",
    "            return 1\n",
    "        elif 21 < ele <= 30:\n",
    "            return 2\n",
    "        elif 31 <= ele <= 40:\n",
    "            return 3\n",
    "        elif 41 <= ele <= 50:\n",
    "            return 4\n",
    "        elif 51 <= ele <= 60:\n",
    "            return 5\n",
    "        elif 61 <= ele <= 70:\n",
    "            return 6\n",
    "        elif 71 <= ele <= 80:\n",
    "            return 7\n",
    "        elif 81 <= ele <= 90:\n",
    "            return 8\n",
    "        elif 91 <= ele <= 101:\n",
    "            return 9\n",
    "        else:\n",
    "            return 10\n",
    "            \n",
    "profile['age_groups'] = profile['age'].apply(Ages)"
   ]
  },
  {
   "cell_type": "code",
   "execution_count": 73,
   "id": "d09d9b81",
   "metadata": {},
   "outputs": [],
   "source": [
    "def Salarys(ele):\n",
    "        if ele < 30000:\n",
    "            return 1\n",
    "        elif 30001 < ele <= 40000:\n",
    "            return 2\n",
    "        elif 40001 <= ele <= 50000:\n",
    "            return 3\n",
    "        elif 50001 <= ele <= 60000:\n",
    "            return 4\n",
    "        elif 60001 <= ele <= 70000:\n",
    "            return 5\n",
    "        elif 70001 <= ele <= 80000:\n",
    "            return 6\n",
    "        elif 80001 <= ele <= 90000:\n",
    "            return 7\n",
    "        elif 90001 <= ele <= 100000:\n",
    "            return 8\n",
    "        elif 100001 <= ele <= 110000:\n",
    "            return 9\n",
    "        elif 110001 <= ele <= 120000:\n",
    "            return 10\n",
    "        elif 120001 <= ele <= 150000:\n",
    "            return 10\n",
    "        else:\n",
    "            return 0\n",
    "            \n",
    "profile['salary_groups'] = profile['income'].apply(Salarys)"
   ]
  },
  {
   "cell_type": "code",
   "execution_count": 74,
   "id": "781d6892",
   "metadata": {},
   "outputs": [],
   "source": [
    "profile['became_member_on'] = pd.to_datetime(profile['became_member_on'], format='%Y%m%d')\n",
    "profile['member_year'] = profile['became_member_on'].dt.year\n",
    "profile['member_month'] = profile['became_member_on'].dt.month\n",
    "profile['member_day'] = profile['became_member_on'].dt.day"
   ]
  },
  {
   "cell_type": "code",
   "execution_count": 75,
   "id": "80c30858",
   "metadata": {},
   "outputs": [],
   "source": [
    "import datetime\n",
    "\n",
    "profile['members_since_in_days'] = datetime.datetime.today().date() - profile['became_member_on'].dt.date\n",
    "profile['members_since_in_days'] = profile['members_since_in_days'].dt.days"
   ]
  },
  {
   "cell_type": "code",
   "execution_count": 76,
   "id": "ef8d0a16",
   "metadata": {},
   "outputs": [],
   "source": [
    "# create new column grouped with member_since group:\n",
    "\n",
    "def Year(ele):\n",
    "    if 744 <= ele <= 3*365:\n",
    "        return 2\n",
    "    elif 3*365 <= ele <= 4*365:\n",
    "        return 3\n",
    "    elif 4*365 <= ele <= 5*365:\n",
    "        return 4\n",
    "    elif 5*365 <= ele <= 6*365:\n",
    "        return 5\n",
    "    elif 6*365 <= ele <= 7*365:\n",
    "        return 6\n",
    "    elif 7*365 <= ele <= 8*365:\n",
    "        return 7\n",
    "    elif 8*365 <= ele <= 9*365:\n",
    "        return 8\n",
    "    else:\n",
    "        return 0\n",
    "            \n",
    "profile['member_since_year'] = profile['members_since_in_days'].apply(Year)"
   ]
  },
  {
   "cell_type": "code",
   "execution_count": 77,
   "id": "56952b78",
   "metadata": {},
   "outputs": [],
   "source": [
    "profile.dropna(inplace = True)"
   ]
  },
  {
   "cell_type": "code",
   "execution_count": 78,
   "id": "35884737",
   "metadata": {},
   "outputs": [
    {
     "name": "stdout",
     "output_type": "stream",
     "text": [
      "<class 'pandas.core.frame.DataFrame'>\n",
      "Int64Index: 14825 entries, 1 to 16999\n",
      "Data columns (total 12 columns):\n",
      " #   Column                 Non-Null Count  Dtype         \n",
      "---  ------                 --------------  -----         \n",
      " 0   gender                 14825 non-null  object        \n",
      " 1   age                    14825 non-null  int64         \n",
      " 2   customer_id            14825 non-null  object        \n",
      " 3   became_member_on       14825 non-null  datetime64[ns]\n",
      " 4   income                 14825 non-null  float64       \n",
      " 5   age_groups             14825 non-null  int64         \n",
      " 6   salary_groups          14825 non-null  int64         \n",
      " 7   member_year            14825 non-null  int64         \n",
      " 8   member_month           14825 non-null  int64         \n",
      " 9   member_day             14825 non-null  int64         \n",
      " 10  members_since_in_days  14825 non-null  int64         \n",
      " 11  member_since_year      14825 non-null  int64         \n",
      "dtypes: datetime64[ns](1), float64(1), int64(8), object(2)\n",
      "memory usage: 1.5+ MB\n"
     ]
    }
   ],
   "source": [
    "profile.info()"
   ]
  },
  {
   "cell_type": "code",
   "execution_count": 79,
   "id": "45379bf4",
   "metadata": {},
   "outputs": [
    {
     "data": {
      "text/html": [
       "<div>\n",
       "<style scoped>\n",
       "    .dataframe tbody tr th:only-of-type {\n",
       "        vertical-align: middle;\n",
       "    }\n",
       "\n",
       "    .dataframe tbody tr th {\n",
       "        vertical-align: top;\n",
       "    }\n",
       "\n",
       "    .dataframe thead th {\n",
       "        text-align: right;\n",
       "    }\n",
       "</style>\n",
       "<table border=\"1\" class=\"dataframe\">\n",
       "  <thead>\n",
       "    <tr style=\"text-align: right;\">\n",
       "      <th></th>\n",
       "      <th>gender</th>\n",
       "      <th>age</th>\n",
       "      <th>customer_id</th>\n",
       "      <th>became_member_on</th>\n",
       "      <th>income</th>\n",
       "      <th>age_groups</th>\n",
       "      <th>salary_groups</th>\n",
       "      <th>member_year</th>\n",
       "      <th>member_month</th>\n",
       "      <th>member_day</th>\n",
       "      <th>members_since_in_days</th>\n",
       "      <th>member_since_year</th>\n",
       "    </tr>\n",
       "  </thead>\n",
       "  <tbody>\n",
       "    <tr>\n",
       "      <th>1</th>\n",
       "      <td>F</td>\n",
       "      <td>55</td>\n",
       "      <td>0610b486422d4921ae7d2bf64640c50b</td>\n",
       "      <td>2017-07-15</td>\n",
       "      <td>112000.0</td>\n",
       "      <td>5</td>\n",
       "      <td>10</td>\n",
       "      <td>2017</td>\n",
       "      <td>7</td>\n",
       "      <td>15</td>\n",
       "      <td>1785</td>\n",
       "      <td>4</td>\n",
       "    </tr>\n",
       "    <tr>\n",
       "      <th>3</th>\n",
       "      <td>F</td>\n",
       "      <td>75</td>\n",
       "      <td>78afa995795e4d85b5d9ceeca43f5fef</td>\n",
       "      <td>2017-05-09</td>\n",
       "      <td>100000.0</td>\n",
       "      <td>7</td>\n",
       "      <td>8</td>\n",
       "      <td>2017</td>\n",
       "      <td>5</td>\n",
       "      <td>9</td>\n",
       "      <td>1852</td>\n",
       "      <td>5</td>\n",
       "    </tr>\n",
       "    <tr>\n",
       "      <th>5</th>\n",
       "      <td>M</td>\n",
       "      <td>68</td>\n",
       "      <td>e2127556f4f64592b11af22de27a7932</td>\n",
       "      <td>2018-04-26</td>\n",
       "      <td>70000.0</td>\n",
       "      <td>6</td>\n",
       "      <td>5</td>\n",
       "      <td>2018</td>\n",
       "      <td>4</td>\n",
       "      <td>26</td>\n",
       "      <td>1500</td>\n",
       "      <td>4</td>\n",
       "    </tr>\n",
       "    <tr>\n",
       "      <th>8</th>\n",
       "      <td>M</td>\n",
       "      <td>65</td>\n",
       "      <td>389bc3fa690240e798340f5a15918d5c</td>\n",
       "      <td>2018-02-09</td>\n",
       "      <td>53000.0</td>\n",
       "      <td>6</td>\n",
       "      <td>4</td>\n",
       "      <td>2018</td>\n",
       "      <td>2</td>\n",
       "      <td>9</td>\n",
       "      <td>1576</td>\n",
       "      <td>4</td>\n",
       "    </tr>\n",
       "    <tr>\n",
       "      <th>12</th>\n",
       "      <td>M</td>\n",
       "      <td>58</td>\n",
       "      <td>2eeac8d8feae4a8cad5a6af0499a211d</td>\n",
       "      <td>2017-11-11</td>\n",
       "      <td>51000.0</td>\n",
       "      <td>5</td>\n",
       "      <td>4</td>\n",
       "      <td>2017</td>\n",
       "      <td>11</td>\n",
       "      <td>11</td>\n",
       "      <td>1666</td>\n",
       "      <td>4</td>\n",
       "    </tr>\n",
       "  </tbody>\n",
       "</table>\n",
       "</div>"
      ],
      "text/plain": [
       "   gender  age                       customer_id became_member_on    income  \\\n",
       "1       F   55  0610b486422d4921ae7d2bf64640c50b       2017-07-15  112000.0   \n",
       "3       F   75  78afa995795e4d85b5d9ceeca43f5fef       2017-05-09  100000.0   \n",
       "5       M   68  e2127556f4f64592b11af22de27a7932       2018-04-26   70000.0   \n",
       "8       M   65  389bc3fa690240e798340f5a15918d5c       2018-02-09   53000.0   \n",
       "12      M   58  2eeac8d8feae4a8cad5a6af0499a211d       2017-11-11   51000.0   \n",
       "\n",
       "    age_groups  salary_groups  member_year  member_month  member_day  \\\n",
       "1            5             10         2017             7          15   \n",
       "3            7              8         2017             5           9   \n",
       "5            6              5         2018             4          26   \n",
       "8            6              4         2018             2           9   \n",
       "12           5              4         2017            11          11   \n",
       "\n",
       "    members_since_in_days  member_since_year  \n",
       "1                    1785                  4  \n",
       "3                    1852                  5  \n",
       "5                    1500                  4  \n",
       "8                    1576                  4  \n",
       "12                   1666                  4  "
      ]
     },
     "execution_count": 79,
     "metadata": {},
     "output_type": "execute_result"
    }
   ],
   "source": [
    "profile.head()"
   ]
  },
  {
   "cell_type": "markdown",
   "id": "8ae0fd6a",
   "metadata": {},
   "source": [
    "## Exploratory Data Analysis for profile dataset:\n",
    "\n",
    "* ¿Cuál es la distribución de género de los clientes de Starbucks?\n",
    "* ¿Cuál es la distribución por edad de los clientes de Starbucks?\n",
    "* ¿Cuál es la distribución de ingresos de los clientes de Starbucks?"
   ]
  },
  {
   "cell_type": "code",
   "execution_count": 80,
   "id": "5a5fe025",
   "metadata": {},
   "outputs": [
    {
     "data": {
      "image/png": "[encoded data removed]",
      "text/plain": [
       "<Figure size 1440x360 with 3 Axes>"
      ]
     },
     "metadata": {
      "needs_background": "light"
     },
     "output_type": "display_data"
    }
   ],
   "source": [
    "# Creating Subplots for distribution based on gender, age_groups, salary_groups for the cleaned Profile data:\n",
    "\n",
    "plt.figure(figsize = [20,5])\n",
    "\n",
    "color = sb.color_palette()[0]\n",
    "plt.subplot(1,3,1)\n",
    "order = ['M',  'F',  'O']\n",
    "sb.countplot(data = profile, x = 'gender', color = color, order = order);\n",
    "plt.title('Gender Distribution of Starbucks Customers');\n",
    "plt.ylabel('count');\n",
    "plt.xlabel('gender');\n",
    "\n",
    "plt.subplot(1,3,2)\n",
    "order = [5, 6, 4, 7, 3, 2, 8, 9, 1]\n",
    "x = sb.countplot(data = profile, x = 'age_groups', color = color, order = order);\n",
    "plt.title('Age Distribution of Starbucks Customers');\n",
    "plt.ylabel('count');\n",
    "plt.xlabel('age groups');\n",
    "xlabels = ['50-60', '60-70', '40-50', '70-80', '30-40', '20-30', '80-90', '90-100', '0-20']\n",
    "x.set_xticklabels(xlabels);\n",
    "plt.xticks(rotation = 90);\n",
    "\n",
    "plt.subplot(1,3,3)\n",
    "order = [4, 5, 6, 2, 3, 7, 8, 9, 10, 0]\n",
    "x = sb.countplot(data = profile, x = 'salary_groups', color = color, order = order);\n",
    "plt.title('Salary Distribution of Starbucks Customers');\n",
    "plt.ylabel('count');\n",
    "plt.xlabel('salary groups');\n",
    "xlabels = ['60-70k', '70-80k', '50-60k', '80-90k', '40-50k', '30-40k', '90-100k', '120-130k', '100-120k', '0-30k']\n",
    "x.set_xticklabels(xlabels);\n",
    "plt.xticks(rotation = 90);"
   ]
  },
  {
   "cell_type": "markdown",
   "id": "45ea2f47",
   "metadata": {},
   "source": [
    "Según el gráfico,\n",
    "1. La proporción de machos (alrededor de 9000) es ligeramente superior a la de hembras (alrededor de 6000) y muy pequeña a la de los demás.\n",
    "2. El rango de edad de 40 a 70 años visita con frecuencia Starbucks.\n",
    "3. Hay una disminución en el número de clientes a partir de 70K, mencionando que a medida que aumentan los ingresos, las personas gastan menos en café.\n",
    "\n",
    "* ¿Cuántos clientes se inscribieron anualmente?"
   ]
  },
  {
   "cell_type": "code",
   "execution_count": 81,
   "id": "04b951ad",
   "metadata": {},
   "outputs": [
    {
     "data": {
      "image/png": "[encoded data removed]",
      "text/plain": [
       "<Figure size 1440x360 with 3 Axes>"
      ]
     },
     "metadata": {
      "needs_background": "light"
     },
     "output_type": "display_data"
    }
   ],
   "source": [
    "# Creating Subplots for distribution based on year, month, member_since for the cleaned Profile data:\n",
    "\n",
    "plt.figure(figsize = [20,5])\n",
    "\n",
    "color = sb.color_palette()[0]\n",
    "plt.subplot(1,3,1)\n",
    "sb.countplot(data = profile, x = 'member_year', color = color);\n",
    "plt.title('Year Distribution of Starbucks Customers');\n",
    "plt.ylabel('count');\n",
    "plt.xlabel('year');\n",
    "\n",
    "plt.subplot(1,3,2)\n",
    "sb.countplot(data = profile, x = 'member_month', color = color);\n",
    "plt.title('Month Distribution of Starbucks Customers');\n",
    "plt.ylabel('count');\n",
    "plt.xlabel('month');\n",
    "\n",
    "plt.subplot(1,3,3)\n",
    "x = sb.countplot(data = profile, x = 'member_since_year', color = color);\n",
    "plt.title('Starbucks Customers membership from years');\n",
    "plt.ylabel('count');\n",
    "plt.xlabel('year');\n",
    "xlabels = ['since 3 ', 'since 4', 'since 5', 'since 6', 'since 7', 'since 8']\n",
    "x.set_xticklabels(xlabels);\n",
    "plt.xticks(rotation = 90);"
   ]
  },
  {
   "cell_type": "markdown",
   "id": "ca564762",
   "metadata": {},
   "source": [
    "Según el gráfico, los miembros de Starbucks aumentaron exponencialmente desde 2013 y alcanzaron su punto más alto en 2017, que luego disminuyó de manera constante.\n",
    "\n",
    "* ¿Qué género tiene la membresía anual más alta?"
   ]
  },
  {
   "cell_type": "code",
   "execution_count": 82,
   "id": "e030b73f",
   "metadata": {},
   "outputs": [
    {
     "data": {
      "image/png": "[encoded data removed]",
      "text/plain": [
       "<Figure size 1440x360 with 2 Axes>"
      ]
     },
     "metadata": {
      "needs_background": "light"
     },
     "output_type": "display_data"
    }
   ],
   "source": [
    "# Visualize distribution of membership years grouped by success:\n",
    "\n",
    "plt.figure(figsize = [20,5])\n",
    "color = sb.color_palette()[0]\n",
    "\n",
    "plt.subplot(1,2,1)\n",
    "sb.countplot(data = profile, x = 'member_year', hue = 'gender', color = color);\n",
    "plt.title('Membership Distribution of Starbucks Customers based on gender');\n",
    "plt.ylabel('count');\n",
    "plt.xlabel('year');\n",
    "\n",
    "plt.subplot(1,2,2)\n",
    "x = sb.countplot(data = profile, x = 'member_since_year', hue = 'gender', color = color);\n",
    "plt.title('Member since years Distribution of Starbucks Customers based on gender');\n",
    "plt.ylabel('count');\n",
    "plt.xlabel('year');\n",
    "xlabels = ['since 3', 'since 4', 'since 5', 'since 6', 'since 7', 'since 8']\n",
    "x.set_xticklabels(xlabels);\n",
    "plt.xticks(rotation = 90);"
   ]
  },
  {
   "cell_type": "markdown",
   "id": "c0d13fd8",
   "metadata": {},
   "source": [
    "Según el gráfico, con el aumento de la popularidad de Starbucks, las personas se unieron a Starbucks cada año de manera exponencial y alcanzaron su cenit en 2017.\n",
    "Se han unido más hombres que mujeres y muy pocos de otros cada año.\n",
    "\n",
    "* ¿Qué género tiene el ingreso anual más alto?"
   ]
  },
  {
   "cell_type": "code",
   "execution_count": 83,
   "id": "d3bfa768",
   "metadata": {},
   "outputs": [
    {
     "data": {
      "image/png": "[encoded data removed]",
      "text/plain": [
       "<Figure size 1440x936 with 4 Axes>"
      ]
     },
     "metadata": {
      "needs_background": "light"
     },
     "output_type": "display_data"
    }
   ],
   "source": [
    "# Visualize distribution of age, salarys with gender:\n",
    "\n",
    "plt.subplots(2, 2, figsize=(20, 13))\n",
    "color = sb.color_palette()[0]\n",
    "\n",
    "\n",
    "plt.subplot(2,2,1)\n",
    "order = [5, 6, 4, 3, 2, 7, 8, 9, 1]\n",
    "x = sb.countplot(data = profile, x = 'age_groups', order = order, hue = 'gender', color = color);\n",
    "plt.title('Age distribution with gender');\n",
    "plt.ylabel('count');\n",
    "plt.xlabel('age groups');\n",
    "xlabels = ['50-60', '60-70', '40-50', '70-80', '30-40', '20-30', '80-90', '90-100', '0-20']\n",
    "x.set_xticklabels(xlabels);\n",
    "plt.xticks(rotation = 0);\n",
    "\n",
    "plt.subplot(2,2,2)\n",
    "order = [4, 5, 2, 3, 6, 7, 8, 9, 10, 0]\n",
    "x = sb.countplot(data = profile, x = 'salary_groups', order = order, hue = 'gender', color = color);\n",
    "plt.title('Salary distribution with gender');\n",
    "plt.ylabel('count');\n",
    "plt.xlabel('salary groups');\n",
    "xlabels = ['60-70k', '70-80k', '50-60k', '80-90k', '40-50k', '30-40k', '90-100k', '120-130k', '100-120k', '0-30k']\n",
    "x.set_xticklabels(xlabels);\n",
    "plt.xticks(rotation = 0);\n",
    "\n",
    "# Visualize distribution of age v/s salarys and salary v/s gender:\n",
    "\n",
    "plt.subplot(2,2,3)\n",
    "x = sb.boxplot(data = profile, x = 'age_groups', y = 'salary_groups', color = color);\n",
    "plt.title('Age distribution with salary');\n",
    "plt.ylabel('salary_groups');\n",
    "plt.xlabel('age groups');\n",
    "xlabels = ['0-20', '20-30', '30-40', '40-50', '50-60', '60-70', '70-80', '80-90', '90-100', '100-110']\n",
    "x.set_xticklabels(xlabels);\n",
    "plt.xticks(rotation = 90);\n",
    "\n",
    "plt.subplot(2,2,4)\n",
    "sb.boxplot(data = profile, x = 'gender', y = 'salary_groups', color = color);\n",
    "plt.title('Gender distribution with salary');\n",
    "plt.ylabel('salary_groups');\n",
    "plt.xlabel('gender');"
   ]
  },
  {
   "cell_type": "markdown",
   "id": "5bc59092",
   "metadata": {},
   "source": [
    "Según el gráfico, los ingresos de las mujeres (alrededor de 70k) son más altos que los de los hombres y otros.\n",
    "\n",
    "El recuento de clientes masculinos en el nivel de bajos ingresos es ligeramente superior al de mujeres y otros clientes\n",
    "\n",
    "## pre processing transcript dataset:\n",
    "\n",
    "* cambie el nombre de las columnas de identificación para facilitar la comprensión.\n",
    "* Crear nuevas columnas offer_id, cantidad y recompensa de la columna de valor.\n",
    "* Reemplace el valor nulo con 0 en la columna de cantidad.\n",
    "* Eliminar columna value\n",
    "* One hot encoding para la columna event."
   ]
  },
  {
   "cell_type": "code",
   "execution_count": 84,
   "id": "f1305a25",
   "metadata": {},
   "outputs": [],
   "source": [
    "transcript.rename(columns = {'person': 'customer_id'}, inplace = True)"
   ]
  },
  {
   "cell_type": "code",
   "execution_count": 85,
   "id": "50d94f75",
   "metadata": {},
   "outputs": [],
   "source": [
    "import ast\n",
    "\n",
    "for ele in transcript['value']:\n",
    "    try:\n",
    "        ele['offer_id'] = ele.pop('offer id')\n",
    "    except:\n",
    "        pass\n",
    "\n",
    "# Cree columnas separadas para cantidad y oferta_id y recompensa del diccionario de valor col:\n",
    "data = pd.DataFrame([ast.literal_eval(json.dumps(ele)) for ele in transcript.value.values])\n",
    "transcript = pd.concat([transcript, data], axis = 1)"
   ]
  },
  {
   "cell_type": "code",
   "execution_count": 86,
   "id": "df453e93",
   "metadata": {},
   "outputs": [],
   "source": [
    "transcript.amount = transcript.amount.replace({np.nan: 0})\n",
    "transcript.drop('value', axis = 1, inplace = True)"
   ]
  },
  {
   "cell_type": "code",
   "execution_count": 87,
   "id": "fdc7225f",
   "metadata": {},
   "outputs": [],
   "source": [
    "df = pd.get_dummies(transcript['event'])\n",
    "\n",
    "transcript = pd.concat([df, transcript], axis = 1, sort = False)"
   ]
  },
  {
   "cell_type": "code",
   "execution_count": 88,
   "id": "144928eb",
   "metadata": {},
   "outputs": [
    {
     "data": {
      "image/png": "[encoded data removed]",
      "text/plain": [
       "<Figure size 432x288 with 2 Axes>"
      ]
     },
     "metadata": {
      "needs_background": "light"
     },
     "output_type": "display_data"
    }
   ],
   "source": [
    "# Heatmap de correlaciones \n",
    "sb.heatmap(df.corr(), annot = True, fmt = '.2f', cmap = 'vlag_r', center = 0)\n",
    "plt.title('Corelation between variables');"
   ]
  },
  {
   "cell_type": "markdown",
   "id": "84b527a7",
   "metadata": {},
   "source": [
    "No hay relación entre los tipos de eventos. correlación negativa entre ellos."
   ]
  },
  {
   "cell_type": "code",
   "execution_count": 89,
   "id": "1c3d2453",
   "metadata": {},
   "outputs": [],
   "source": [
    "transcript.rename(columns = {'offer completed': 'offer_completed', 'offer received': 'offer_recived', \n",
    "                             'offer viewed': 'offer_viewed'}, inplace = True)"
   ]
  },
  {
   "cell_type": "code",
   "execution_count": 90,
   "id": "45ed495c",
   "metadata": {},
   "outputs": [
    {
     "name": "stdout",
     "output_type": "stream",
     "text": [
      "<class 'pandas.core.frame.DataFrame'>\n",
      "RangeIndex: 306534 entries, 0 to 306533\n",
      "Data columns (total 10 columns):\n",
      " #   Column           Non-Null Count   Dtype  \n",
      "---  ------           --------------   -----  \n",
      " 0   offer_completed  306534 non-null  uint8  \n",
      " 1   offer_recived    306534 non-null  uint8  \n",
      " 2   offer_viewed     306534 non-null  uint8  \n",
      " 3   transaction      306534 non-null  uint8  \n",
      " 4   customer_id      306534 non-null  object \n",
      " 5   event            306534 non-null  object \n",
      " 6   time             306534 non-null  int64  \n",
      " 7   offer_id         167581 non-null  object \n",
      " 8   amount           306534 non-null  float64\n",
      " 9   reward           33579 non-null   float64\n",
      "dtypes: float64(2), int64(1), object(3), uint8(4)\n",
      "memory usage: 15.2+ MB\n"
     ]
    }
   ],
   "source": [
    "transcript.info()"
   ]
  },
  {
   "cell_type": "code",
   "execution_count": 91,
   "id": "1c71bbb3",
   "metadata": {},
   "outputs": [
    {
     "data": {
      "text/html": [
       "<div>\n",
       "<style scoped>\n",
       "    .dataframe tbody tr th:only-of-type {\n",
       "        vertical-align: middle;\n",
       "    }\n",
       "\n",
       "    .dataframe tbody tr th {\n",
       "        vertical-align: top;\n",
       "    }\n",
       "\n",
       "    .dataframe thead th {\n",
       "        text-align: right;\n",
       "    }\n",
       "</style>\n",
       "<table border=\"1\" class=\"dataframe\">\n",
       "  <thead>\n",
       "    <tr style=\"text-align: right;\">\n",
       "      <th></th>\n",
       "      <th>offer_completed</th>\n",
       "      <th>offer_recived</th>\n",
       "      <th>offer_viewed</th>\n",
       "      <th>transaction</th>\n",
       "      <th>customer_id</th>\n",
       "      <th>event</th>\n",
       "      <th>time</th>\n",
       "      <th>offer_id</th>\n",
       "      <th>amount</th>\n",
       "      <th>reward</th>\n",
       "    </tr>\n",
       "  </thead>\n",
       "  <tbody>\n",
       "    <tr>\n",
       "      <th>0</th>\n",
       "      <td>0</td>\n",
       "      <td>1</td>\n",
       "      <td>0</td>\n",
       "      <td>0</td>\n",
       "      <td>78afa995795e4d85b5d9ceeca43f5fef</td>\n",
       "      <td>offer received</td>\n",
       "      <td>0</td>\n",
       "      <td>9b98b8c7a33c4b65b9aebfe6a799e6d9</td>\n",
       "      <td>0.0</td>\n",
       "      <td>NaN</td>\n",
       "    </tr>\n",
       "    <tr>\n",
       "      <th>1</th>\n",
       "      <td>0</td>\n",
       "      <td>1</td>\n",
       "      <td>0</td>\n",
       "      <td>0</td>\n",
       "      <td>a03223e636434f42ac4c3df47e8bac43</td>\n",
       "      <td>offer received</td>\n",
       "      <td>0</td>\n",
       "      <td>0b1e1539f2cc45b7b9fa7c272da2e1d7</td>\n",
       "      <td>0.0</td>\n",
       "      <td>NaN</td>\n",
       "    </tr>\n",
       "    <tr>\n",
       "      <th>2</th>\n",
       "      <td>0</td>\n",
       "      <td>1</td>\n",
       "      <td>0</td>\n",
       "      <td>0</td>\n",
       "      <td>e2127556f4f64592b11af22de27a7932</td>\n",
       "      <td>offer received</td>\n",
       "      <td>0</td>\n",
       "      <td>2906b810c7d4411798c6938adc9daaa5</td>\n",
       "      <td>0.0</td>\n",
       "      <td>NaN</td>\n",
       "    </tr>\n",
       "    <tr>\n",
       "      <th>3</th>\n",
       "      <td>0</td>\n",
       "      <td>1</td>\n",
       "      <td>0</td>\n",
       "      <td>0</td>\n",
       "      <td>8ec6ce2a7e7949b1bf142def7d0e0586</td>\n",
       "      <td>offer received</td>\n",
       "      <td>0</td>\n",
       "      <td>fafdcd668e3743c1bb461111dcafc2a4</td>\n",
       "      <td>0.0</td>\n",
       "      <td>NaN</td>\n",
       "    </tr>\n",
       "    <tr>\n",
       "      <th>4</th>\n",
       "      <td>0</td>\n",
       "      <td>1</td>\n",
       "      <td>0</td>\n",
       "      <td>0</td>\n",
       "      <td>68617ca6246f4fbc85e91a2a49552598</td>\n",
       "      <td>offer received</td>\n",
       "      <td>0</td>\n",
       "      <td>4d5c57ea9a6940dd891ad53e9dbe8da0</td>\n",
       "      <td>0.0</td>\n",
       "      <td>NaN</td>\n",
       "    </tr>\n",
       "  </tbody>\n",
       "</table>\n",
       "</div>"
      ],
      "text/plain": [
       "   offer_completed  offer_recived  offer_viewed  transaction  \\\n",
       "0                0              1             0            0   \n",
       "1                0              1             0            0   \n",
       "2                0              1             0            0   \n",
       "3                0              1             0            0   \n",
       "4                0              1             0            0   \n",
       "\n",
       "                        customer_id           event  time  \\\n",
       "0  78afa995795e4d85b5d9ceeca43f5fef  offer received     0   \n",
       "1  a03223e636434f42ac4c3df47e8bac43  offer received     0   \n",
       "2  e2127556f4f64592b11af22de27a7932  offer received     0   \n",
       "3  8ec6ce2a7e7949b1bf142def7d0e0586  offer received     0   \n",
       "4  68617ca6246f4fbc85e91a2a49552598  offer received     0   \n",
       "\n",
       "                           offer_id  amount  reward  \n",
       "0  9b98b8c7a33c4b65b9aebfe6a799e6d9     0.0     NaN  \n",
       "1  0b1e1539f2cc45b7b9fa7c272da2e1d7     0.0     NaN  \n",
       "2  2906b810c7d4411798c6938adc9daaa5     0.0     NaN  \n",
       "3  fafdcd668e3743c1bb461111dcafc2a4     0.0     NaN  \n",
       "4  4d5c57ea9a6940dd891ad53e9dbe8da0     0.0     NaN  "
      ]
     },
     "execution_count": 91,
     "metadata": {},
     "output_type": "execute_result"
    }
   ],
   "source": [
    "transcript.head()"
   ]
  },
  {
   "cell_type": "markdown",
   "id": "b37b0529",
   "metadata": {},
   "source": [
    "## Exploratory Data Analysis for transcript dataset:"
   ]
  },
  {
   "cell_type": "code",
   "execution_count": 92,
   "id": "54877ae2",
   "metadata": {},
   "outputs": [
    {
     "name": "stderr",
     "output_type": "stream",
     "text": [
      "C:\\Users\\Oscar\\AppData\\Roaming\\Python\\Python39\\site-packages\\seaborn\\distributions.py:2619: FutureWarning: `distplot` is a deprecated function and will be removed in a future version. Please adapt your code to use either `displot` (a figure-level function with similar flexibility) or `histplot` (an axes-level function for histograms).\n",
      "  warnings.warn(msg, FutureWarning)\n"
     ]
    },
    {
     "data": {
      "image/png": "[encoded data removed]",
      "text/plain": [
       "<Figure size 720x360 with 2 Axes>"
      ]
     },
     "metadata": {
      "needs_background": "light"
     },
     "output_type": "display_data"
    }
   ],
   "source": [
    "# Visualize distribution of time:\n",
    "\n",
    "plt.figure(figsize = [10,5])\n",
    "color = sb.color_palette()[0]\n",
    "bins = np.arange(1, transcript['time'].max()+20, 20)\n",
    "\n",
    "plt.subplot(1,2,1)\n",
    "transcript.time.hist(bins = bins);\n",
    "plt.title('Visualize distribution of time');\n",
    "plt.ylabel('count');\n",
    "plt.xlabel('time');\n",
    "\n",
    "plt.subplot(1,2,2)\n",
    "sb.distplot(transcript.time, bins = bins)\n",
    "plt.title('Visualize distribution of time');\n",
    "plt.ylabel('count');\n",
    "plt.xlabel('time');"
   ]
  },
  {
   "cell_type": "code",
   "execution_count": 93,
   "id": "46cb8079",
   "metadata": {},
   "outputs": [
    {
     "data": {
      "image/png": "[encoded data removed]",
      "text/plain": [
       "<Figure size 720x360 with 1 Axes>"
      ]
     },
     "metadata": {
      "needs_background": "light"
     },
     "output_type": "display_data"
    }
   ],
   "source": [
    "# Visualize distribution of amount:\n",
    "\n",
    "plt.figure(figsize = [10,5])\n",
    "color = sb.color_palette()[0]\n",
    "bins = np.arange(1, transcript['amount'].max()+10, 10)\n",
    "\n",
    "transcript.time.hist(bins = bins);\n",
    "plt.title('Visualize distribution of time');\n",
    "plt.ylabel('count');\n",
    "plt.xlabel('amount');\n",
    "tick = [0, 50, 100, 150, 200, 250, 300, 350, 400, 450, 500, 550, 600, 650, 700, 750]\n",
    "label = ['{}'.format(ele) for ele in tick]\n",
    "plt.xticks(tick, label);\n",
    "plt.xlim((0,750));"
   ]
  },
  {
   "cell_type": "markdown",
   "id": "f49e80e7",
   "metadata": {},
   "source": [
    "* ¿Cuál es la distribución de eventos en las transcripciones?\n",
    "* ¿Cuál es el porcentaje de transacciones y ofertas en el evento?"
   ]
  },
  {
   "cell_type": "code",
   "execution_count": 94,
   "id": "140e4a1b",
   "metadata": {},
   "outputs": [
    {
     "data": {
      "image/png": "[encoded data removed]",
      "text/plain": [
       "<Figure size 720x360 with 1 Axes>"
      ]
     },
     "metadata": {
      "needs_background": "light"
     },
     "output_type": "display_data"
    }
   ],
   "source": [
    "# Visualize distribution of events:\n",
    "\n",
    "plt.figure(figsize = [10,5])\n",
    "color = sb.color_palette()[0]\n",
    "\n",
    "sb.countplot(data = transcript, x = 'event', color = color);\n",
    "plt.title('Distribution of events of customers');\n",
    "plt.ylabel('count');\n",
    "plt.xlabel('event');\n",
    "\n",
    "value_sum = transcript['event'].value_counts().sum()\n",
    "value = transcript['event'].value_counts()\n",
    "\n",
    "locs, labels = plt.xticks(rotation = 90) \n",
    "\n",
    "for loc, label in zip(locs, labels):\n",
    "\n",
    "    count = value[label.get_text()]\n",
    "    text = '{:0.1f}%'.format(100 * count/value_sum)\n",
    "\n",
    "    plt.text(loc, count+2, text, ha = 'center', color = 'black');"
   ]
  },
  {
   "cell_type": "markdown",
   "id": "8f712381",
   "metadata": {},
   "source": [
    "* According to graph, We can see that most of the transcripts are transactions.\n",
    "* Nearly 45.3% are transactions and 54.7% are offer"
   ]
  },
  {
   "cell_type": "markdown",
   "id": "29ba13c1",
   "metadata": {},
   "source": [
    "* ¿Cuál es la distribución de eventos en las transcripciones?\n",
    "* ¿Cuál es el porcentaje de transacciones y ofertas en el evento?"
   ]
  },
  {
   "cell_type": "code",
   "execution_count": 95,
   "id": "703ed84c",
   "metadata": {},
   "outputs": [
    {
     "data": {
      "text/html": [
       "<div>\n",
       "<style scoped>\n",
       "    .dataframe tbody tr th:only-of-type {\n",
       "        vertical-align: middle;\n",
       "    }\n",
       "\n",
       "    .dataframe tbody tr th {\n",
       "        vertical-align: top;\n",
       "    }\n",
       "\n",
       "    .dataframe thead th {\n",
       "        text-align: right;\n",
       "    }\n",
       "</style>\n",
       "<table border=\"1\" class=\"dataframe\">\n",
       "  <thead>\n",
       "    <tr style=\"text-align: right;\">\n",
       "      <th></th>\n",
       "      <th>offer_completed</th>\n",
       "      <th>offer_recived</th>\n",
       "      <th>offer_viewed</th>\n",
       "      <th>transaction</th>\n",
       "      <th>customer_id</th>\n",
       "      <th>event</th>\n",
       "      <th>time</th>\n",
       "      <th>offer_id</th>\n",
       "      <th>amount</th>\n",
       "      <th>reward</th>\n",
       "    </tr>\n",
       "  </thead>\n",
       "  <tbody>\n",
       "    <tr>\n",
       "      <th>0</th>\n",
       "      <td>0</td>\n",
       "      <td>1</td>\n",
       "      <td>0</td>\n",
       "      <td>0</td>\n",
       "      <td>78afa995795e4d85b5d9ceeca43f5fef</td>\n",
       "      <td>offer received</td>\n",
       "      <td>0</td>\n",
       "      <td>9b98b8c7a33c4b65b9aebfe6a799e6d9</td>\n",
       "      <td>0.0</td>\n",
       "      <td>NaN</td>\n",
       "    </tr>\n",
       "    <tr>\n",
       "      <th>1</th>\n",
       "      <td>0</td>\n",
       "      <td>1</td>\n",
       "      <td>0</td>\n",
       "      <td>0</td>\n",
       "      <td>a03223e636434f42ac4c3df47e8bac43</td>\n",
       "      <td>offer received</td>\n",
       "      <td>0</td>\n",
       "      <td>0b1e1539f2cc45b7b9fa7c272da2e1d7</td>\n",
       "      <td>0.0</td>\n",
       "      <td>NaN</td>\n",
       "    </tr>\n",
       "    <tr>\n",
       "      <th>2</th>\n",
       "      <td>0</td>\n",
       "      <td>1</td>\n",
       "      <td>0</td>\n",
       "      <td>0</td>\n",
       "      <td>e2127556f4f64592b11af22de27a7932</td>\n",
       "      <td>offer received</td>\n",
       "      <td>0</td>\n",
       "      <td>2906b810c7d4411798c6938adc9daaa5</td>\n",
       "      <td>0.0</td>\n",
       "      <td>NaN</td>\n",
       "    </tr>\n",
       "    <tr>\n",
       "      <th>3</th>\n",
       "      <td>0</td>\n",
       "      <td>1</td>\n",
       "      <td>0</td>\n",
       "      <td>0</td>\n",
       "      <td>8ec6ce2a7e7949b1bf142def7d0e0586</td>\n",
       "      <td>offer received</td>\n",
       "      <td>0</td>\n",
       "      <td>fafdcd668e3743c1bb461111dcafc2a4</td>\n",
       "      <td>0.0</td>\n",
       "      <td>NaN</td>\n",
       "    </tr>\n",
       "    <tr>\n",
       "      <th>4</th>\n",
       "      <td>0</td>\n",
       "      <td>1</td>\n",
       "      <td>0</td>\n",
       "      <td>0</td>\n",
       "      <td>68617ca6246f4fbc85e91a2a49552598</td>\n",
       "      <td>offer received</td>\n",
       "      <td>0</td>\n",
       "      <td>4d5c57ea9a6940dd891ad53e9dbe8da0</td>\n",
       "      <td>0.0</td>\n",
       "      <td>NaN</td>\n",
       "    </tr>\n",
       "  </tbody>\n",
       "</table>\n",
       "</div>"
      ],
      "text/plain": [
       "   offer_completed  offer_recived  offer_viewed  transaction  \\\n",
       "0                0              1             0            0   \n",
       "1                0              1             0            0   \n",
       "2                0              1             0            0   \n",
       "3                0              1             0            0   \n",
       "4                0              1             0            0   \n",
       "\n",
       "                        customer_id           event  time  \\\n",
       "0  78afa995795e4d85b5d9ceeca43f5fef  offer received     0   \n",
       "1  a03223e636434f42ac4c3df47e8bac43  offer received     0   \n",
       "2  e2127556f4f64592b11af22de27a7932  offer received     0   \n",
       "3  8ec6ce2a7e7949b1bf142def7d0e0586  offer received     0   \n",
       "4  68617ca6246f4fbc85e91a2a49552598  offer received     0   \n",
       "\n",
       "                           offer_id  amount  reward  \n",
       "0  9b98b8c7a33c4b65b9aebfe6a799e6d9     0.0     NaN  \n",
       "1  0b1e1539f2cc45b7b9fa7c272da2e1d7     0.0     NaN  \n",
       "2  2906b810c7d4411798c6938adc9daaa5     0.0     NaN  \n",
       "3  fafdcd668e3743c1bb461111dcafc2a4     0.0     NaN  \n",
       "4  4d5c57ea9a6940dd891ad53e9dbe8da0     0.0     NaN  "
      ]
     },
     "execution_count": 95,
     "metadata": {},
     "output_type": "execute_result"
    }
   ],
   "source": [
    "new = transcript[transcript['event'] != 'transaction']\n",
    "new = pd.DataFrame(new)\n",
    "new.head()"
   ]
  },
  {
   "cell_type": "code",
   "execution_count": 96,
   "id": "f2650927",
   "metadata": {},
   "outputs": [
    {
     "data": {
      "image/png": "[encoded data removed]",
      "text/plain": [
       "<Figure size 720x360 with 1 Axes>"
      ]
     },
     "metadata": {
      "needs_background": "light"
     },
     "output_type": "display_data"
    }
   ],
   "source": [
    "# Visualize distribution of events without transcations count:\n",
    "\n",
    "plt.figure(figsize = [10,5])\n",
    "color = sb.color_palette()[0]\n",
    "\n",
    "sb.countplot(data = new, x = new['event'], color = color);\n",
    "plt.title('Distribution of events of customers');\n",
    "plt.ylabel('count');\n",
    "plt.xlabel('event');\n",
    "\n",
    "value_sum = new['event'].value_counts().sum()\n",
    "value = new['event'].value_counts()\n",
    "locs, labels = plt.xticks(rotation = 90) \n",
    "\n",
    "for loc, label in zip(locs, labels):\n",
    "\n",
    "    count = value[label.get_text()]\n",
    "    text = '{:0.1f}%'.format(100 * count/value_sum)\n",
    "\n",
    "    plt.text(loc, count+2, text, ha = 'center', color = 'black');"
   ]
  },
  {
   "cell_type": "code",
   "execution_count": 97,
   "id": "856c8a49",
   "metadata": {},
   "outputs": [
    {
     "data": {
      "image/png": "[encoded data removed]",
      "text/plain": [
       "<Figure size 1944x504 with 4 Axes>"
      ]
     },
     "metadata": {
      "needs_background": "light"
     },
     "output_type": "display_data"
    }
   ],
   "source": [
    "# Graph for Number of counts who recived, viewed, completed the offers:\n",
    "\n",
    "plt.figure(figsize = [27,7])\n",
    "color = sb.color_palette()[0]\n",
    "\n",
    "plt.subplot(1,4,1)\n",
    "x = sb.countplot(data = transcript, x = 'offer_viewed', color = color);\n",
    "plt.title('Number of counts who viewed the offer');\n",
    "plt.ylabel('count');\n",
    "plt.xlabel('offer_viewed');\n",
    "xlabels = ['no', 'yes']\n",
    "x.set_xticklabels(xlabels);\n",
    "plt.xticks(rotation = 0);\n",
    "\n",
    "plt.subplot(1,4,2)\n",
    "x = sb.countplot(data = transcript, x = 'offer_completed', color = color);\n",
    "plt.title('Number of counts who completed the offers');\n",
    "plt.ylabel('count');\n",
    "plt.xlabel('offer_completed');\n",
    "xlabels = ['no', 'yes']\n",
    "x.set_xticklabels(xlabels);\n",
    "plt.xticks(rotation = 0);\n",
    "\n",
    "plt.subplot(1,4,3)\n",
    "x = sb.countplot(data = transcript, x = 'offer_recived', color = color);\n",
    "plt.title('Number of counts who recived the offers');\n",
    "plt.ylabel('count');\n",
    "plt.xlabel('offer_recived');\n",
    "xlabels = ['no', 'yes']\n",
    "x.set_xticklabels(xlabels);\n",
    "plt.xticks(rotation = 0);\n",
    "\n",
    "plt.subplot(1,4,4)\n",
    "x = sb.countplot(data = transcript, x = 'transaction', color = color);\n",
    "plt.title('Number of transactions');\n",
    "plt.ylabel('count');\n",
    "plt.xlabel('transaction');\n",
    "xlabels = ['no', 'yes']\n",
    "x.set_xticklabels(xlabels);\n",
    "plt.xticks(rotation = 0);"
   ]
  },
  {
   "cell_type": "markdown",
   "id": "3194fe1f",
   "metadata": {},
   "source": [
    "## Combine los tres conjuntos de datos con columnas comunes en uno para un análisis más detallado:"
   ]
  },
  {
   "cell_type": "code",
   "execution_count": 98,
   "id": "6e4489eb",
   "metadata": {},
   "outputs": [
    {
     "data": {
      "text/plain": [
       "((306534, 10), (14825, 12), (272762, 21))"
      ]
     },
     "execution_count": 98,
     "metadata": {},
     "output_type": "execute_result"
    }
   ],
   "source": [
    "data = transcript.merge(profile, on = ['customer_id'])\n",
    "transcript.shape, profile.shape, data.shape"
   ]
  },
  {
   "cell_type": "code",
   "execution_count": 99,
   "id": "bfcaf48e",
   "metadata": {},
   "outputs": [
    {
     "data": {
      "text/plain": [
       "(272762, 21)"
      ]
     },
     "execution_count": 99,
     "metadata": {},
     "output_type": "execute_result"
    }
   ],
   "source": [
    "data.shape"
   ]
  },
  {
   "cell_type": "code",
   "execution_count": 100,
   "id": "5275a783",
   "metadata": {},
   "outputs": [
    {
     "name": "stdout",
     "output_type": "stream",
     "text": [
      "<class 'pandas.core.frame.DataFrame'>\n",
      "Int64Index: 272762 entries, 0 to 272761\n",
      "Data columns (total 21 columns):\n",
      " #   Column                 Non-Null Count   Dtype         \n",
      "---  ------                 --------------   -----         \n",
      " 0   offer_completed        272762 non-null  uint8         \n",
      " 1   offer_recived          272762 non-null  uint8         \n",
      " 2   offer_viewed           272762 non-null  uint8         \n",
      " 3   transaction            272762 non-null  uint8         \n",
      " 4   customer_id            272762 non-null  object        \n",
      " 5   event                  272762 non-null  object        \n",
      " 6   time                   272762 non-null  int64         \n",
      " 7   offer_id               148805 non-null  object        \n",
      " 8   amount                 272762 non-null  float64       \n",
      " 9   reward                 32444 non-null   float64       \n",
      " 10  gender                 272762 non-null  object        \n",
      " 11  age                    272762 non-null  int64         \n",
      " 12  became_member_on       272762 non-null  datetime64[ns]\n",
      " 13  income                 272762 non-null  float64       \n",
      " 14  age_groups             272762 non-null  int64         \n",
      " 15  salary_groups          272762 non-null  int64         \n",
      " 16  member_year            272762 non-null  int64         \n",
      " 17  member_month           272762 non-null  int64         \n",
      " 18  member_day             272762 non-null  int64         \n",
      " 19  members_since_in_days  272762 non-null  int64         \n",
      " 20  member_since_year      272762 non-null  int64         \n",
      "dtypes: datetime64[ns](1), float64(3), int64(9), object(4), uint8(4)\n",
      "memory usage: 38.5+ MB\n"
     ]
    }
   ],
   "source": [
    "data.info()"
   ]
  },
  {
   "cell_type": "code",
   "execution_count": 101,
   "id": "dfdcc762",
   "metadata": {},
   "outputs": [
    {
     "data": {
      "text/plain": [
       "((10, 10), (272762, 21))"
      ]
     },
     "execution_count": 101,
     "metadata": {},
     "output_type": "execute_result"
    }
   ],
   "source": [
    "new_data = data.merge(portfolio, on = ['offer_id'], how = 'left')\n",
    "portfolio.shape, data.shape"
   ]
  },
  {
   "cell_type": "markdown",
   "id": "011fdcc4",
   "metadata": {},
   "source": [
    "* Después de fusionar los tres conjuntos de datos, el conjunto new_data final contiene 272762 filas y 30 columnas."
   ]
  },
  {
   "cell_type": "code",
   "execution_count": 102,
   "id": "e4726609",
   "metadata": {},
   "outputs": [
    {
     "name": "stdout",
     "output_type": "stream",
     "text": [
      "<class 'pandas.core.frame.DataFrame'>\n",
      "Int64Index: 272762 entries, 0 to 272761\n",
      "Data columns (total 30 columns):\n",
      " #   Column                 Non-Null Count   Dtype         \n",
      "---  ------                 --------------   -----         \n",
      " 0   offer_completed        272762 non-null  uint8         \n",
      " 1   offer_recived          272762 non-null  uint8         \n",
      " 2   offer_viewed           272762 non-null  uint8         \n",
      " 3   transaction            272762 non-null  uint8         \n",
      " 4   customer_id            272762 non-null  object        \n",
      " 5   event                  272762 non-null  object        \n",
      " 6   time                   272762 non-null  int64         \n",
      " 7   offer_id               148805 non-null  object        \n",
      " 8   amount                 272762 non-null  float64       \n",
      " 9   reward_x               32444 non-null   float64       \n",
      " 10  gender                 272762 non-null  object        \n",
      " 11  age                    272762 non-null  int64         \n",
      " 12  became_member_on       272762 non-null  datetime64[ns]\n",
      " 13  income                 272762 non-null  float64       \n",
      " 14  age_groups             272762 non-null  int64         \n",
      " 15  salary_groups          272762 non-null  int64         \n",
      " 16  member_year            272762 non-null  int64         \n",
      " 17  member_month           272762 non-null  int64         \n",
      " 18  member_day             272762 non-null  int64         \n",
      " 19  members_since_in_days  272762 non-null  int64         \n",
      " 20  member_since_year      272762 non-null  int64         \n",
      " 21  reward_y               148805 non-null  float64       \n",
      " 22  channels               148805 non-null  object        \n",
      " 23  difficulty             148805 non-null  float64       \n",
      " 24  duration               148805 non-null  float64       \n",
      " 25  offer_type             148805 non-null  object        \n",
      " 26  email                  148805 non-null  float64       \n",
      " 27  web                    148805 non-null  float64       \n",
      " 28  mobile                 148805 non-null  float64       \n",
      " 29  social                 148805 non-null  float64       \n",
      "dtypes: datetime64[ns](1), float64(10), int64(9), object(6), uint8(4)\n",
      "memory usage: 57.2+ MB\n"
     ]
    }
   ],
   "source": [
    "new_data.info()"
   ]
  },
  {
   "cell_type": "markdown",
   "id": "3a17f0f9",
   "metadata": {},
   "source": [
    "* Dataframe que consta de todos los datos relacionados con las ofertas se separa en (oferta_datos)\n",
    "* Dataframe que consta de todos los datos relacionados con las transacciones se separa en (transaction_data)."
   ]
  },
  {
   "cell_type": "code",
   "execution_count": 103,
   "id": "98205c5a",
   "metadata": {},
   "outputs": [
    {
     "data": {
      "text/html": [
       "<div>\n",
       "<style scoped>\n",
       "    .dataframe tbody tr th:only-of-type {\n",
       "        vertical-align: middle;\n",
       "    }\n",
       "\n",
       "    .dataframe tbody tr th {\n",
       "        vertical-align: top;\n",
       "    }\n",
       "\n",
       "    .dataframe thead th {\n",
       "        text-align: right;\n",
       "    }\n",
       "</style>\n",
       "<table border=\"1\" class=\"dataframe\">\n",
       "  <thead>\n",
       "    <tr style=\"text-align: right;\">\n",
       "      <th></th>\n",
       "      <th>offer_completed</th>\n",
       "      <th>offer_recived</th>\n",
       "      <th>offer_viewed</th>\n",
       "      <th>transaction</th>\n",
       "      <th>customer_id</th>\n",
       "      <th>event</th>\n",
       "      <th>time</th>\n",
       "      <th>offer_id</th>\n",
       "      <th>amount</th>\n",
       "      <th>reward_x</th>\n",
       "      <th>...</th>\n",
       "      <th>member_since_year</th>\n",
       "      <th>reward_y</th>\n",
       "      <th>channels</th>\n",
       "      <th>difficulty</th>\n",
       "      <th>duration</th>\n",
       "      <th>offer_type</th>\n",
       "      <th>email</th>\n",
       "      <th>web</th>\n",
       "      <th>mobile</th>\n",
       "      <th>social</th>\n",
       "    </tr>\n",
       "  </thead>\n",
       "  <tbody>\n",
       "    <tr>\n",
       "      <th>2</th>\n",
       "      <td>0</td>\n",
       "      <td>0</td>\n",
       "      <td>0</td>\n",
       "      <td>1</td>\n",
       "      <td>78afa995795e4d85b5d9ceeca43f5fef</td>\n",
       "      <td>transaction</td>\n",
       "      <td>132</td>\n",
       "      <td>NaN</td>\n",
       "      <td>19.89</td>\n",
       "      <td>NaN</td>\n",
       "      <td>...</td>\n",
       "      <td>5</td>\n",
       "      <td>NaN</td>\n",
       "      <td>NaN</td>\n",
       "      <td>NaN</td>\n",
       "      <td>NaN</td>\n",
       "      <td>NaN</td>\n",
       "      <td>NaN</td>\n",
       "      <td>NaN</td>\n",
       "      <td>NaN</td>\n",
       "      <td>NaN</td>\n",
       "    </tr>\n",
       "    <tr>\n",
       "      <th>4</th>\n",
       "      <td>0</td>\n",
       "      <td>0</td>\n",
       "      <td>0</td>\n",
       "      <td>1</td>\n",
       "      <td>78afa995795e4d85b5d9ceeca43f5fef</td>\n",
       "      <td>transaction</td>\n",
       "      <td>144</td>\n",
       "      <td>NaN</td>\n",
       "      <td>17.78</td>\n",
       "      <td>NaN</td>\n",
       "      <td>...</td>\n",
       "      <td>5</td>\n",
       "      <td>NaN</td>\n",
       "      <td>NaN</td>\n",
       "      <td>NaN</td>\n",
       "      <td>NaN</td>\n",
       "      <td>NaN</td>\n",
       "      <td>NaN</td>\n",
       "      <td>NaN</td>\n",
       "      <td>NaN</td>\n",
       "      <td>NaN</td>\n",
       "    </tr>\n",
       "    <tr>\n",
       "      <th>7</th>\n",
       "      <td>0</td>\n",
       "      <td>0</td>\n",
       "      <td>0</td>\n",
       "      <td>1</td>\n",
       "      <td>78afa995795e4d85b5d9ceeca43f5fef</td>\n",
       "      <td>transaction</td>\n",
       "      <td>222</td>\n",
       "      <td>NaN</td>\n",
       "      <td>19.67</td>\n",
       "      <td>NaN</td>\n",
       "      <td>...</td>\n",
       "      <td>5</td>\n",
       "      <td>NaN</td>\n",
       "      <td>NaN</td>\n",
       "      <td>NaN</td>\n",
       "      <td>NaN</td>\n",
       "      <td>NaN</td>\n",
       "      <td>NaN</td>\n",
       "      <td>NaN</td>\n",
       "      <td>NaN</td>\n",
       "      <td>NaN</td>\n",
       "    </tr>\n",
       "    <tr>\n",
       "      <th>8</th>\n",
       "      <td>0</td>\n",
       "      <td>0</td>\n",
       "      <td>0</td>\n",
       "      <td>1</td>\n",
       "      <td>78afa995795e4d85b5d9ceeca43f5fef</td>\n",
       "      <td>transaction</td>\n",
       "      <td>240</td>\n",
       "      <td>NaN</td>\n",
       "      <td>29.72</td>\n",
       "      <td>NaN</td>\n",
       "      <td>...</td>\n",
       "      <td>5</td>\n",
       "      <td>NaN</td>\n",
       "      <td>NaN</td>\n",
       "      <td>NaN</td>\n",
       "      <td>NaN</td>\n",
       "      <td>NaN</td>\n",
       "      <td>NaN</td>\n",
       "      <td>NaN</td>\n",
       "      <td>NaN</td>\n",
       "      <td>NaN</td>\n",
       "    </tr>\n",
       "    <tr>\n",
       "      <th>9</th>\n",
       "      <td>0</td>\n",
       "      <td>0</td>\n",
       "      <td>0</td>\n",
       "      <td>1</td>\n",
       "      <td>78afa995795e4d85b5d9ceeca43f5fef</td>\n",
       "      <td>transaction</td>\n",
       "      <td>378</td>\n",
       "      <td>NaN</td>\n",
       "      <td>23.93</td>\n",
       "      <td>NaN</td>\n",
       "      <td>...</td>\n",
       "      <td>5</td>\n",
       "      <td>NaN</td>\n",
       "      <td>NaN</td>\n",
       "      <td>NaN</td>\n",
       "      <td>NaN</td>\n",
       "      <td>NaN</td>\n",
       "      <td>NaN</td>\n",
       "      <td>NaN</td>\n",
       "      <td>NaN</td>\n",
       "      <td>NaN</td>\n",
       "    </tr>\n",
       "  </tbody>\n",
       "</table>\n",
       "<p>5 rows × 30 columns</p>\n",
       "</div>"
      ],
      "text/plain": [
       "   offer_completed  offer_recived  offer_viewed  transaction  \\\n",
       "2                0              0             0            1   \n",
       "4                0              0             0            1   \n",
       "7                0              0             0            1   \n",
       "8                0              0             0            1   \n",
       "9                0              0             0            1   \n",
       "\n",
       "                        customer_id        event  time offer_id  amount  \\\n",
       "2  78afa995795e4d85b5d9ceeca43f5fef  transaction   132      NaN   19.89   \n",
       "4  78afa995795e4d85b5d9ceeca43f5fef  transaction   144      NaN   17.78   \n",
       "7  78afa995795e4d85b5d9ceeca43f5fef  transaction   222      NaN   19.67   \n",
       "8  78afa995795e4d85b5d9ceeca43f5fef  transaction   240      NaN   29.72   \n",
       "9  78afa995795e4d85b5d9ceeca43f5fef  transaction   378      NaN   23.93   \n",
       "\n",
       "   reward_x  ... member_since_year  reward_y channels  difficulty  duration  \\\n",
       "2       NaN  ...                 5       NaN      NaN         NaN       NaN   \n",
       "4       NaN  ...                 5       NaN      NaN         NaN       NaN   \n",
       "7       NaN  ...                 5       NaN      NaN         NaN       NaN   \n",
       "8       NaN  ...                 5       NaN      NaN         NaN       NaN   \n",
       "9       NaN  ...                 5       NaN      NaN         NaN       NaN   \n",
       "\n",
       "   offer_type  email  web  mobile  social  \n",
       "2         NaN    NaN  NaN     NaN     NaN  \n",
       "4         NaN    NaN  NaN     NaN     NaN  \n",
       "7         NaN    NaN  NaN     NaN     NaN  \n",
       "8         NaN    NaN  NaN     NaN     NaN  \n",
       "9         NaN    NaN  NaN     NaN     NaN  \n",
       "\n",
       "[5 rows x 30 columns]"
      ]
     },
     "execution_count": 103,
     "metadata": {},
     "output_type": "execute_result"
    }
   ],
   "source": [
    "transaction_df = new_data[new_data['event'] == 'transaction']\n",
    "transaction_df.head()"
   ]
  },
  {
   "cell_type": "code",
   "execution_count": 104,
   "id": "cb8c3b94",
   "metadata": {},
   "outputs": [
    {
     "data": {
      "text/plain": [
       "(123957, 30)"
      ]
     },
     "execution_count": 104,
     "metadata": {},
     "output_type": "execute_result"
    }
   ],
   "source": [
    "transaction_df.shape"
   ]
  },
  {
   "cell_type": "code",
   "execution_count": 105,
   "id": "232dfb8f",
   "metadata": {},
   "outputs": [
    {
     "data": {
      "text/html": [
       "<div>\n",
       "<style scoped>\n",
       "    .dataframe tbody tr th:only-of-type {\n",
       "        vertical-align: middle;\n",
       "    }\n",
       "\n",
       "    .dataframe tbody tr th {\n",
       "        vertical-align: top;\n",
       "    }\n",
       "\n",
       "    .dataframe thead th {\n",
       "        text-align: right;\n",
       "    }\n",
       "</style>\n",
       "<table border=\"1\" class=\"dataframe\">\n",
       "  <thead>\n",
       "    <tr style=\"text-align: right;\">\n",
       "      <th></th>\n",
       "      <th>offer_completed</th>\n",
       "      <th>offer_recived</th>\n",
       "      <th>offer_viewed</th>\n",
       "      <th>transaction</th>\n",
       "      <th>customer_id</th>\n",
       "      <th>event</th>\n",
       "      <th>time</th>\n",
       "      <th>offer_id</th>\n",
       "      <th>amount</th>\n",
       "      <th>reward_x</th>\n",
       "      <th>...</th>\n",
       "      <th>member_since_year</th>\n",
       "      <th>reward_y</th>\n",
       "      <th>channels</th>\n",
       "      <th>difficulty</th>\n",
       "      <th>duration</th>\n",
       "      <th>offer_type</th>\n",
       "      <th>email</th>\n",
       "      <th>web</th>\n",
       "      <th>mobile</th>\n",
       "      <th>social</th>\n",
       "    </tr>\n",
       "  </thead>\n",
       "  <tbody>\n",
       "    <tr>\n",
       "      <th>0</th>\n",
       "      <td>0</td>\n",
       "      <td>1</td>\n",
       "      <td>0</td>\n",
       "      <td>0</td>\n",
       "      <td>78afa995795e4d85b5d9ceeca43f5fef</td>\n",
       "      <td>offer received</td>\n",
       "      <td>0</td>\n",
       "      <td>9b98b8c7a33c4b65b9aebfe6a799e6d9</td>\n",
       "      <td>0.0</td>\n",
       "      <td>NaN</td>\n",
       "      <td>...</td>\n",
       "      <td>5</td>\n",
       "      <td>5.0</td>\n",
       "      <td>[web, email, mobile]</td>\n",
       "      <td>5.0</td>\n",
       "      <td>7.0</td>\n",
       "      <td>bogo</td>\n",
       "      <td>1.0</td>\n",
       "      <td>1.0</td>\n",
       "      <td>1.0</td>\n",
       "      <td>0.0</td>\n",
       "    </tr>\n",
       "    <tr>\n",
       "      <th>1</th>\n",
       "      <td>0</td>\n",
       "      <td>0</td>\n",
       "      <td>1</td>\n",
       "      <td>0</td>\n",
       "      <td>78afa995795e4d85b5d9ceeca43f5fef</td>\n",
       "      <td>offer viewed</td>\n",
       "      <td>6</td>\n",
       "      <td>9b98b8c7a33c4b65b9aebfe6a799e6d9</td>\n",
       "      <td>0.0</td>\n",
       "      <td>NaN</td>\n",
       "      <td>...</td>\n",
       "      <td>5</td>\n",
       "      <td>5.0</td>\n",
       "      <td>[web, email, mobile]</td>\n",
       "      <td>5.0</td>\n",
       "      <td>7.0</td>\n",
       "      <td>bogo</td>\n",
       "      <td>1.0</td>\n",
       "      <td>1.0</td>\n",
       "      <td>1.0</td>\n",
       "      <td>0.0</td>\n",
       "    </tr>\n",
       "    <tr>\n",
       "      <th>3</th>\n",
       "      <td>1</td>\n",
       "      <td>0</td>\n",
       "      <td>0</td>\n",
       "      <td>0</td>\n",
       "      <td>78afa995795e4d85b5d9ceeca43f5fef</td>\n",
       "      <td>offer completed</td>\n",
       "      <td>132</td>\n",
       "      <td>9b98b8c7a33c4b65b9aebfe6a799e6d9</td>\n",
       "      <td>0.0</td>\n",
       "      <td>5.0</td>\n",
       "      <td>...</td>\n",
       "      <td>5</td>\n",
       "      <td>5.0</td>\n",
       "      <td>[web, email, mobile]</td>\n",
       "      <td>5.0</td>\n",
       "      <td>7.0</td>\n",
       "      <td>bogo</td>\n",
       "      <td>1.0</td>\n",
       "      <td>1.0</td>\n",
       "      <td>1.0</td>\n",
       "      <td>0.0</td>\n",
       "    </tr>\n",
       "    <tr>\n",
       "      <th>5</th>\n",
       "      <td>0</td>\n",
       "      <td>1</td>\n",
       "      <td>0</td>\n",
       "      <td>0</td>\n",
       "      <td>78afa995795e4d85b5d9ceeca43f5fef</td>\n",
       "      <td>offer received</td>\n",
       "      <td>168</td>\n",
       "      <td>5a8bc65990b245e5a138643cd4eb9837</td>\n",
       "      <td>0.0</td>\n",
       "      <td>NaN</td>\n",
       "      <td>...</td>\n",
       "      <td>5</td>\n",
       "      <td>0.0</td>\n",
       "      <td>[email, mobile, social]</td>\n",
       "      <td>0.0</td>\n",
       "      <td>3.0</td>\n",
       "      <td>informational</td>\n",
       "      <td>1.0</td>\n",
       "      <td>0.0</td>\n",
       "      <td>1.0</td>\n",
       "      <td>1.0</td>\n",
       "    </tr>\n",
       "    <tr>\n",
       "      <th>6</th>\n",
       "      <td>0</td>\n",
       "      <td>0</td>\n",
       "      <td>1</td>\n",
       "      <td>0</td>\n",
       "      <td>78afa995795e4d85b5d9ceeca43f5fef</td>\n",
       "      <td>offer viewed</td>\n",
       "      <td>216</td>\n",
       "      <td>5a8bc65990b245e5a138643cd4eb9837</td>\n",
       "      <td>0.0</td>\n",
       "      <td>NaN</td>\n",
       "      <td>...</td>\n",
       "      <td>5</td>\n",
       "      <td>0.0</td>\n",
       "      <td>[email, mobile, social]</td>\n",
       "      <td>0.0</td>\n",
       "      <td>3.0</td>\n",
       "      <td>informational</td>\n",
       "      <td>1.0</td>\n",
       "      <td>0.0</td>\n",
       "      <td>1.0</td>\n",
       "      <td>1.0</td>\n",
       "    </tr>\n",
       "  </tbody>\n",
       "</table>\n",
       "<p>5 rows × 30 columns</p>\n",
       "</div>"
      ],
      "text/plain": [
       "   offer_completed  offer_recived  offer_viewed  transaction  \\\n",
       "0                0              1             0            0   \n",
       "1                0              0             1            0   \n",
       "3                1              0             0            0   \n",
       "5                0              1             0            0   \n",
       "6                0              0             1            0   \n",
       "\n",
       "                        customer_id            event  time  \\\n",
       "0  78afa995795e4d85b5d9ceeca43f5fef   offer received     0   \n",
       "1  78afa995795e4d85b5d9ceeca43f5fef     offer viewed     6   \n",
       "3  78afa995795e4d85b5d9ceeca43f5fef  offer completed   132   \n",
       "5  78afa995795e4d85b5d9ceeca43f5fef   offer received   168   \n",
       "6  78afa995795e4d85b5d9ceeca43f5fef     offer viewed   216   \n",
       "\n",
       "                           offer_id  amount  reward_x  ... member_since_year  \\\n",
       "0  9b98b8c7a33c4b65b9aebfe6a799e6d9     0.0       NaN  ...                 5   \n",
       "1  9b98b8c7a33c4b65b9aebfe6a799e6d9     0.0       NaN  ...                 5   \n",
       "3  9b98b8c7a33c4b65b9aebfe6a799e6d9     0.0       5.0  ...                 5   \n",
       "5  5a8bc65990b245e5a138643cd4eb9837     0.0       NaN  ...                 5   \n",
       "6  5a8bc65990b245e5a138643cd4eb9837     0.0       NaN  ...                 5   \n",
       "\n",
       "   reward_y                 channels  difficulty  duration     offer_type  \\\n",
       "0       5.0     [web, email, mobile]         5.0       7.0           bogo   \n",
       "1       5.0     [web, email, mobile]         5.0       7.0           bogo   \n",
       "3       5.0     [web, email, mobile]         5.0       7.0           bogo   \n",
       "5       0.0  [email, mobile, social]         0.0       3.0  informational   \n",
       "6       0.0  [email, mobile, social]         0.0       3.0  informational   \n",
       "\n",
       "   email  web  mobile  social  \n",
       "0    1.0  1.0     1.0     0.0  \n",
       "1    1.0  1.0     1.0     0.0  \n",
       "3    1.0  1.0     1.0     0.0  \n",
       "5    1.0  0.0     1.0     1.0  \n",
       "6    1.0  0.0     1.0     1.0  \n",
       "\n",
       "[5 rows x 30 columns]"
      ]
     },
     "execution_count": 105,
     "metadata": {},
     "output_type": "execute_result"
    }
   ],
   "source": [
    "offer_df = new_data[new_data['transaction'] != 1]\n",
    "offer_df.head()"
   ]
  },
  {
   "cell_type": "code",
   "execution_count": 106,
   "id": "858fc5fc",
   "metadata": {},
   "outputs": [
    {
     "name": "stdout",
     "output_type": "stream",
     "text": [
      "mean time value:  354.57022277477233\n",
      "median time value:  408.0\n"
     ]
    }
   ],
   "source": [
    "print('mean time value: ', offer_df.time.mean())\n",
    "print('median time value: ',offer_df.time.median())"
   ]
  },
  {
   "cell_type": "code",
   "execution_count": 107,
   "id": "aabaf961",
   "metadata": {},
   "outputs": [
    {
     "name": "stdout",
     "output_type": "stream",
     "text": [
      "mean age value:  54.77928161016095\n",
      "median age value:  56.0\n",
      "total age value:  8151431\n",
      "maximum age value:  101\n",
      "minimum age value:  18\n"
     ]
    }
   ],
   "source": [
    "print('mean age value: ', offer_df.age.mean())\n",
    "print('median age value: ',offer_df.age.median())\n",
    "print('total age value: ', offer_df.age.sum())\n",
    "print('maximum age value: ',offer_df.age.max())\n",
    "print('minimum age value: ',offer_df.age.min())"
   ]
  },
  {
   "cell_type": "code",
   "execution_count": 108,
   "id": "54e74d5e",
   "metadata": {},
   "outputs": [],
   "source": [
    "offer_df.reset_index(inplace=True)\n",
    "del offer_df['index']"
   ]
  },
  {
   "cell_type": "code",
   "execution_count": 109,
   "id": "258496c7",
   "metadata": {},
   "outputs": [
    {
     "data": {
      "text/html": [
       "<div>\n",
       "<style scoped>\n",
       "    .dataframe tbody tr th:only-of-type {\n",
       "        vertical-align: middle;\n",
       "    }\n",
       "\n",
       "    .dataframe tbody tr th {\n",
       "        vertical-align: top;\n",
       "    }\n",
       "\n",
       "    .dataframe thead th {\n",
       "        text-align: right;\n",
       "    }\n",
       "</style>\n",
       "<table border=\"1\" class=\"dataframe\">\n",
       "  <thead>\n",
       "    <tr style=\"text-align: right;\">\n",
       "      <th></th>\n",
       "      <th>offer_completed</th>\n",
       "      <th>offer_recived</th>\n",
       "      <th>offer_viewed</th>\n",
       "      <th>transaction</th>\n",
       "      <th>customer_id</th>\n",
       "      <th>event</th>\n",
       "      <th>time</th>\n",
       "      <th>offer_id</th>\n",
       "      <th>amount</th>\n",
       "      <th>reward_x</th>\n",
       "      <th>...</th>\n",
       "      <th>member_since_year</th>\n",
       "      <th>reward_y</th>\n",
       "      <th>channels</th>\n",
       "      <th>difficulty</th>\n",
       "      <th>duration</th>\n",
       "      <th>offer_type</th>\n",
       "      <th>email</th>\n",
       "      <th>web</th>\n",
       "      <th>mobile</th>\n",
       "      <th>social</th>\n",
       "    </tr>\n",
       "  </thead>\n",
       "  <tbody>\n",
       "    <tr>\n",
       "      <th>0</th>\n",
       "      <td>0</td>\n",
       "      <td>1</td>\n",
       "      <td>0</td>\n",
       "      <td>0</td>\n",
       "      <td>78afa995795e4d85b5d9ceeca43f5fef</td>\n",
       "      <td>offer received</td>\n",
       "      <td>0</td>\n",
       "      <td>9b98b8c7a33c4b65b9aebfe6a799e6d9</td>\n",
       "      <td>0.0</td>\n",
       "      <td>NaN</td>\n",
       "      <td>...</td>\n",
       "      <td>5</td>\n",
       "      <td>5.0</td>\n",
       "      <td>[web, email, mobile]</td>\n",
       "      <td>5.0</td>\n",
       "      <td>7.0</td>\n",
       "      <td>bogo</td>\n",
       "      <td>1.0</td>\n",
       "      <td>1.0</td>\n",
       "      <td>1.0</td>\n",
       "      <td>0.0</td>\n",
       "    </tr>\n",
       "    <tr>\n",
       "      <th>1</th>\n",
       "      <td>0</td>\n",
       "      <td>0</td>\n",
       "      <td>1</td>\n",
       "      <td>0</td>\n",
       "      <td>78afa995795e4d85b5d9ceeca43f5fef</td>\n",
       "      <td>offer viewed</td>\n",
       "      <td>6</td>\n",
       "      <td>9b98b8c7a33c4b65b9aebfe6a799e6d9</td>\n",
       "      <td>0.0</td>\n",
       "      <td>NaN</td>\n",
       "      <td>...</td>\n",
       "      <td>5</td>\n",
       "      <td>5.0</td>\n",
       "      <td>[web, email, mobile]</td>\n",
       "      <td>5.0</td>\n",
       "      <td>7.0</td>\n",
       "      <td>bogo</td>\n",
       "      <td>1.0</td>\n",
       "      <td>1.0</td>\n",
       "      <td>1.0</td>\n",
       "      <td>0.0</td>\n",
       "    </tr>\n",
       "    <tr>\n",
       "      <th>2</th>\n",
       "      <td>1</td>\n",
       "      <td>0</td>\n",
       "      <td>0</td>\n",
       "      <td>0</td>\n",
       "      <td>78afa995795e4d85b5d9ceeca43f5fef</td>\n",
       "      <td>offer completed</td>\n",
       "      <td>132</td>\n",
       "      <td>9b98b8c7a33c4b65b9aebfe6a799e6d9</td>\n",
       "      <td>0.0</td>\n",
       "      <td>5.0</td>\n",
       "      <td>...</td>\n",
       "      <td>5</td>\n",
       "      <td>5.0</td>\n",
       "      <td>[web, email, mobile]</td>\n",
       "      <td>5.0</td>\n",
       "      <td>7.0</td>\n",
       "      <td>bogo</td>\n",
       "      <td>1.0</td>\n",
       "      <td>1.0</td>\n",
       "      <td>1.0</td>\n",
       "      <td>0.0</td>\n",
       "    </tr>\n",
       "    <tr>\n",
       "      <th>3</th>\n",
       "      <td>0</td>\n",
       "      <td>1</td>\n",
       "      <td>0</td>\n",
       "      <td>0</td>\n",
       "      <td>78afa995795e4d85b5d9ceeca43f5fef</td>\n",
       "      <td>offer received</td>\n",
       "      <td>168</td>\n",
       "      <td>5a8bc65990b245e5a138643cd4eb9837</td>\n",
       "      <td>0.0</td>\n",
       "      <td>NaN</td>\n",
       "      <td>...</td>\n",
       "      <td>5</td>\n",
       "      <td>0.0</td>\n",
       "      <td>[email, mobile, social]</td>\n",
       "      <td>0.0</td>\n",
       "      <td>3.0</td>\n",
       "      <td>informational</td>\n",
       "      <td>1.0</td>\n",
       "      <td>0.0</td>\n",
       "      <td>1.0</td>\n",
       "      <td>1.0</td>\n",
       "    </tr>\n",
       "    <tr>\n",
       "      <th>4</th>\n",
       "      <td>0</td>\n",
       "      <td>0</td>\n",
       "      <td>1</td>\n",
       "      <td>0</td>\n",
       "      <td>78afa995795e4d85b5d9ceeca43f5fef</td>\n",
       "      <td>offer viewed</td>\n",
       "      <td>216</td>\n",
       "      <td>5a8bc65990b245e5a138643cd4eb9837</td>\n",
       "      <td>0.0</td>\n",
       "      <td>NaN</td>\n",
       "      <td>...</td>\n",
       "      <td>5</td>\n",
       "      <td>0.0</td>\n",
       "      <td>[email, mobile, social]</td>\n",
       "      <td>0.0</td>\n",
       "      <td>3.0</td>\n",
       "      <td>informational</td>\n",
       "      <td>1.0</td>\n",
       "      <td>0.0</td>\n",
       "      <td>1.0</td>\n",
       "      <td>1.0</td>\n",
       "    </tr>\n",
       "  </tbody>\n",
       "</table>\n",
       "<p>5 rows × 30 columns</p>\n",
       "</div>"
      ],
      "text/plain": [
       "   offer_completed  offer_recived  offer_viewed  transaction  \\\n",
       "0                0              1             0            0   \n",
       "1                0              0             1            0   \n",
       "2                1              0             0            0   \n",
       "3                0              1             0            0   \n",
       "4                0              0             1            0   \n",
       "\n",
       "                        customer_id            event  time  \\\n",
       "0  78afa995795e4d85b5d9ceeca43f5fef   offer received     0   \n",
       "1  78afa995795e4d85b5d9ceeca43f5fef     offer viewed     6   \n",
       "2  78afa995795e4d85b5d9ceeca43f5fef  offer completed   132   \n",
       "3  78afa995795e4d85b5d9ceeca43f5fef   offer received   168   \n",
       "4  78afa995795e4d85b5d9ceeca43f5fef     offer viewed   216   \n",
       "\n",
       "                           offer_id  amount  reward_x  ... member_since_year  \\\n",
       "0  9b98b8c7a33c4b65b9aebfe6a799e6d9     0.0       NaN  ...                 5   \n",
       "1  9b98b8c7a33c4b65b9aebfe6a799e6d9     0.0       NaN  ...                 5   \n",
       "2  9b98b8c7a33c4b65b9aebfe6a799e6d9     0.0       5.0  ...                 5   \n",
       "3  5a8bc65990b245e5a138643cd4eb9837     0.0       NaN  ...                 5   \n",
       "4  5a8bc65990b245e5a138643cd4eb9837     0.0       NaN  ...                 5   \n",
       "\n",
       "   reward_y                 channels  difficulty  duration     offer_type  \\\n",
       "0       5.0     [web, email, mobile]         5.0       7.0           bogo   \n",
       "1       5.0     [web, email, mobile]         5.0       7.0           bogo   \n",
       "2       5.0     [web, email, mobile]         5.0       7.0           bogo   \n",
       "3       0.0  [email, mobile, social]         0.0       3.0  informational   \n",
       "4       0.0  [email, mobile, social]         0.0       3.0  informational   \n",
       "\n",
       "   email  web  mobile  social  \n",
       "0    1.0  1.0     1.0     0.0  \n",
       "1    1.0  1.0     1.0     0.0  \n",
       "2    1.0  1.0     1.0     0.0  \n",
       "3    1.0  0.0     1.0     1.0  \n",
       "4    1.0  0.0     1.0     1.0  \n",
       "\n",
       "[5 rows x 30 columns]"
      ]
     },
     "execution_count": 109,
     "metadata": {},
     "output_type": "execute_result"
    }
   ],
   "source": [
    "offer_df.head()"
   ]
  },
  {
   "cell_type": "code",
   "execution_count": 110,
   "id": "ba12a2ee",
   "metadata": {},
   "outputs": [
    {
     "name": "stderr",
     "output_type": "stream",
     "text": [
      "C:\\Users\\Oscar\\AppData\\Roaming\\Python\\Python39\\site-packages\\pandas\\core\\frame.py:4906: SettingWithCopyWarning: \n",
      "A value is trying to be set on a copy of a slice from a DataFrame\n",
      "\n",
      "See the caveats in the documentation: https://pandas.pydata.org/pandas-docs/stable/user_guide/indexing.html#returning-a-view-versus-a-copy\n",
      "  return super().drop(\n"
     ]
    }
   ],
   "source": [
    "offer_df.drop(['channels', 'transaction', 'amount', 'reward_x'], axis = 1, inplace = True)"
   ]
  },
  {
   "cell_type": "markdown",
   "id": "fec20375",
   "metadata": {},
   "source": [
    "## Data Labelling:\n",
    "\n",
    "* Label las columnas - offer_id. offer_type, gender, and the unique customer_ids"
   ]
  },
  {
   "cell_type": "code",
   "execution_count": 111,
   "id": "bcb8a6b7",
   "metadata": {},
   "outputs": [
    {
     "name": "stderr",
     "output_type": "stream",
     "text": [
      "C:\\Users\\Oscar\\AppData\\Local\\Temp/ipykernel_14320/274976661.py:8: SettingWithCopyWarning: \n",
      "A value is trying to be set on a copy of a slice from a DataFrame.\n",
      "Try using .loc[row_indexer,col_indexer] = value instead\n",
      "\n",
      "See the caveats in the documentation: https://pandas.pydata.org/pandas-docs/stable/user_guide/indexing.html#returning-a-view-versus-a-copy\n",
      "  offer_df['offer_id'] = le_1.fit_transform(offer_df['offer_id'].astype(str))\n"
     ]
    }
   ],
   "source": [
    "from sklearn import preprocessing\n",
    "\n",
    "# label encoding - offer_id (10 different IDs) from the portfolio data set:\n",
    "\n",
    "le_1 = preprocessing.LabelEncoder()\n",
    "le_1.fit(portfolio['offer_id'])\n",
    "\n",
    "offer_df['offer_id'] = le_1.fit_transform(offer_df['offer_id'].astype(str))"
   ]
  },
  {
   "cell_type": "code",
   "execution_count": 112,
   "id": "c6b2e3e8",
   "metadata": {},
   "outputs": [
    {
     "name": "stderr",
     "output_type": "stream",
     "text": [
      "C:\\Users\\Oscar\\AppData\\Local\\Temp/ipykernel_14320/1096974987.py:4: SettingWithCopyWarning: \n",
      "A value is trying to be set on a copy of a slice from a DataFrame.\n",
      "Try using .loc[row_indexer,col_indexer] = value instead\n",
      "\n",
      "See the caveats in the documentation: https://pandas.pydata.org/pandas-docs/stable/user_guide/indexing.html#returning-a-view-versus-a-copy\n",
      "  offer_df['offer_type'] = le_2.fit_transform(offer_df['offer_type'].astype(str))\n"
     ]
    }
   ],
   "source": [
    "le_2 = preprocessing.LabelEncoder()\n",
    "le_2.fit(portfolio.offer_type)\n",
    "\n",
    "offer_df['offer_type'] = le_2.fit_transform(offer_df['offer_type'].astype(str))"
   ]
  },
  {
   "cell_type": "code",
   "execution_count": 114,
   "id": "78860bf4",
   "metadata": {},
   "outputs": [
    {
     "name": "stderr",
     "output_type": "stream",
     "text": [
      "C:\\Users\\Oscar\\AppData\\Local\\Temp/ipykernel_14320/2985021201.py:4: SettingWithCopyWarning: \n",
      "A value is trying to be set on a copy of a slice from a DataFrame.\n",
      "Try using .loc[row_indexer,col_indexer] = value instead\n",
      "\n",
      "See the caveats in the documentation: https://pandas.pydata.org/pandas-docs/stable/user_guide/indexing.html#returning-a-view-versus-a-copy\n",
      "  offer_df['gender'] = le_3.fit_transform(offer_df['gender'].astype(str))\n"
     ]
    }
   ],
   "source": [
    "le_3 = preprocessing.LabelEncoder()\n",
    "le_3.fit(profile['gender'])\n",
    "\n",
    "offer_df['gender'] = le_3.fit_transform(offer_df['gender'].astype(str))"
   ]
  },
  {
   "cell_type": "code",
   "execution_count": 115,
   "id": "6d177cd7",
   "metadata": {},
   "outputs": [
    {
     "name": "stderr",
     "output_type": "stream",
     "text": [
      "C:\\Users\\Oscar\\AppData\\Local\\Temp/ipykernel_14320/572928138.py:27: SettingWithCopyWarning: \n",
      "A value is trying to be set on a copy of a slice from a DataFrame.\n",
      "Try using .loc[row_indexer,col_indexer] = value instead\n",
      "\n",
      "See the caveats in the documentation: https://pandas.pydata.org/pandas-docs/stable/user_guide/indexing.html#returning-a-view-versus-a-copy\n",
      "  offer_df['customer_ids'] = id_encoded\n"
     ]
    },
    {
     "data": {
      "text/html": [
       "<div>\n",
       "<style scoped>\n",
       "    .dataframe tbody tr th:only-of-type {\n",
       "        vertical-align: middle;\n",
       "    }\n",
       "\n",
       "    .dataframe tbody tr th {\n",
       "        vertical-align: top;\n",
       "    }\n",
       "\n",
       "    .dataframe thead th {\n",
       "        text-align: right;\n",
       "    }\n",
       "</style>\n",
       "<table border=\"1\" class=\"dataframe\">\n",
       "  <thead>\n",
       "    <tr style=\"text-align: right;\">\n",
       "      <th></th>\n",
       "      <th>offer_completed</th>\n",
       "      <th>offer_recived</th>\n",
       "      <th>offer_viewed</th>\n",
       "      <th>event</th>\n",
       "      <th>time</th>\n",
       "      <th>offer_id</th>\n",
       "      <th>gender</th>\n",
       "      <th>age</th>\n",
       "      <th>became_member_on</th>\n",
       "      <th>income</th>\n",
       "      <th>...</th>\n",
       "      <th>member_since_year</th>\n",
       "      <th>reward_y</th>\n",
       "      <th>difficulty</th>\n",
       "      <th>duration</th>\n",
       "      <th>offer_type</th>\n",
       "      <th>email</th>\n",
       "      <th>web</th>\n",
       "      <th>mobile</th>\n",
       "      <th>social</th>\n",
       "      <th>customer_ids</th>\n",
       "    </tr>\n",
       "  </thead>\n",
       "  <tbody>\n",
       "    <tr>\n",
       "      <th>117225</th>\n",
       "      <td>0</td>\n",
       "      <td>1</td>\n",
       "      <td>0</td>\n",
       "      <td>offer received</td>\n",
       "      <td>168</td>\n",
       "      <td>1</td>\n",
       "      <td>1</td>\n",
       "      <td>40</td>\n",
       "      <td>2018-06-01</td>\n",
       "      <td>32000.0</td>\n",
       "      <td>...</td>\n",
       "      <td>4</td>\n",
       "      <td>3.0</td>\n",
       "      <td>7.0</td>\n",
       "      <td>7.0</td>\n",
       "      <td>1</td>\n",
       "      <td>1.0</td>\n",
       "      <td>1.0</td>\n",
       "      <td>1.0</td>\n",
       "      <td>1.0</td>\n",
       "      <td>11087</td>\n",
       "    </tr>\n",
       "    <tr>\n",
       "      <th>146394</th>\n",
       "      <td>0</td>\n",
       "      <td>1</td>\n",
       "      <td>0</td>\n",
       "      <td>offer received</td>\n",
       "      <td>504</td>\n",
       "      <td>5</td>\n",
       "      <td>0</td>\n",
       "      <td>56</td>\n",
       "      <td>2017-12-12</td>\n",
       "      <td>74000.0</td>\n",
       "      <td>...</td>\n",
       "      <td>4</td>\n",
       "      <td>0.0</td>\n",
       "      <td>0.0</td>\n",
       "      <td>3.0</td>\n",
       "      <td>2</td>\n",
       "      <td>1.0</td>\n",
       "      <td>0.0</td>\n",
       "      <td>1.0</td>\n",
       "      <td>1.0</td>\n",
       "      <td>14455</td>\n",
       "    </tr>\n",
       "    <tr>\n",
       "      <th>5786</th>\n",
       "      <td>0</td>\n",
       "      <td>1</td>\n",
       "      <td>0</td>\n",
       "      <td>offer received</td>\n",
       "      <td>408</td>\n",
       "      <td>6</td>\n",
       "      <td>0</td>\n",
       "      <td>56</td>\n",
       "      <td>2016-06-24</td>\n",
       "      <td>55000.0</td>\n",
       "      <td>...</td>\n",
       "      <td>5</td>\n",
       "      <td>5.0</td>\n",
       "      <td>5.0</td>\n",
       "      <td>7.0</td>\n",
       "      <td>0</td>\n",
       "      <td>1.0</td>\n",
       "      <td>1.0</td>\n",
       "      <td>1.0</td>\n",
       "      <td>0.0</td>\n",
       "      <td>539</td>\n",
       "    </tr>\n",
       "    <tr>\n",
       "      <th>141374</th>\n",
       "      <td>0</td>\n",
       "      <td>0</td>\n",
       "      <td>1</td>\n",
       "      <td>offer viewed</td>\n",
       "      <td>606</td>\n",
       "      <td>9</td>\n",
       "      <td>1</td>\n",
       "      <td>74</td>\n",
       "      <td>2017-11-12</td>\n",
       "      <td>89000.0</td>\n",
       "      <td>...</td>\n",
       "      <td>4</td>\n",
       "      <td>2.0</td>\n",
       "      <td>10.0</td>\n",
       "      <td>10.0</td>\n",
       "      <td>1</td>\n",
       "      <td>1.0</td>\n",
       "      <td>1.0</td>\n",
       "      <td>1.0</td>\n",
       "      <td>1.0</td>\n",
       "      <td>13875</td>\n",
       "    </tr>\n",
       "    <tr>\n",
       "      <th>106923</th>\n",
       "      <td>0</td>\n",
       "      <td>1</td>\n",
       "      <td>0</td>\n",
       "      <td>offer received</td>\n",
       "      <td>168</td>\n",
       "      <td>5</td>\n",
       "      <td>1</td>\n",
       "      <td>41</td>\n",
       "      <td>2015-10-24</td>\n",
       "      <td>100000.0</td>\n",
       "      <td>...</td>\n",
       "      <td>6</td>\n",
       "      <td>0.0</td>\n",
       "      <td>0.0</td>\n",
       "      <td>3.0</td>\n",
       "      <td>2</td>\n",
       "      <td>1.0</td>\n",
       "      <td>0.0</td>\n",
       "      <td>1.0</td>\n",
       "      <td>1.0</td>\n",
       "      <td>10100</td>\n",
       "    </tr>\n",
       "  </tbody>\n",
       "</table>\n",
       "<p>5 rows × 26 columns</p>\n",
       "</div>"
      ],
      "text/plain": [
       "        offer_completed  offer_recived  offer_viewed           event  time  \\\n",
       "117225                0              1             0  offer received   168   \n",
       "146394                0              1             0  offer received   504   \n",
       "5786                  0              1             0  offer received   408   \n",
       "141374                0              0             1    offer viewed   606   \n",
       "106923                0              1             0  offer received   168   \n",
       "\n",
       "        offer_id  gender  age became_member_on    income  ...  \\\n",
       "117225         1       1   40       2018-06-01   32000.0  ...   \n",
       "146394         5       0   56       2017-12-12   74000.0  ...   \n",
       "5786           6       0   56       2016-06-24   55000.0  ...   \n",
       "141374         9       1   74       2017-11-12   89000.0  ...   \n",
       "106923         5       1   41       2015-10-24  100000.0  ...   \n",
       "\n",
       "        member_since_year  reward_y  difficulty  duration  offer_type  email  \\\n",
       "117225                  4       3.0         7.0       7.0           1    1.0   \n",
       "146394                  4       0.0         0.0       3.0           2    1.0   \n",
       "5786                    5       5.0         5.0       7.0           0    1.0   \n",
       "141374                  4       2.0        10.0      10.0           1    1.0   \n",
       "106923                  6       0.0         0.0       3.0           2    1.0   \n",
       "\n",
       "        web  mobile  social  customer_ids  \n",
       "117225  1.0     1.0     1.0         11087  \n",
       "146394  0.0     1.0     1.0         14455  \n",
       "5786    1.0     1.0     0.0           539  \n",
       "141374  1.0     1.0     1.0         13875  \n",
       "106923  0.0     1.0     1.0         10100  \n",
       "\n",
       "[5 rows x 26 columns]"
      ]
     },
     "execution_count": 115,
     "metadata": {},
     "output_type": "execute_result"
    }
   ],
   "source": [
    "# etiquete las identificaciones únicas de los clientes, cree una función de mapeo para evitar la duplicación:\n",
    "\n",
    "def id_mapper():\n",
    "    \"\"\"\n",
    "    INPUT: \n",
    "    col_name (str): name of the column whose values are to be changed\n",
    "    \n",
    "    OUTPUT:\n",
    "    id_encoded (list): list of the mapped integers for each value\n",
    "    \n",
    "    Description:\n",
    "    This function will map integers to such '912b9f623b9e4b4eb99b6dc919f09a93' long values.\n",
    "    \n",
    "    \"\"\"\n",
    "    coded_dict = dict()\n",
    "    cter = 1\n",
    "    id_encoded = []\n",
    "    \n",
    "    for val in offer_df['customer_id']:\n",
    "        if val not in coded_dict:\n",
    "            coded_dict[val] = cter\n",
    "            cter+=1\n",
    "        \n",
    "        id_encoded.append(coded_dict[val])\n",
    "    return id_encoded\n",
    "\n",
    "id_encoded = id_mapper()\n",
    "del offer_df['customer_id']\n",
    "offer_df['customer_ids'] = id_encoded\n",
    "\n",
    "# show header\n",
    "offer_df.sample(5)"
   ]
  },
  {
   "cell_type": "code",
   "execution_count": 116,
   "id": "f9c28898",
   "metadata": {},
   "outputs": [
    {
     "data": {
      "image/png": "[encoded data removed]",
      "text/plain": [
       "<Figure size 1440x720 with 2 Axes>"
      ]
     },
     "metadata": {
      "needs_background": "light"
     },
     "output_type": "display_data"
    }
   ],
   "source": [
    "# heat map for cleaned dataset:\n",
    "\n",
    "plt.figure(figsize = [20,10])\n",
    "\n",
    "sb.heatmap(offer_df.corr(), annot = True, fmt = '.2f', cmap = 'vlag_r', center = 0)\n",
    "plt.title('Corelation between variables');"
   ]
  },
  {
   "cell_type": "code",
   "execution_count": 117,
   "id": "699473ec",
   "metadata": {},
   "outputs": [
    {
     "name": "stdout",
     "output_type": "stream",
     "text": [
      "<class 'pandas.core.frame.DataFrame'>\n",
      "RangeIndex: 148805 entries, 0 to 148804\n",
      "Data columns (total 26 columns):\n",
      " #   Column                 Non-Null Count   Dtype         \n",
      "---  ------                 --------------   -----         \n",
      " 0   offer_completed        148805 non-null  uint8         \n",
      " 1   offer_recived          148805 non-null  uint8         \n",
      " 2   offer_viewed           148805 non-null  uint8         \n",
      " 3   event                  148805 non-null  object        \n",
      " 4   time                   148805 non-null  int64         \n",
      " 5   offer_id               148805 non-null  int32         \n",
      " 6   gender                 148805 non-null  int32         \n",
      " 7   age                    148805 non-null  int64         \n",
      " 8   became_member_on       148805 non-null  datetime64[ns]\n",
      " 9   income                 148805 non-null  float64       \n",
      " 10  age_groups             148805 non-null  int64         \n",
      " 11  salary_groups          148805 non-null  int64         \n",
      " 12  member_year            148805 non-null  int64         \n",
      " 13  member_month           148805 non-null  int64         \n",
      " 14  member_day             148805 non-null  int64         \n",
      " 15  members_since_in_days  148805 non-null  int64         \n",
      " 16  member_since_year      148805 non-null  int64         \n",
      " 17  reward_y               148805 non-null  float64       \n",
      " 18  difficulty             148805 non-null  float64       \n",
      " 19  duration               148805 non-null  float64       \n",
      " 20  offer_type             148805 non-null  int32         \n",
      " 21  email                  148805 non-null  float64       \n",
      " 22  web                    148805 non-null  float64       \n",
      " 23  mobile                 148805 non-null  float64       \n",
      " 24  social                 148805 non-null  float64       \n",
      " 25  customer_ids           148805 non-null  int64         \n",
      "dtypes: datetime64[ns](1), float64(8), int32(3), int64(10), object(1), uint8(3)\n",
      "memory usage: 24.8+ MB\n"
     ]
    }
   ],
   "source": [
    "offer_df.info()"
   ]
  },
  {
   "cell_type": "markdown",
   "id": "b36bf1a3",
   "metadata": {},
   "source": [
    "## Exploratory Data Analysis for merged data (new_data) dataset:\n",
    "\n",
    "* ¿Cuáles son los tipos de Oferta entre edades, sexos y grupos de ingresos?"
   ]
  },
  {
   "cell_type": "code",
   "execution_count": 118,
   "id": "9329a1a0",
   "metadata": {},
   "outputs": [
    {
     "data": {
      "image/png": "[encoded data removed]",
      "text/plain": [
       "<Figure size 1440x360 with 2 Axes>"
      ]
     },
     "metadata": {
      "needs_background": "light"
     },
     "output_type": "display_data"
    }
   ],
   "source": [
    "# Graph for Offer types amongst ages, salary groups:\n",
    "\n",
    "plt.figure(figsize = [20,5])\n",
    "color = sb.color_palette()[0]\n",
    "\n",
    "plt.subplot(1,2,1)\n",
    "x = sb.countplot(data = new_data, x = 'age_groups', hue = 'offer_type', color = color);\n",
    "plt.title('Offer types amongst age groups');\n",
    "plt.ylabel('count');\n",
    "plt.xlabel('age groups');\n",
    "xlabels = ['100-110', '0-20', '20-30', '30-40', '40-50', '50-60', '60-70', '70-80', '80-90', '90-100']\n",
    "x.set_xticklabels(xlabels);\n",
    "plt.xticks(rotation = 90);\n",
    "\n",
    "plt.subplot(1,2,2)\n",
    "x = sb.countplot(data = new_data, x = 'salary_groups', hue = 'offer_type', color = color);\n",
    "plt.title('Offer types amongst income groups');\n",
    "plt.ylabel('count');\n",
    "plt.xlabel('salary groups');\n",
    "xlabels = ['120-130k', '0-30k', '30-40k', '40-50k', '50-60k', '60-70k', '70-80k', '80-90k', '90-100k', '100-120k']\n",
    "x.set_xticklabels(xlabels);\n",
    "plt.xticks(rotation = 90);"
   ]
  },
  {
   "cell_type": "code",
   "execution_count": 119,
   "id": "492f5b40",
   "metadata": {},
   "outputs": [
    {
     "data": {
      "image/png": "[encoded data removed]",
      "text/plain": [
       "<Figure size 720x360 with 1 Axes>"
      ]
     },
     "metadata": {
      "needs_background": "light"
     },
     "output_type": "display_data"
    }
   ],
   "source": [
    "# Graph for event types amongst gender:\n",
    "\n",
    "plt.figure(figsize = [10,5])\n",
    "color = sb.color_palette()[0]\n",
    "\n",
    "sb.countplot(data = new_data, x = 'gender', hue = 'offer_type', color = color);\n",
    "plt.title('Event types amongst gender');\n",
    "plt.ylabel('count');\n",
    "plt.xlabel('gender');"
   ]
  },
  {
   "cell_type": "markdown",
   "id": "80d61066",
   "metadata": {},
   "source": [
    "#### Podemos ver en los gráficos anteriores que Bogo es un poco más popular entre los grupos de edad, género e ingresos.\n",
    "\n",
    "El grupo de 40-50 años responde más a estas ofertas que los otros grupos\n",
    "\n",
    "Además, para income distribution, la oferta informativa ronda casi el 50% que las otras dos.\n",
    "\n",
    "La mayoría de los hombres son encuestados de estas ofertas que las mujeres con BOGO como su tipo principal\n",
    "\n",
    "En resumen, los clientes activos de Starbucks que respondieron pertenecen al grupo de edad de 40 a 50 años, con un mayor porcentaje de hombres que tienen un ingreso anual de 40 a 50 mil."
   ]
  },
  {
   "cell_type": "code",
   "execution_count": 120,
   "id": "0e9ffc88",
   "metadata": {},
   "outputs": [
    {
     "data": {
      "image/png": "[encoded data removed]",
      "text/plain": [
       "<Figure size 1080x936 with 4 Axes>"
      ]
     },
     "metadata": {
      "needs_background": "light"
     },
     "output_type": "display_data"
    }
   ],
   "source": [
    "# Graph for gender amongst event types:\n",
    "\n",
    "plt.subplots(2, 2, figsize=(15, 13))\n",
    "color = sb.color_palette()[0]\n",
    "\n",
    "plt.subplot(2,2,1)\n",
    "x = sb.countplot(data = new_data, x = 'offer_viewed', hue = 'gender', color = color);\n",
    "plt.title('gender types amongst who viewed the offer');\n",
    "plt.ylabel('count');\n",
    "plt.xlabel('offer_viewed');\n",
    "xlabels = ['no', 'yes']\n",
    "x.set_xticklabels(xlabels);\n",
    "plt.xticks(rotation = 0);\n",
    "\n",
    "plt.subplot(2,2,2)\n",
    "x = sb.countplot(data = new_data, x = 'offer_completed', hue = 'gender', color = color);\n",
    "plt.title('gender types amongst who completed the offer');\n",
    "plt.ylabel('count');\n",
    "plt.xlabel('offer_completed');\n",
    "xlabels = ['no', 'yes']\n",
    "x.set_xticklabels(xlabels);\n",
    "plt.xticks(rotation = 0);\n",
    "\n",
    "plt.subplot(2,2,3)\n",
    "x = sb.countplot(data = new_data, x = 'offer_recived', hue = 'gender', color = color);\n",
    "plt.title('gender types amongst who recived the offer');\n",
    "plt.ylabel('count');\n",
    "plt.xlabel('offer_recived');\n",
    "xlabels = ['no', 'yes']\n",
    "x.set_xticklabels(xlabels);\n",
    "plt.xticks(rotation = 0);\n",
    "\n",
    "plt.subplot(2,2,4)\n",
    "x = sb.countplot(data = new_data, x = 'transaction', hue = 'gender', color = color);\n",
    "plt.title('gender types amongst who did the transaction');\n",
    "plt.ylabel('count');\n",
    "plt.xlabel('transaction');\n",
    "xlabels = ['no', 'yes']\n",
    "x.set_xticklabels(xlabels);\n",
    "plt.xticks(rotation = 0);"
   ]
  },
  {
   "cell_type": "code",
   "execution_count": 122,
   "id": "46ac92b1",
   "metadata": {},
   "outputs": [
    {
     "data": {
      "text/html": [
       "<div>\n",
       "<style scoped>\n",
       "    .dataframe tbody tr th:only-of-type {\n",
       "        vertical-align: middle;\n",
       "    }\n",
       "\n",
       "    .dataframe tbody tr th {\n",
       "        vertical-align: top;\n",
       "    }\n",
       "\n",
       "    .dataframe thead th {\n",
       "        text-align: right;\n",
       "    }\n",
       "</style>\n",
       "<table border=\"1\" class=\"dataframe\">\n",
       "  <thead>\n",
       "    <tr style=\"text-align: right;\">\n",
       "      <th></th>\n",
       "      <th>offer_completed</th>\n",
       "      <th>offer_recived</th>\n",
       "      <th>offer_viewed</th>\n",
       "      <th>event</th>\n",
       "      <th>time</th>\n",
       "      <th>offer_id</th>\n",
       "      <th>gender</th>\n",
       "      <th>age</th>\n",
       "      <th>became_member_on</th>\n",
       "      <th>income</th>\n",
       "      <th>...</th>\n",
       "      <th>member_since_year</th>\n",
       "      <th>reward_y</th>\n",
       "      <th>difficulty</th>\n",
       "      <th>duration</th>\n",
       "      <th>offer_type</th>\n",
       "      <th>email</th>\n",
       "      <th>web</th>\n",
       "      <th>mobile</th>\n",
       "      <th>social</th>\n",
       "      <th>customer_ids</th>\n",
       "    </tr>\n",
       "  </thead>\n",
       "  <tbody>\n",
       "    <tr>\n",
       "      <th>0</th>\n",
       "      <td>0</td>\n",
       "      <td>1</td>\n",
       "      <td>0</td>\n",
       "      <td>offer received</td>\n",
       "      <td>0</td>\n",
       "      <td>6</td>\n",
       "      <td>0</td>\n",
       "      <td>75</td>\n",
       "      <td>2017-05-09</td>\n",
       "      <td>100000.0</td>\n",
       "      <td>...</td>\n",
       "      <td>5</td>\n",
       "      <td>5.0</td>\n",
       "      <td>5.0</td>\n",
       "      <td>7.0</td>\n",
       "      <td>0</td>\n",
       "      <td>1.0</td>\n",
       "      <td>1.0</td>\n",
       "      <td>1.0</td>\n",
       "      <td>0.0</td>\n",
       "      <td>1</td>\n",
       "    </tr>\n",
       "    <tr>\n",
       "      <th>1</th>\n",
       "      <td>0</td>\n",
       "      <td>0</td>\n",
       "      <td>1</td>\n",
       "      <td>offer viewed</td>\n",
       "      <td>6</td>\n",
       "      <td>6</td>\n",
       "      <td>0</td>\n",
       "      <td>75</td>\n",
       "      <td>2017-05-09</td>\n",
       "      <td>100000.0</td>\n",
       "      <td>...</td>\n",
       "      <td>5</td>\n",
       "      <td>5.0</td>\n",
       "      <td>5.0</td>\n",
       "      <td>7.0</td>\n",
       "      <td>0</td>\n",
       "      <td>1.0</td>\n",
       "      <td>1.0</td>\n",
       "      <td>1.0</td>\n",
       "      <td>0.0</td>\n",
       "      <td>1</td>\n",
       "    </tr>\n",
       "    <tr>\n",
       "      <th>2</th>\n",
       "      <td>1</td>\n",
       "      <td>0</td>\n",
       "      <td>0</td>\n",
       "      <td>offer completed</td>\n",
       "      <td>132</td>\n",
       "      <td>6</td>\n",
       "      <td>0</td>\n",
       "      <td>75</td>\n",
       "      <td>2017-05-09</td>\n",
       "      <td>100000.0</td>\n",
       "      <td>...</td>\n",
       "      <td>5</td>\n",
       "      <td>5.0</td>\n",
       "      <td>5.0</td>\n",
       "      <td>7.0</td>\n",
       "      <td>0</td>\n",
       "      <td>1.0</td>\n",
       "      <td>1.0</td>\n",
       "      <td>1.0</td>\n",
       "      <td>0.0</td>\n",
       "      <td>1</td>\n",
       "    </tr>\n",
       "    <tr>\n",
       "      <th>3</th>\n",
       "      <td>0</td>\n",
       "      <td>1</td>\n",
       "      <td>0</td>\n",
       "      <td>offer received</td>\n",
       "      <td>168</td>\n",
       "      <td>5</td>\n",
       "      <td>0</td>\n",
       "      <td>75</td>\n",
       "      <td>2017-05-09</td>\n",
       "      <td>100000.0</td>\n",
       "      <td>...</td>\n",
       "      <td>5</td>\n",
       "      <td>0.0</td>\n",
       "      <td>0.0</td>\n",
       "      <td>3.0</td>\n",
       "      <td>2</td>\n",
       "      <td>1.0</td>\n",
       "      <td>0.0</td>\n",
       "      <td>1.0</td>\n",
       "      <td>1.0</td>\n",
       "      <td>1</td>\n",
       "    </tr>\n",
       "    <tr>\n",
       "      <th>4</th>\n",
       "      <td>0</td>\n",
       "      <td>0</td>\n",
       "      <td>1</td>\n",
       "      <td>offer viewed</td>\n",
       "      <td>216</td>\n",
       "      <td>5</td>\n",
       "      <td>0</td>\n",
       "      <td>75</td>\n",
       "      <td>2017-05-09</td>\n",
       "      <td>100000.0</td>\n",
       "      <td>...</td>\n",
       "      <td>5</td>\n",
       "      <td>0.0</td>\n",
       "      <td>0.0</td>\n",
       "      <td>3.0</td>\n",
       "      <td>2</td>\n",
       "      <td>1.0</td>\n",
       "      <td>0.0</td>\n",
       "      <td>1.0</td>\n",
       "      <td>1.0</td>\n",
       "      <td>1</td>\n",
       "    </tr>\n",
       "  </tbody>\n",
       "</table>\n",
       "<p>5 rows × 26 columns</p>\n",
       "</div>"
      ],
      "text/plain": [
       "   offer_completed  offer_recived  offer_viewed            event  time  \\\n",
       "0                0              1             0   offer received     0   \n",
       "1                0              0             1     offer viewed     6   \n",
       "2                1              0             0  offer completed   132   \n",
       "3                0              1             0   offer received   168   \n",
       "4                0              0             1     offer viewed   216   \n",
       "\n",
       "   offer_id  gender  age became_member_on    income  ...  member_since_year  \\\n",
       "0         6       0   75       2017-05-09  100000.0  ...                  5   \n",
       "1         6       0   75       2017-05-09  100000.0  ...                  5   \n",
       "2         6       0   75       2017-05-09  100000.0  ...                  5   \n",
       "3         5       0   75       2017-05-09  100000.0  ...                  5   \n",
       "4         5       0   75       2017-05-09  100000.0  ...                  5   \n",
       "\n",
       "   reward_y  difficulty  duration  offer_type  email  web  mobile  social  \\\n",
       "0       5.0         5.0       7.0           0    1.0  1.0     1.0     0.0   \n",
       "1       5.0         5.0       7.0           0    1.0  1.0     1.0     0.0   \n",
       "2       5.0         5.0       7.0           0    1.0  1.0     1.0     0.0   \n",
       "3       0.0         0.0       3.0           2    1.0  0.0     1.0     1.0   \n",
       "4       0.0         0.0       3.0           2    1.0  0.0     1.0     1.0   \n",
       "\n",
       "   customer_ids  \n",
       "0             1  \n",
       "1             1  \n",
       "2             1  \n",
       "3             1  \n",
       "4             1  \n",
       "\n",
       "[5 rows x 26 columns]"
      ]
     },
     "execution_count": 122,
     "metadata": {},
     "output_type": "execute_result"
    }
   ],
   "source": [
    "offer_df.head()"
   ]
  },
  {
   "cell_type": "code",
   "execution_count": null,
   "id": "4c87ac28",
   "metadata": {},
   "outputs": [],
   "source": []
  },
  {
   "cell_type": "code",
   "execution_count": null,
   "id": "b75d7830",
   "metadata": {},
   "outputs": [],
   "source": []
  }
 ],
 "metadata": {
  "kernelspec": {
   "display_name": "Python 3 (ipykernel)",
   "language": "python",
   "name": "python3"
  },
  "language_info": {
   "codemirror_mode": {
    "name": "ipython",
    "version": 3
   },
   "file_extension": ".py",
   "mimetype": "text/x-python",
   "name": "python",
   "nbconvert_exporter": "python",
   "pygments_lexer": "ipython3",
   "version": "3.9.12"
  }
 },
 "nbformat": 4,
 "nbformat_minor": 5
}
